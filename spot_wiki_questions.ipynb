{
 "cells": [
  {
   "cell_type": "markdown",
   "id": "f39ac5d1-33d7-4053-934b-a51818869369",
   "metadata": {},
   "source": [
    "**1. What is a network?**"
   ]
  },
  {
   "cell_type": "markdown",
   "id": "337d6a2f-a3a6-4a82-9145-cdba88b9fad7",
   "metadata": {},
   "source": [
    "A network is formed when a multiple devices, such as computers, servers, printers etc.) are connected via a network bridging device (like a hub or switch).  The devices are all connected to this bridging device via network cables or wireless signals and are able to communicate and exchange data.  Each device, or node, has a unique address called an IP address that is used to identify it on the network."
   ]
  },
  {
   "cell_type": "markdown",
   "id": "8c3da09a-34a9-4a83-912a-106619c69779",
   "metadata": {},
   "source": [
    "**2. What is the Internet?**"
   ]
  },
  {
   "cell_type": "markdown",
   "id": "f49588e5-ef05-45bf-afb4-492df0ecab35",
   "metadata": {},
   "source": [
    "The internet is a network of networks or a vast number of networks connected together.  A network is formed when at least two devices connect to communicate or exchange data.  The internet consists of a large number of small, localized networks, such as LANs.  In between all of these sub-networks are systems of routers that direct network traffic.  The internet is a comprised of both the network infrastructure that facilitates this interconnectivity, which includes routers, switches, cables etc., and the protocols that enable that infrastructure to function / govern its functionality. "
   ]
  },
  {
   "cell_type": "markdown",
   "id": "982cf93d-4e79-49fd-9fdb-1c00fe05bfd7",
   "metadata": {},
   "source": [
    "**3. Is the Internet the same thing as a network?**"
   ]
  },
  {
   "cell_type": "code",
   "execution_count": null,
   "id": "4e03b0f4-8ad4-4310-b05b-71e5fd9649bf",
   "metadata": {},
   "outputs": [],
   "source": []
  },
  {
   "cell_type": "markdown",
   "id": "8996b8b4-bce8-457f-ae8f-d4e95a16ae4f",
   "metadata": {},
   "source": [
    "**4. What is WEB (world wide web)**"
   ]
  },
  {
   "cell_type": "markdown",
   "id": "2d4a1357-9876-44f1-adc8-9f1a05105306",
   "metadata": {},
   "source": [
    "The World Wide Web is a service made up of a collection of interconnected documents and resources that can be accessed via the internet.  It is a system of resources which can be seached using a Uniform Resource Locator (URL) through web browsers like Google Chrome.  HTTP is the protocol most often used by applications to interact with the resources that make up the Web and HTML is the means by which the resouces on the Web are structured."
   ]
  },
  {
   "cell_type": "markdown",
   "id": "dd492b5a-b051-487b-a64e-febf9c54891b",
   "metadata": {},
   "source": [
    "**5. What is the difference between network, Internet, and WEB?**"
   ]
  },
  {
   "cell_type": "markdown",
   "id": "39d161e9-7121-40fa-aeaf-67434d49caca",
   "metadata": {},
   "source": [
    "A network is a collection of connected devices, such as computers, servers, printers, and other devices, that can communicate with each other and share resources.\n",
    "\n",
    "The internet is a global network of networks that connects millions of devices worldwide. It allows people to access information, communicate with others, and share data across different networks and devices.\n",
    "\n",
    "The web, short for World Wide Web, is a collection of interconnected documents and resources, accessed through the internet, that are formatted in a specific way using languages such as HTML, CSS, and JavaScript. It enables users to navigate and access content, such as web pages, multimedia, and other online resources, through web browsers like Google Chrome, Firefox, or Safari.\n",
    "\n",
    "In summary, a network is a local collection of connected devices, the internet is a global network of networks, and the web is a subset of the internet that consists of interconnected documents and resources accessed through web browsers."
   ]
  },
  {
   "cell_type": "markdown",
   "id": "1df44447-961b-4e59-8104-45352d60355b",
   "metadata": {},
   "source": [
    "**6. What are LAN and WLAN?**"
   ]
  },
  {
   "cell_type": "markdown",
   "id": "d7c89f67-1a13-440f-9356-07730b33fcf1",
   "metadata": {},
   "source": [
    "A Local Area Network (LAN) is formed when a multiple devices, such as computers, servers, printers etc.) are connected via a network bridging device (like a hub or switch) within a small geographic area, such as a hoem or office. The devices are all connected to this bridging device via Ethernet cables and are able to communicate and exchange data. A Wireless Local Area Network (WLAN) is any local network that allows wireless connections, such as Wi-Fi or Bluetooth.  LANs and WLANs differ in the medium through which the devicesare connected to the network."
   ]
  },
  {
   "cell_type": "markdown",
   "id": "49e8b5de-ea83-4f45-a725-8f482db94710",
   "metadata": {},
   "source": [
    "**7. What is a protocol?**"
   ]
  },
  {
   "cell_type": "markdown",
   "id": "075b038e-7f5a-4f1f-bc59-f82aff383327",
   "metadata": {},
   "source": [
    "A protocol is a system of rules that govern how data is transmitted, and received between devices on a network.  A single request-response cycle typically uses multiple protocols.  The different protocols each provide a different service and operate at different network layers.\n",
    "\n",
    "- **Application Layer**: HTTP (FTP, SMTP ...)\n",
    "- **Session Layer**: TLS for TCP (DTLS for UDP)\n",
    "- **Transport Layer**: TCP or UDP\n",
    "- **Network / Internet Layer**: IP (IPv4, IPv6)\n",
    "- **Data Link / Link Layer**: Ethernet (Wi-Fi, Bluetooth)"
   ]
  },
  {
   "cell_type": "markdown",
   "id": "b1f0cb4c-fc8a-413e-8521-78d752234b28",
   "metadata": {},
   "source": [
    "**8. What is the role of protocols?**"
   ]
  },
  {
   "cell_type": "markdown",
   "id": "68e13226-d31e-4c25-a863-7bb293dcdb78",
   "metadata": {},
   "source": [
    "The role of protocols is to govern how data is transmitted and received at each layer of our network communication model.  For example, the Internet Protocol (IP) facilitates communication between hosts on different networks while the Transmission Control Protocol (TCP) provides for the transfer of messages between processes/applications running on different hosts.  Protocols are essential for network communication because, without them, the many and varied devices on a network would not have a uniform communication method."
   ]
  },
  {
   "cell_type": "markdown",
   "id": "8c49fd8f-9624-4130-b625-1fdf1e74ff11",
   "metadata": {},
   "source": [
    "**9. Why there are many different types of protocols?**"
   ]
  },
  {
   "cell_type": "markdown",
   "id": "1e36e1fc-b13a-4c9f-a95e-d52d3bc3d018",
   "metadata": {},
   "source": [
    "There are many different types of protocols because different protocols address different aspects of network communication.  Whereas the Ethernet protocols governs communication between devices on a local network, the Internet Protocol (IP) enables inter-network or \"network to network\" communication.  There are also protocols that were developed to address the same aspect of network communication, but do so in different ways.  For example, TCP and UDP both enable end-to-end communication between applications on different devices.  However, UDP is a connectionless system that relied on one network socket for all communication, whereas TCP is a connection-oriented system that instantiates a new socket object for each incoming message and creates a dedicated virtual connection between two processes running on separate devices."
   ]
  },
  {
   "cell_type": "markdown",
   "id": "f9466694-3356-4ed5-960e-9754876747b0",
   "metadata": {},
   "source": [
    "**10. What does it mean that a protocol is stateless?**"
   ]
  },
  {
   "cell_type": "markdown",
   "id": "32f926cb-101b-4343-b05b-94db8660de33",
   "metadata": {},
   "source": [
    "A protocol is a stateless when it cannot persist information in either a request or a response.  This means that each Request/Response cycle is independent of Request and Responses that came before or those that come after.  Stateless protocols provide several benefits such as resilience and speed because the server doesn't need to retain any information between each request/response cycle."
   ]
  },
  {
   "cell_type": "markdown",
   "id": "de107503-9e03-4a27-a025-81c136a71baa",
   "metadata": {},
   "source": [
    "**11. Explain briefly what are OSI and TCP/IP models? What is the purpose of having models like that?**"
   ]
  },
  {
   "cell_type": "markdown",
   "id": "30e583de-273d-4745-8f80-c7cf70c9d0af",
   "metadata": {},
   "source": [
    "The OSI and TCP/IP are two different network communication models.  Each model modularizes the end-to-end process of network communication into several layers.  This modular approach allows us to hone in on a particular layer and understand what is happening at that level of the system while also giving a more general view of how all layers work together.\n",
    "\n",
    "The Internet Protocol Suite divides the layers in terms of the scope of communications within each layer (within a local network, between networks, etc). The OSI model divides the layers in terms of the functions that each layer provides (physical addressing, logical addressing and routing, encryption, compression, etc)."
   ]
  },
  {
   "cell_type": "markdown",
   "id": "1224941d-e932-4a2f-aaa7-0641a270b3be",
   "metadata": {},
   "source": [
    "**12. What is PDU? What is its role?**"
   ]
  },
  {
   "cell_type": "markdown",
   "id": "a4709163-bd58-4fe5-b3f9-c43a39998ab7",
   "metadata": {},
   "source": [
    "A Protocol Data Unit (PDU) is a block of data that gets transported over the network by the governing protocol of its layer.  Data encapsulation is implemented through the use of PDUs.  The PDU at one layer becomes the data payload of the PDU at the layer below.  For example, a Segment at the Transport layer will become the data payload of a Packet at the IP / Network layer.   "
   ]
  },
  {
   "cell_type": "markdown",
   "id": "aab9ffab-3db0-40da-a33f-a822916cd24b",
   "metadata": {},
   "source": [
    "**13. What is Data Payload?**"
   ]
  },
  {
   "cell_type": "markdown",
   "id": "cfee6791-bd64-406f-8b5b-b0cc25b747eb",
   "metadata": {},
   "source": [
    "The data payload is simply the data that we want to transport over the network using a specific protocol at a particular network layer.  The data payload is the key to the way encapsulation is implemented in network communication because the PDU from a protocol at one layer is set as the data payload fro a protocol at the layer below."
   ]
  },
  {
   "cell_type": "markdown",
   "id": "8f125c29-b8f4-408a-9bd7-58a3409fc92f",
   "metadata": {},
   "source": [
    "**14. What is the relationship between PDU and Data Payload?**"
   ]
  },
  {
   "cell_type": "code",
   "execution_count": null,
   "id": "a6e47ccc-5c1e-45fe-89a7-5a269e865b8e",
   "metadata": {},
   "outputs": [],
   "source": []
  },
  {
   "cell_type": "markdown",
   "id": "02caa080-093b-4f7b-9e72-94bca8e86632",
   "metadata": {},
   "source": [
    "**15. Explain How lower-level protocols work in general?**"
   ]
  },
  {
   "cell_type": "markdown",
   "id": "e0022d90-73b9-4e82-b282-666dc394680e",
   "metadata": {},
   "source": [
    "The Ethernet Protocol is the governing protocol at the Data Link / Link layer.  It enables communicaiton between devices in a local network or \"node-to-node\" communication.  The PDU at this layer is called an Ethernet Frame and provides two main functions: Framing and Addressing.  The Frame takes the data from the physical layer, which is essentially a stream of bits, and add logical structure to it.  This strucuture defines which bits are the data payload and which are the metadata to be used in the process of transporting the frame.  The Frame also identifies the next network node or physical address to which the data should be sent on the local network by using the MAC address of the receiving device on the same physical network.  (The source and destination MAC addresses are contained in a Frame's header).\n",
    "\n",
    "The Internet Protocol is the predominant protocol that governs communication at the Network / Internet layer.  Whereas the Ethernet protocol provides communication between devices on the same network, IP enables communication between devices on hosts on different networks.  The IP Protocol helps navigate to the correct logical address by identifying the IP address of the receiving device on a different netwok.  The Packet is the PDU within the Internet Protocol.  The IP Protocol uses the Packet's source and destinates IP addresses in its header to direct the data payload (the encapsulated PDU from the Transport layer) between one device and nother across networks.\n",
    "\n",
    "Together, these protocols enable communication between devices on different networks, with Ethernet handling the local network connections and IP handling the inter-network connections."
   ]
  },
  {
   "cell_type": "markdown",
   "id": "cb0602d4-5b0c-4313-b3c1-f57084ae87fe",
   "metadata": {},
   "source": [
    "**16. What is encapsulation in the context of networking?**"
   ]
  },
  {
   "cell_type": "markdown",
   "id": "93c60eda-f71e-4cb2-b841-4c4930e2f986",
   "metadata": {},
   "source": [
    "Data encapsulation in the context of network communication refers means that we are essentially hiding data from one layer by encapsulating it within a data unit of the layer below.  That is, the entire PDU from one layer forms the data paylload of the PDU at the layer below.  We package the PDU at a higher layer with the metadata of a protocol at the current layer, forming a PDU."
   ]
  },
  {
   "cell_type": "markdown",
   "id": "b3b41a2c-d030-4f8d-83e4-067b4788ca47",
   "metadata": {},
   "source": [
    "**17. Why do we need encapsulation?**"
   ]
  },
  {
   "cell_type": "markdown",
   "id": "04f52090-4ae4-445e-bba2-c303838f2788",
   "metadata": {},
   "source": [
    "The major benefit of encapsulation is that it creates a separation or abstraction between the protocols at different layers.  Encapsulation is a way to enclose data and make it inaccessible to the layer beneath it.  This means that a protocol at one layer doesn't need to know about how a protocol within another layer is implemented in order for those protocols to interact.  It creates a system where a lower layer effectively provides a service to the layer above it by encapsulating its PDU as a data payload and  providing instructions for how to transmit that payload through the metadata in its header.  \n",
    "\n",
    "This is especially important when there are multiple protocols that operate within a layer.  For example, the Application layer can be governed by the HTTP, FTP or SMTP protocol depending on the type of Data or Message.  The TCP segment in the Transportation layer below doesn't need to what type of PDU it encapsulates, it just knows it needs to encapsulate the PDU from the layer above and provide the result of this encapsulation to the layer below."
   ]
  },
  {
   "cell_type": "markdown",
   "id": "9b304fff-e379-432d-b25f-44e09df431ae",
   "metadata": {},
   "source": [
    "**18. What are the characteristics of a physical network?**"
   ]
  },
  {
   "cell_type": "markdown",
   "id": "8c7a3db4-d424-452b-8c66-f3a4964c72ba",
   "metadata": {},
   "source": [
    "The physical network is the most foundational level of the network communication model.  The functionality at this level is concerned with the transfer of binary data in the form of electrical signals, light and radio waves across a wire or wirelessly.  The physical limitations of networked communication, latency and bandwidth, come as a result of the unavoidable physical laws that govern this layer."
   ]
  },
  {
   "cell_type": "markdown",
   "id": "92f1642a-077a-41e0-a43d-03542914ca54",
   "metadata": {},
   "source": [
    "**19. How can we as developers deals with the limitations of physical network?**"
   ]
  },
  {
   "cell_type": "code",
   "execution_count": null,
   "id": "c0b895e9-3a46-4d3c-9e31-c0d8ec2c11b7",
   "metadata": {},
   "outputs": [],
   "source": []
  },
  {
   "cell_type": "markdown",
   "id": "f39f7e83-1a10-42fe-ab14-9476c50ff9c5",
   "metadata": {},
   "source": [
    "**20. What is Latency?**"
   ]
  },
  {
   "cell_type": "markdown",
   "id": "61a80308-a617-4665-8a93-1489b2907c94",
   "metadata": {},
   "source": [
    "Latency is a measure of delay that measures the time it takes for data to get from one point in a network to another in a network.  It is determined by real physical laws, such as the distance traveled and the speed of the signal traveling (i.e. speed of light, sound, or electricity).  Latency is the sum the propogration delay, transmission delay, processing delay and queuing delay."
   ]
  },
  {
   "cell_type": "markdown",
   "id": "c3c8e0bd-ae8f-426a-9ffa-f76b335a638b",
   "metadata": {},
   "source": [
    "**21. What is Bandwidth?**"
   ]
  },
  {
   "cell_type": "markdown",
   "id": "8cba46d7-24a4-4045-8979-4ec744842a85",
   "metadata": {},
   "source": []
  },
  {
   "cell_type": "markdown",
   "id": "f5f3556c-26a3-432d-821e-80ed5d43fe6f",
   "metadata": {},
   "source": [
    "**22. What are Network 'Hops'?**"
   ]
  },
  {
   "cell_type": "markdown",
   "id": "6e42bf39-c49f-408a-883f-2ceb85e639a6",
   "metadata": {},
   "source": []
  },
  {
   "cell_type": "markdown",
   "id": "9c8d5030-9f65-4e9d-a36c-8c8a12362de3",
   "metadata": {},
   "source": [
    "**23. What is the relationship between network 'Hops' and latency?**"
   ]
  },
  {
   "cell_type": "code",
   "execution_count": null,
   "id": "de11e9a9-2ef4-4605-b7e1-f3d056635e0e",
   "metadata": {},
   "outputs": [],
   "source": []
  },
  {
   "cell_type": "markdown",
   "id": "73eb510c-b9cd-46a1-864f-596c1ab74f30",
   "metadata": {},
   "source": [
    "**24. What is a switch and what is it used for?**"
   ]
  },
  {
   "cell_type": "code",
   "execution_count": null,
   "id": "6dfb17d0-f598-45dd-98c8-9fda496f16fe",
   "metadata": {},
   "outputs": [],
   "source": []
  },
  {
   "cell_type": "markdown",
   "id": "bb4f9598-c097-468a-a531-3c8b0c1eb809",
   "metadata": {},
   "source": [
    "**25. What is a hub and what is it used for?**"
   ]
  },
  {
   "cell_type": "code",
   "execution_count": null,
   "id": "cfaea1b5-7735-4307-81fe-38197014d40d",
   "metadata": {},
   "outputs": [],
   "source": []
  }
 ],
 "metadata": {
  "kernelspec": {
   "display_name": "",
   "name": ""
  },
  "language_info": {
   "name": ""
  }
 },
 "nbformat": 4,
 "nbformat_minor": 5
}
