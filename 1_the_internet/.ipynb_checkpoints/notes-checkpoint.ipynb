{
 "cells": [
  {
   "cell_type": "markdown",
   "id": "4124cdbb-542f-4b10-bde0-0cef01e6b3c0",
   "metadata": {},
   "source": [
    "# The Internet"
   ]
  },
  {
   "cell_type": "markdown",
   "id": "c80e12ae-2eeb-416f-a725-41f971227f4c",
   "metadata": {},
   "source": [
    "## Introduction"
   ]
  },
  {
   "cell_type": "markdown",
   "id": "f73df03e-0505-4512-add2-e47ab01e9531",
   "metadata": {},
   "source": [
    "- Build a mental model of communication between networked applications as the interaction of multiple different protocols (systems of rules).  "
   ]
  },
  {
   "cell_type": "markdown",
   "id": "eb5400cd-33da-46ee-9b36-6c93a47f0bf1",
   "metadata": {},
   "source": [
    "## What to Focus On"
   ]
  },
  {
   "cell_type": "markdown",
   "id": "998c737f-a070-40df-8cfe-63966fcacc19",
   "metadata": {},
   "source": [
    "- **Build a general picture of the network infrastructure**. Understand protocols operating at higher levels of abstraction, such as TCP and HTTP.\n",
    "- **Be aware of the limitations of the physical network**.  Higher level protocols, such as TCP and HTTP, rely on the underlying network infrastructure in order to function.  As such, they are bound by the limitations of that infrastructure, such as network bandwidth and latency.\n",
    "- **Understand that protocols are systems of rules**.\n",
    "- **Learn that IP enables communication between devices**."
   ]
  },
  {
   "cell_type": "markdown",
   "id": "f5f41494-e218-4db4-b852-4b863eff2065",
   "metadata": {},
   "source": [
    "## What is the Internet?"
   ]
  },
  {
   "cell_type": "markdown",
   "id": "e4f86d3f-4eef-4f5a-8304-df11434c655a",
   "metadata": {},
   "source": [
    "[Khan Academy: What is the Internet?](https://www.khanacademy.org/partner-content/code-org/internet-works/v/what-is-the-internet)\n",
    "\n",
    "- A **network is two devices connected in such a way that they can communicate or exchange data**.\n",
    "- A primitive implementation of this would be connecting two computers directly to each other using a LAN cable, and configuring their network settings in such a way that they form a distinct network.\n",
    "![two computers](two-computers.png)\n",
    "- **Local Area Network (LAN)** - A much more common scenario, such as in an office environment, would be multiple computers and other devices connected via a network bridging device such as a hub or, more likely, a switch. The computers are all connected to this device via network cables, and this forms the network.\n",
    "<img src='LAN-with-switch.png' width=300>\n",
    "- Your home network follows the same principle, but the central device will likely be a wireless hub or switch so that the devices can connect wirelessly rather than being plugged in via a cable. This implementation is known as **WLAN** or **Wireless LAN**.\n",
    "- **The scope of communications is limited to devices that are connected (either wired or wirelessly) to the network switch or hub, which imposes some geographic limitations.** (That's the 'local' in Local Area Network.)<br><br>\n",
    "- **Inter-network Communication** - In order to enable communication between networks, we need to add routers into the picture. \n",
    "- **Routers are network devices that can route network traffic to other networks. Within a Local Area Network, they effectively act as gateways into and out of the network.**\n",
    "\n",
    "<img src='LANs-with-routers.png' width=500><br><br>\n",
    "- **A Network of Networks** - We can imagine the internet as a vast number of these networks connected together. In between all of the sub-networks are systems of routers that direct the network traffic.\n",
    "<img src='multiple-networks-routers.png' width=500>"
   ]
  },
  {
   "cell_type": "markdown",
   "id": "207c4d79-99a2-45cf-aae0-ab656de5214e",
   "metadata": {},
   "source": [
    "## Protocols"
   ]
  },
  {
   "cell_type": "markdown",
   "id": "792b818d-7415-4f9c-ac1d-d6606304300b",
   "metadata": {},
   "source": [
    "- Think of **Protocols as a *system of rules*.  A set of rules that govern the exchange or transmission of data.**\n",
    "- Some of the most widely used protocols:\n",
    "    - IP\n",
    "    - SMTP\n",
    "    - TCP\n",
    "    - HTTP\n",
    "    - Ethernet\n",
    "    - FTP\n",
    "    - DNS\n",
    "    - UDP\n",
    "    - TLS<br><br>\n",
    "- Main reasons why there are so many different protocols for network communication:\n",
    "    1. Different protocols were developed to address different aspects of network communication.\n",
    "    2. Different protocols were developed to address the same aspect of network communication but differently for a specific use case.<br><br>\n",
    "- **Protocols for Different Aspects of Communication**\n",
    "    - Syntactical rules that govern the structure of the message (ex. order of words within that message)\n",
    "    - The flow and order of all the messages; the message transfer rules for how to conduct speech (ex. may need to speak in turn rather than simultaneously)<br><br>\n",
    "- **Different Protocols for the Same Aspect of Communication**\n",
    "    - Various situations where different sets of message transfer rules are or aren't appropriate:\n",
    "        - If a student wants to ask the teacher a question in a classroom\n",
    "        - A social conversation between friends\n",
    "        - giving a presentation at a conference\n",
    "    - These situations are concerned with the same aspect of communication: the flow and order of the message transfer. However, they use different sets of rules or protocols.<br><br>\n",
    "- **TCP** and **UDP** would be examples of two protocols that address the same fundamental aspect of communication, the transfer of messages between applications, but do so differently. \n",
    "- **TCP** and **HTTP** are examples of two protocols that address different aspects of communication; TCP provides for the transfer of messages between applications, while HTTP defines the structure of those messages."
   ]
  },
  {
   "cell_type": "markdown",
   "id": "a2f0c299-4791-4b9e-8387-fae149e8a0b3",
   "metadata": {
    "toc-hr-collapsed": true
   },
   "source": [
    "## A Layered System"
   ]
  },
  {
   "cell_type": "markdown",
   "id": "ce4da90d-8c99-4c85-9165-913a14f6e594",
   "metadata": {},
   "source": [
    "- We can think of those protocol groups as functioning within **layers** of an overall system of communication.\n",
    "-  Example of verbal human communication:\n",
    "\n",
    "![layered system](layered_system.png)\n",
    "\n",
    "- By modularizing it and structuring it into a layered system, we can zoom in on a particular layer to more clearly understand what is happening at that level of the system.\n",
    "- The two most popular models for computer network communication are:\n",
    "    - the OSI model\n",
    "    - the Internet Protocol Suite (also known as the TCP/IP model or DoD model)<br><br>\n",
    "- The top layer of the Internet Protocol Suite (Application) mostly maps to the top three layers of the OSI Model (Application, Presentation, Session).\n",
    "- The second layer of the Internet Protocol Suite (Transport) mostly maps to the fourth layer of the OSI model (Transport)\n",
    "- The third layer of the Internet Protocol Suite (Internet) mostly maps to the fifth layer of the OSI model (Network)\n",
    "- The fourth layer of the Internet Protocol Suite (Link) mostly maps to the bottom two layers of the OSI model (Data Link and Physical)\n",
    "\n",
    "<img src='osi-tcp-ip-comparison.png' width=500>\n",
    "\n",
    "- The Internet Protocol Suite divides the layers in terms of the **scope of communications** within each layer (within a local network, between networks, etc). \n",
    "- The OSI model divides the layers in terms of the **functions that each layer provides** (physical addressing, logical addressing and routing, encryption, compression, etc).\n",
    "\n",
    "### Data Encapsulation\n",
    "\n",
    "- One concept used by most network communication models, is the idea of data encapsulation. \n",
    "- Encapsulation in the context of programming refers to the hiding the internal representation of an object and preventing it from being accessed from outside the object.\n",
    "- In network models we are essentially **hiding data from one layer by encapsulating it within a data unit of the layer below.**\n",
    "\n",
    "#### Protocol Data Units\n",
    "\n",
    "- Within our network models, a Protocol Data Unit (PDU) is **an amount or block of data transferred over a network.**\n",
    "- Different protocols or protocol layers refer to PDUs by different names. \n",
    "    - At the Link/ Data Link layer, a PDU is known as a **frame**. \n",
    "    - At the Internet/ Network layer it is known as a **packet**. \n",
    "    - At the Transport layer, it is known as a **segment (TCP)** or **datagram (UDP)**.\n",
    "- Basic concept is effectively the same: **the PDU consists of a header, a data payload, and in some cases a trailer or footer**\n",
    "\n",
    "<img src='layered-system-pdu.png' width=500>\n",
    "\n",
    "#### Header and Trailer\n",
    "\n",
    "- The exact structure of the header and, if included, trailer varies from protocol to protocol, but the purpose of them is the same in each case: **to provide protocol-specific metadata about the PDU**.\n",
    "- For example, an Internet Protocol (IP) packet header would include fields for the Source IP Address and the Destination IP Address, which would be used to correctly route the packet.\n",
    "\n",
    "#### Data Payload\n",
    "\n",
    "- The data payload portion of a PDU is simply **the data that we want to transport over the network using a specific protocol at a particular network layer**.\n",
    "- The data payload is the key to the way encapsulation is implemented. \n",
    "- The entire PDU from a protocol at one layer is set as the data payload for a protocol at the layer below. \n",
    "- For example, a HTTP Request at the Application layer could be set as the payload for a TCP segment at the transport layer.\n",
    "\n",
    "<img src='layered-system-encapsulation.png' width=500 >\n",
    "\n",
    "- The major benefit of this approach is the separation it creates between the protocols at different layers. \n",
    "- **This means that a protocol at one layer doesn't need to know anything about how a protocol at another layer is implemented in order for those protocols to interact.**\n",
    "- It creates a system whereby a lower layer effectively provides a 'service' to the layer above it.\n",
    "- A TCP segment isn't really concerned whether its data payload is an HTTP request, an SMTP command, or some other sort of Application layer data. It just knows it needs to encapsulate some data from the layer above and provide the result of this encapsulation to the layer below.\n",
    "- This separation of layers provides a certain level of abstraction, which allows us to use different protocols at a certain layer without having to worry about the layers below. "
   ]
  },
  {
   "cell_type": "markdown",
   "id": "ec1088eb-7d5a-458c-a6a7-a96212973610",
   "metadata": {
    "toc-hr-collapsed": true
   },
   "source": [
    "## The Physical Network"
   ]
  },
  {
   "cell_type": "markdown",
   "id": "f6d991fa-bdb0-4658-b03d-255908d77eef",
   "metadata": {
    "tags": [],
    "toc-hr-collapsed": true
   },
   "source": [
    "### Bits and Signals\n",
    "\n",
    "- The OSI model defines a Physical layer as the bottommost layer of its model (Layer 1). \n",
    "- The Internet Protocol Suite doesn't really concern itself directly with physical interfaces, though it does include some physical functions in the Link layer. \n",
    "- The functionality at this level is essentially concerned with the **transfer of bits (binary data)**.\n",
    "- In order to be transported, these bits are converted into **signals**. Depending on the transportation medium used, bits are converted to \n",
    "    - electrical signals, \n",
    "    - light signals, or \n",
    "    - radio waves.\n",
    "\n",
    "[Wires, Cables and Wifi](https://www.khanacademy.org/computing/code-org/computers-and-the-internet/internet-works/v/the-internet-wires-cables-and-wifi)\n",
    "\n",
    "### Characteristics of a Physical Network\n",
    "\n",
    "- The two main characteristics in terms of the performance of a physical network are Latency and Bandwidth.\n",
    "- **Latency** - a measure of the time it takes for some data to get from one point in a network to another point in a network.\n",
    "    - Imagine a single lane road with a car traveling along it from one town to another. \n",
    "    - The distance between the towns is 10 miles, and the maximum speed that the car can travel along the road is 50 miles an hour. \n",
    "    - It would take the car 12 minutes to travel from town A to town B. \n",
    "    - We can therefore say that the road has a latency of 12 minutes.\n",
    "- **Bandwidth** -  is the amount of data that can be sent in a particular unit of time (typically, a second).\n",
    "    - If we add more lanes to the road, more cars can travel along it at once. \n",
    "    - This increases the bandwidth of the road. All the cars travel at 50 miles per hour, so it still takes each car 12 minutes to travel from town A to town B. \n",
    "    - The latency of the road is still 12 minutes.<br><br>\n",
    "- **Just increasing the bandwidth doesn't necessarily improve the performance of a network**.\n",
    "\n",
    "#### The Elements of Latency\n",
    "\n",
    "- We can think of latency as a **measure of delay**\n",
    "- The difference between the start and end point is the delay.\n",
    "- There are actually different types of delay that go together to determine the overall latency of a network connection:<br><br>\n",
    "    - **Propagation delay**: this is the amount of time it takes for a message to travel from the sender to the receiver, and can be calculated as the ratio between distance and speed. Propagation delay is basically what was explained by our car analogy earlier.\n",
    "    - **Transmission delay**: the amount of time it takes to push the data onto the link.\n",
    "        - the data will travel across many different wires and cables that are all inter-connected by switches, routers, and other network devices. Each of these elements within the network can be thought of as an individual 'link' within the overall system.\n",
    "        - In terms of our driving analogy, you can think of it as the time taken to navigate an intersection or interchange between different roads. \n",
    "    - **Processing delay**: Data travelling across the physical network doesn't directly cross from one link to another, but is processed in various ways .  \n",
    "        - Imagine if at every interchange there was some sort of checkpoint; the amount of time it takes to be processed at the checkpoint is the processing delay.\n",
    "    - **Queuing delay**: The amount of time the data is waiting in the queue to be processed is the queuing delay.\n",
    "        - If there is more data than the device can handle, then it queues, or buffers, the data. \n",
    "        - This would be the time spent in a queue of traffic waiting to cross the checkpoint.<br><br>\n",
    "- **The total latency between two points, such as a client and a server, is the sum of all the delays above. This value is usually given in milliseconds (ms).**<br><br>\n",
    "- Other latency terms:\n",
    "    - **Last-mile latency**: relates to the delays involved in getting the network signal from your ISP's network to your home or office network.\n",
    "        - You can think of the network edge as the 'entry point' into a network like a home or corporate LAN.\n",
    "    - **Round-trip Time (RTT)**: he length of time for a signal to be sent, added to the length of time for an acknowledgement or response to be received.<br><br>\n",
    "- **Network Hops** - The journey of a piece of data on the network isn't direct from the start point to the end point but will consist of several 'hops', or journeys, between nodes on the network. \n",
    "    - You can think of the nodes as routers that process the data and forward it to the next node on the path.\n",
    "    - `traceroute google.com` - `traceroute` is a utility for displaying the route and latency of a path across a network. Running the command should return a list of hops taken for the test data to get from your PC or laptop to the Google server. \n",
    "    \n",
    "#### Bandwidth\n",
    "\n",
    "- Bandwidth varies across the network, and isn't going to be at a constant level between the start point and the end point of our data's journey.\n",
    "- The bandwidth that a connection receives is the lowest amount at a particular point in the overall connection. \n",
    "- A point at which bandwidth changes from relatively high to relatively low is generally referred to as a **bandwidth bottleneck**.\n",
    "\n",
    "#### Limitations of the Physical Networks\n",
    "\n",
    "- As developers and software engineers, there's really not a lot we can do about the limitations of the physical network itself.\n",
    "- Our influence is limited to the implementation of the application in terms of how we use the higher-level protocols."
   ]
  },
  {
   "cell_type": "markdown",
   "id": "e1f650b2-be6b-47d6-869c-a44aef032ceb",
   "metadata": {
    "toc-hr-collapsed": true
   },
   "source": [
    "## The Link/ Data Link Layer"
   ]
  },
  {
   "cell_type": "markdown",
   "id": "428f19aa-ee62-46ab-bc4f-ad89617e81db",
   "metadata": {
    "jp-MarkdownHeadingCollapsed": true,
    "tags": []
   },
   "source": [
    "- The protocols operating at this layer are primarily concerned with the **identification of devices on the physical network and moving data over the physical network between the devices that comprise it, such as hosts (e.g. computers), switches, and routers**.\n",
    "- Within the OSI model, the Data Link layer is Layer 2 and comes in between the Physical layer (1) and the Network layer (3). \n",
    "- Within the Internet Protocol Suite, the Link layer is layer 1, since this model doesn't define a specific layer for the physical network. \n",
    "- We can think of what happens at this layer as **an interface between the workings of the physical network and the more logical layers above**.<br><br>\n",
    "- The most commonly used protocol at this layer is the Ethernet protocol. \n",
    "- These are network cables used to connect devices on the network such as computers, switches, and routers. \n",
    "- Two of the most important aspects of Ethernet are **framing** and **addressing**.\n",
    "\n",
    "### Ethernet Frames\n",
    "\n",
    "- Ethernet Frames are a Protocol Data Unit, and encapsulate data from the Internet/ Network layer above.\n",
    "- The Link/ Data Link layer is the lowest layer at which encapsulation takes place. \n",
    "- At the physical layer, the data is essentially a stream of bits in one form or another without any logical structure. \n",
    "- An Ethernet Frame adds logical structure to this binary data.\n",
    "- The data in the frame is still in the form of bits, but the structure defines which bits are actually the data payload, and which are metadata to be used in the process of transporting the frame.<br><br>\n",
    "- An Ethernet-compliant network device is able to identify the different parts of a frame due to the fact that different 'fields' of data have specific lengths in bytes and appear in a set order.\n",
    "\n",
    "![data-link-layer-frame-structure](data-link-layer-frame-structure.png)\n",
    "\n",
    "- **Preamble and SFD**: *seven bytes (56 bits) long*\n",
    "    - The Preamble and Start of Frame Delimiter (SFD/ SOF) generally aren't considered part of the actual frame but are sent just prior to the frame as a synchronization measure which notifies the receiving device to expect frame data and then identify the start point of that data.\n",
    "- **Source and Destination MAC address**:  *six bytes (48 bits) long*\n",
    "    - The source address is the address of the device which created the frame.  \n",
    "    - The destination MAC address is the address of the device for which the data is ultimately intended.\n",
    "- **Length**: *two bytes (16 bits) long*\n",
    "    - It is used to indicate the size of the Data Payload.\n",
    "- **DSAP, SSAP, Control**: *one byte (8 bits) in length*\n",
    "    - The DSAP and SSAP fields identify the Network Protocol used for the Data Payload. \n",
    "    - The Control field provides information about the specific communication mode for the frame, which helps facilitate flow control.\n",
    "- **Data Payload**: *between 42 and 1497 bytes in length*\n",
    "    - Contains the data for the entire Protocol Data Unit (PDU) from the layer above, an IP Packet for example.\n",
    "- **Frame Check Sequence (FCS)** *four bytes (32 bits) long*:\n",
    "    - This is a checksum generated by the device which creates the frame. \n",
    "    - It is calculated from the frame data using an algorithm such as a cyclic redundancy check. \n",
    "    - The receiving device uses the same algorithm to generate a FCS and then compares this to the FCS in the sent frame. \n",
    "    - If the two don't match, then the frame is dropped.<br><br>\n",
    "- **The key components to remember are the Source and Destination MAC address and the Data Payload.**\n",
    "\n",
    "### Interframe Gap\n",
    "\n",
    "- This gap is a brief pause between the transmission of each frame, which permits the receiver to prepare to receive the next frame.\n",
    "- This Interframe gap contributes to the Transmission Delay element of latency we looked at in the previous assignment.\n",
    "\n",
    "### Differences Between Ethernet Standards\n",
    "\n",
    "- The fields listed above describe the structure of a frame under the IEEE 802.3 Ethernet standard\n",
    "- Other versions of Ethernet have slightly different framing structures.\n",
    "- The main elements to focus on are:\n",
    "    - **the Data Payload field being used as an encapsulation mechanism for the layer above**\n",
    "    - **and the MAC Address fields being used to direct the frame between network devices.** \n",
    "- These particular fields exist across all the different Ethernet standards.\n",
    "\n",
    "### MAC Addresses\n",
    "\n",
    "- A **hub** is a basic piece of network hardware that replicates a message and forwards it to all of the devices on the network. \n",
    "- This is fine if you want to send a particular message to the entire network. Most of the time this is not the case and the message is intended for a specific device. \n",
    "- This is where **addressing** comes in.\n",
    "- Every network-enabled device is assigned a MAC Address when it is manufactured.\n",
    "- Since this address is linked to the specific physical device, and (usually) doesn't change, it is sometimes referred to as the **physical address** or **burned-in address**.\n",
    "- MAC Addresses are formatted as a sequence of six two-digit hexadecimal numbers, e.g. `00:40:96:9d:68:0a`<br><br>\n",
    "- In our hub scenario, each receiving device would check its MAC Address against the Destination MAC Address in the Frame to check if it was the intended recipient.  If it wasn't, then it would just ignore the frame.\n",
    "-  It is rare that you'll find a network that uses a hub; most modern networks instead use switches. \n",
    "- Like a hub, a switch is a piece of hardware to which you connect devices to create a network. \n",
    "- Unlike a hub however, a switch uses the destination address in order to direct a frame only to the device for which it is intended.\n",
    "- A switch directs the frames to the correct device by keeping and updating a record of the MAC addresses of the devices connected to it, and associating each address with the Ethernet port to which the device is connected on the switch. \n",
    "\n",
    "### A Problem of Scale\n",
    "\n",
    "- This approach isn't scalable due to certain characteristics of MAC addresses:\n",
    "    - They are physical rather than logical. Each MAC Address is tied (burned in) to a specific physical device\n",
    "    - They are flat rather than hierarchical. The entire address is a single sequence of values and can't be broken down into sub-divisions."
   ]
  },
  {
   "cell_type": "markdown",
   "id": "fc7fe6d5-c7b4-4bdd-a98a-c13ad39febd6",
   "metadata": {
    "toc-hr-collapsed": true
   },
   "source": [
    "## The Internet/ Network Layer"
   ]
  },
  {
   "cell_type": "markdown",
   "id": "c5fa41cd-ff67-43a9-a1a4-b286d4882a68",
   "metadata": {},
   "source": [
    "- In the OSI model the Network layer is layer 3 (between the Data Link and Transport layers). \n",
    "- In the Internet Protocol Suite, the Internet layer is layer 2 (between the Link layer and the Transport layer). \n",
    "- Within both models, the primary function of protocols at this layer is **to facilitate communication between hosts (e.g. computers) on different networks**.\n",
    "- The Internet Protocol (IP) is the predominant protocol used at this layer for inter-network communication. There are two versions of IP currently in use: IPv4 and IPv6.\n",
    "- The primary features of both versions are the same:\n",
    "    - Routing capability via IP addressing\n",
    "    - Encapsulation of data into packets\n",
    "\n",
    "### Data Packets\n",
    "\n",
    "- The Protocol Data Unit (PDU) within the IP Protocol is referred to as a packet. \n",
    "- A packet is comprised of a Data Payload and a Header.\n",
    "- Just as with Ethernet Frames, the Data Payload of an IP Packet is the PDU from the layer above (the Transport layer).\n",
    "- It will generally be a TCP segment or a UDP datagram. \n",
    "- The Header is split into logical fields which provide metadata used in transporting the packet. Again, as with Ethernet Frames, the data in the IP Packet is in bits.\n",
    "\n",
    "<img src='network-layer-ip-packet-structure.png' width=500>\n",
    "\n",
    "- Header fields:\n",
    "\n",
    "    - **Version**: this indicates the version of the Internet Protocol used, e.g. IPv4\n",
    "    - **ID, Flags, Fragment Offset**: these fields are related to fragmentation. If the Transport layer PDU is too large to be sent as a single packet, it can be fragmented, sent as multiple packets, and then reassembled by the recipient.\n",
    "    - **TTL**: every packet has a Time to Live (TTL) value. This is to ensure that any packets which don't reach their destination for some reason aren't left to endlessly bounce around the network. The TTL indicates the maximum number of network 'hops' a packet can take before being dropped. At each hop, the router which processes and forwards the packet will decrement the TTL value by one.\n",
    "    - **Protocol**: this indicates the protocol used for the Data Payload, e.g. TCP, UDP, etc.\n",
    "    - **Checksum**: this is an error checking value generated via an algorithm. The destination device generates a value using the same algorithm and if it doesn't match, it drops the packet. IP doesn't manage retransmission of dropped packets. This is left to the layers above to implement.\n",
    "    - **Source Address**: the 32-bit IP address of the source (sender) of the packet\n",
    "    - **Destination Address**: the 32-bit IP address of the destination (intended recipient) of the packet\n",
    "    \n",
    "### IP Addresses (IPv4)\n",
    "\n",
    "- Unlike MAC Addresses, IP Addresses are logical in nature. This means that they are not tied to a specific device, but can be assigned as required to devices as they join a network.\n",
    "- IPv4 addresses are 32 bits in length and are divided into four sections of eight bits each. \n",
    "- When converted from binary to decimal, each of those sections provides a range of numbers between 0 and 255.  For example `109.156.106.57`.<br><br>\n",
    "- A basic example of this hierarchy in action would be if all the addresses in the range `109.156.106.0` to `109.156.106.255` were assigned to a single local network. \n",
    "- Each network defines the address at the start of the range, e.g. 109.156.106.0, as the network address, and the address at the end of the range, e.g. 109.156.106.255, as the broadcast address. \n",
    "- Addresses between the network and broadcast address, 109.156.106.1 to 109.156.106.254, can be allocated to individual devices on the network.<br><br>\n",
    "- The network address of the range is used to identify a specific network segment. \n",
    "- What this means is that a router that wants to forward an IP packet to any address in the entire range only needs to keep a record of which router on the network controls access to the segment with that network address. \n",
    "- This logic is what creates the hierarchical structure, and means that routers don't need to keep records of every single device within an addressable range.\n",
    "\n",
    "<img src=\"network-layer-packet-routed-via-ip.png\" width=500>\n",
    "\n",
    "- This splitting of a network into parts is referred to as sub-netting. \n",
    "- It is the hierarchical structure of IP Addresses that allows networks to be logically split into subnets.\n",
    "\n",
    "### Routing and Routing Tables\n",
    "\n",
    "- All routers on the network store a local routing table. \n",
    "- When an IP packet is received by a router, the router examines the destination IP address and matches it against a list of network addresses in its routing table.\n",
    "- As explained above, these network addresses define a range of addresses within a particular subnet.\n",
    "- The matching network address will determine where in the network hierarchy the subnet exists. This will then be used to select the best route for the IP packet to travel.\n",
    "\n",
    "### IPv6\n",
    "\n",
    "- Since IPv6 uses 128-bit addresses (eight 16-bit blocks), this increases the theoretical number of possible addresses to approximately 340 undecillion\n",
    "- As well as a difference in address structure, IPv6 has some other differences with IPv4 such as a different header structure for the packet and a lack of error checking"
   ]
  }
 ],
 "metadata": {
  "kernelspec": {
   "display_name": "Ruby 2.7.5",
   "language": "ruby",
   "name": "ruby"
  },
  "language_info": {
   "file_extension": ".rb",
   "mimetype": "application/x-ruby",
   "name": "ruby",
   "version": "2.7.5"
  }
 },
 "nbformat": 4,
 "nbformat_minor": 5
}
