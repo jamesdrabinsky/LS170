{
 "cells": [
  {
   "cell_type": "markdown",
   "id": "793cdd66-dfca-4304-b73d-c3b20cb1be27",
   "metadata": {},
   "source": [
    "# What is the Internet?"
   ]
  },
  {
   "cell_type": "markdown",
   "id": "d630d538-15ac-420a-b9bc-aa2e98aa7627",
   "metadata": {},
   "source": [
    "The internet is a network of networks or a vast number of networks connected together.  A network is formed when at least two devices connect to communicate or exchange data.  The internet consists of a large number of small, localized networks, such as LANs.  In between all of these sub-networks are systems of routers that direct network traffic.  The internet is a comprised of both the network infrastructure that facilitates this interconnectivity, which includes routers, switches, cables etc., and the protocols that enable that infrastructure to function / govern its functionality. "
   ]
  },
  {
   "cell_type": "markdown",
   "id": "d882dfeb-a959-4a6a-aab5-373053a9b277",
   "metadata": {},
   "source": [
    "# How does the Internet work?"
   ]
  },
  {
   "cell_type": "markdown",
   "id": "dda762e6-08db-491f-a39d-5249841dc700",
   "metadata": {},
   "source": [
    "Network communication uses a layered model to modularize different levels of responsibility within the system.  Each layer is governed by a different protocol; a system of rules that dictate the transmission of data at that layer and allows it to perform a service to encapsulated data from the layer above.  This data encapsulation is implemented through the use of Protocol Data Units (PDUs).  The PDU at one layer becomes the data payload of the PDU of a protocol at the lower layer.\n",
    "\n",
    "**Application Layer**\n",
    "\n",
    "The top layer in the TCP/IP model of network communication is the Application layer, which is governed by the Hypertext Transfer Protocol or HTTP. HTTP is a request-respsonse protocol that is concerned with structuring the messages that are exchanged between applications.  The PDU at this layer, referred to as a Message, can contain many different things depending on what application is running and what protocol is used to encapsulate the message. \n",
    "\n",
    "**URL**\n",
    "\n",
    "When you type a URL into the address bar, such as `https://www.reddit.com/subreddits`, you're triggering a HTTP `GET` request in which the client (usually some kind of browser) makes a request through the network for some kind of resource that's stored on the server. Your browser will parse the URL in order to extract its components.  The scheme `https` tells the web client that we want to use the HTTP protocol (over TLS) which will determine how messages exchange between client and server are structure.  The host `www.reddit.com` tells the client where the resource is located and the path `/subreddits` shows what local resource is being requested from the host.\n",
    "\n",
    "\n",
    "**DNS**\n",
    "\n",
    "The host `www.reddit.com` is an alias for the remote address, which consists of an IP address and a port. The hostname is a human-readable version of the server location and can be used to look up the IP address of the server on the Domain Name System, which is a distributed database that maps domain names to IP addresses.  If your device already has a record of the domain name in its DNS cache, it will used this cached address.  Otherwise, a DNS request will be made to the DNS to obtain the IP address for the domain.  If the DNS server that receives the request doesn't have the correct domain name, it will route the request up the hierarchical system until it finds it.\n",
    "\n",
    "**Transport Layer**<br>\n",
    "(***connection-oriented vs. connectionless***)?\n",
    "\n",
    "Once the IP address is retrieve, it is combined with the port number (an optional component in the URL) to create a socket.  The socket allows protocols operating in the Transport layer to faciliate reliable, end-to-end communication between processes running on separate devices across the network.  The main protocols used at this level are Transmission Control Protocol (TCP) and User Datagram Protocol (UDP).  \n",
    "\n",
    "Segments is the PDU that operates with the TCP protocol.  The Data/Message from the Application layer above is encapsulated as the data payload  in this PDU.  The source and desitination port numbers are contained within the header of a Segment are used to transmit multiple data inputs across a single channel, a process that is called multiplexing.   These data inputs are then separated and routed to their correct destination ports on the other end, a process that is called demultiplexing.\n",
    "\n",
    "TCP uses the three-way handshake to establish a dedicated and reliable connection between processes over the network. This handshakes provides network reliability by handling data loss through message acknowledgement, usings the acknowledgment number Segment header field, and ensuring in-order deliver and de-duplication, using the sequence number Segment header field.  TCP ensures reliable data transfer between applications on top of the unreliable channel of the lower-level protocols, but it also contributes to the overall latency of the trip due to its complexity, and can cause head-of-line block due to the in-order delivery of segments which can potentially lead to increased queuing delay.\n",
    "\n",
    "UDP is a simple protocol compared to TCP.  It still provides multiplexing and demultiplexing, but does not provide the reliability features of TCP.  Instead, UDP provides speed becuase it doesn't take the time to establish a dedicated connection, it has no in-order delivery which negates the latency caused by head-of-line blocking, and the lack of acknowledgements creates a one-way data flow that cuts down on the latency causes by extra round trips.\n",
    "\n",
    "**Internet / Network Layer**\n",
    "\n",
    "Each TCP segment is then sent to the internet layer where it is encapsulated in a PDU that is called a packet.  The Internet Protocol (IP) governs the transmission of data at this layer, and its primary function is to facilitate inter-network or end to end communication between devices on different networks using the IP address retrieved from the DNS.  IP Addesses have two main features that allow for inter-network communication across a large distributed system: they are logical; they can be assigned to devices as required when they join a network instead of being tied to a specific device, and they are hierchical; the structure of the address allows us to categorize them itno searchable subdivisions (subnets).  \n",
    "\n",
    "The IP packet is responsible for routing the data payload across a series of network \"hops\" between various routers until it arrives at the destination network containing the destination IP address.  The source and destination fields contained in the Packet's header allow it to identify the logical path it travels across the network.\n",
    "\n",
    "**Data Link / Link Layer**\n",
    "\n",
    "The Data Link layer takes the packet from the Network layer and prepares it for transmission over the physical layer by encapsulating it into a PDU that is called a Frame.  The Ethernet Protocol is the most commonly used protocol at the Data Link layer and governs communication between devices in a local network.  It is responsible for navigating the correct physical address, rather than the logical one that an IP Packet provides.  For this reason, it acts as an interface between the physical infrastructure below it and the more logical layers above (nework, transport, application etc.).\n",
    "\n",
    "An Ethernet Frame provides framing which adds logical structure to the streams of bits traveling through the physical infrastructure of the network.  It does this by defining which bits are part of the data payload and which are metadata used in the process of transporting the frame.  An Ethernet Frame also provides addressing to identify the next network \"node\" to which data should be sent  using the source and destination MAC address in the Frame header.  A MAC address is the manufacturer's  ID that is linked to athe specific physical device .Switches will read and process each Frame, and send them to the appropriate device on the network that has the Frame's destination MAC address.\n",
    "\n",
    "**Physical Layer**\n",
    "\n",
    "The Ethernet Frame is then handed to the Physical layer, the most foundational level on top of which all other layers rest.  This layer is the tangible infrastructure (switches, routers, cables etc.) that transmits data as bits that are converted into either electrical signals, light and radio waves across a coaxial or fiberoptic wire or a wireless medium, like Wi-Fi.  The physical limitations of networked communication, latency and bandwidth, all come as a result of unavoidable physical laws that govern this layer.\n",
    "\n",
    "**Server side**\n",
    "\n",
    "Once our data is transported to it's destination host, a `reddit.com` server, the data will go through each layer of networked communication in reverse and be decapsulated until the original message, the data within the HTTP request, can be processed at the Application layer.<br>\n",
    "***Fill in details on the steps from Physical layer to Application layer***\n",
    "\n",
    "**HTTP Response**\n",
    "\n",
    "At the transport layer, the segments are reassembled into the HTTP request and then the server processes the request at the Application layer adnb generates an HTTP response.  An HTTP response is a text-based message from the server to the client that responds to the client's request.  If the request was successful, the response will contain a status line with a 200 level status code indicating that the request was handled successfully and the source has been transmitted and the response body which consists of the raw data for the request resources (which will be rendered in the appropriate format by your browser).  If the requested cannot be found the response will contain a status line with a 400 level or 500 level status code indicating either a client or server-side error has occured."
   ]
  }
 ],
 "metadata": {
  "kernelspec": {
   "display_name": "",
   "name": ""
  },
  "language_info": {
   "name": ""
  }
 },
 "nbformat": 4,
 "nbformat_minor": 5
}
