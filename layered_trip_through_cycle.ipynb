{
 "cells": [
  {
   "cell_type": "markdown",
   "id": "793cdd66-dfca-4304-b73d-c3b20cb1be27",
   "metadata": {},
   "source": [
    "# What is the Internet?"
   ]
  },
  {
   "cell_type": "markdown",
   "id": "d630d538-15ac-420a-b9bc-aa2e98aa7627",
   "metadata": {},
   "source": [
    "The internet is a network of networks or a vast number of networks connected together.  A network is formed when at least two devices connect to communicate or exchange data.  The internet consists of a large number of small, localized networks, such as LANs.  In between all of these sub-networks are systems of routers that direct network traffic.  The internet is a comprised of both the network infrastructure that facilitates this interconnectivity, which includes routers, switches, cables etc., and the protocols that enable that infrastructure to function / govern its functionality. "
   ]
  },
  {
   "cell_type": "markdown",
   "id": "d882dfeb-a959-4a6a-aab5-373053a9b277",
   "metadata": {},
   "source": [
    "# How does the Internet work?"
   ]
  },
  {
   "cell_type": "markdown",
   "id": "dda762e6-08db-491f-a39d-5249841dc700",
   "metadata": {},
   "source": [
    "Network communication uses a layered model to modularize different levels of responsibility within the system.  Each layer is governed by a different protocol; a system of rules that dictate the transmission of data at that layer and allows it to perform a service to encapsulated data from the layer above.\n",
    "\n",
    "When you type a URL into the address bar, such as `google.com`, you're triggering a HTTP `GET` request in which the client (usually some kind of browser) makes a request through the network for some kind of resource that's stored on the server. The top layer in the TCP/IP model of network communication is the Application layer, which is governed by the Hypertext Transfer Protocol or HTTP. HTTP is a request-repsonse protocol that is concerned with structuring the messages that are exchanged between applications.\n",
    "\n",
    "(*look at URL parsing from Julientte's blog*)"
   ]
  },
  {
   "cell_type": "code",
   "execution_count": null,
   "id": "c59667c2-9f55-49e0-813b-23c1a23b261e",
   "metadata": {},
   "outputs": [],
   "source": []
  }
 ],
 "metadata": {
  "kernelspec": {
   "display_name": "",
   "name": ""
  },
  "language_info": {
   "name": ""
  }
 },
 "nbformat": 4,
 "nbformat_minor": 5
}
