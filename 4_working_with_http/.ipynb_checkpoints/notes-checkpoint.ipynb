{
 "cells": [
  {
   "cell_type": "markdown",
   "id": "1013827e-cfcf-4697-82d2-c3c2a6b8fec1",
   "metadata": {},
   "source": [
    "# Working with HTTP"
   ]
  },
  {
   "cell_type": "markdown",
   "id": "f70766cc-33bb-45af-9eec-c61b1526d63d",
   "metadata": {},
   "source": [
    "## What to Focus On\n",
    "\n",
    "- **Focus on HTTP**: The focus of this lesson is still very much HTTP, and how it enables network communication between a client and a server.\n",
    "- **HTTP is concerned with the structure of messages**: HTTP is a set of rules concerned with the syntax and structure of messages exchanged between applications. \n",
    "    - Working with HTTP is ultimately about understanding what those rules mean, and knowing how and when to apply them.\n",
    "- **HTTP is a Request-Response protocol**: One of the fundamental aspects of HTTP is its Request-Response behavior."
   ]
  },
  {
   "cell_type": "markdown",
   "id": "123c95c7-a376-44c2-b9b8-51617e782747",
   "metadata": {},
   "source": [
    "## Using Telnet to explore HTTP\n",
    "\n",
    "- HTTP is a text based protocol and underneath everything that happens is just text moving between the client and server.\n",
    "- `nc -v google.com 80`: connect to `google.com` server on port `80`\n",
    "- `GET /`: request the homepage\n",
    "- `HTTP/1.0 200 OK`: response code and status.  `HTTP 1.0` is the version of http that the server is using.\n",
    "- The information below are headers; a set of metadata that contains additional information about the response that doesn't actually go in the response body itself.\n",
    "    - The `Content-Type` header is required most of the time and tells the browser or whatever the client is how to interpret the body of the response.  A browser will display the response visually.\n",
    "    - A response can have any number of headers and that the headers themselves can contain a wide variety of different values based on what header it is and based on the information that is being passed for the value of the header.\n",
    "    - The body contains HTML code that a browser would use to display the search page on `google.com`\n",
    "```\n",
    "Date: Tue, 28 Mar 2023 21:30:12 GMT\n",
    "Expires: -1\n",
    "Cache-Control: private, max-age=0\n",
    "Content-Type: text/html; charset=ISO-8859-1\n",
    "Content-Security-Policy-Report-Only: object-src 'none';base-uri 'self';script-src 'nonce-C-h8BMm--o_4NGmBnBncEQ' 'strict-dynamic' 'report-sample' 'unsafe-eval' 'unsafe-inline' https: http:;report-uri https://csp.withgoogle.com/csp/gws/other-hp\n",
    "P3P: CP=\"This is not a P3P policy! See g.co/p3phelp for more info.\"\n",
    "Server: gws\n",
    "X-XSS-Protection: 0\n",
    "X-Frame-Options: SAMEORIGIN\n",
    "Set-Cookie: 1P_JAR=2023-03-28-21; expires=Thu, 27-Apr-2023 21:30:12 GMT; path=/; domain=.google.com; Secure\n",
    "Set-Cookie: AEC=AUEFqZfN45gxu22DoWloHXGnWcVqG0rz-cGgzn9y1g748xm6fTd5EZd7opQ; expires=Sun, 24-Sep-2023 21:30:12 GMT; path=/; domain=.google.com; Secure; HttpOnly; SameSite=lax\n",
    "Set-Cookie: NID=511=MqJGARbrSSfbYUusreymYAkAf0U5tAf5F9dgYbHjupU7j0oQ5Lg-xec3AxHVBwEbUuJTnnngoPWcon8kB0FElAu4kubx-GtuYdWHy4iAcHkFFDXrZElFgXGK2oybbZai0IIFz_SI1euX2QoKYc15ZFv3qVQ9fdpMFrUuNoNqVgs; expires=Wed, 27-Sep-2023 21:30:12 GMT; path=/; domain=.google.com; HttpOnly\n",
    "Accept-Ranges: none\n",
    "Vary: Accept-Encoding\n",
    "```"
   ]
  },
  {
   "cell_type": "markdown",
   "id": "8a821443-ae44-434b-ac5e-c5b88dcc3473",
   "metadata": {},
   "source": [
    "## Speaking the Same Language\n",
    "\n",
    "- In the video from the previous assignment, the request that we sent to `google.com` was very simple: `GET /`\n",
    "- The server at `google.com` was able to interpret this as an HTTP request because the request followed certain syntactical rules, and the server was familiar with those rules. \n",
    "- The client making the request and the server receiving the request can speak the same language, and so are able to communicate.<br><br>\n",
    "- There have been a number of different versions of HTTP since its inception, and each of those versions have slightly different rules.\n",
    "- The structure of the request line we used for our request `GET /` follows the syntactical rules for HTTP 0.9 which only required the method and path in the request line.\n",
    "- The response itself is formatted according to HTTP 1.0 syntax since it includes headers.<br><br>\n",
    "- When making a request to `launchschool.com`, be sure to specify the HTTP version or the server may not respond: `GET / HTTP/1.1`.  This is because the web server does not support unspecified HTTP versions.\n",
    "- The reponse looks like this:\n",
    "```\n",
    "HTTP/1.1 400 Bad Request\n",
    "Cache-Control: no-cache, no-store\n",
    "Content-Type: text/html; charset=utf-8\n",
    "Date: 2023-03-28 21:44:52.514243727 +0000 UTC\n",
    "Server: heroku-router\n",
    "Content-Length: 0\n",
    "```\n",
    "- 4xx level response codes indicate an error or issue on the client side, i.e. with the request. \n",
    "- A `400` error is a general indication that there is a problem with the structure of the request; in other words the server did not understand the request due to its syntax. \n",
    "- This is basically the server saying to the client 'I don't understand what you just asked me'.<br><br>\n",
    "- In versions of HTTP subsequent to 0.9, the request line must include the HTTP version, and so the server at `launchschool.com` is expecting this to be included in the request: `GET / HTTP/0.9`\n",
    "- The response will look like this:\n",
    "```\n",
    "HTTP/1.1 505 HTTP Version Not Supported\n",
    "Connection: close\n",
    "Server: Cowboy\n",
    "Date: Thu, 04 Jul 2019 11:13:59 GMT\n",
    "Content-Length: 0\n",
    "```\n",
    "- 5xx level response codes indicate an error or issue on server side. This time the request was valid, and the server was able to understand it, but it replies to the client that it cannot communicate using the version of HTTP that the client wants to use.<br><br>\n",
    "- Using a different HTTP version that the server should support: `GET / HTTP/1.1`\n",
    "- We still get a `400` response.\n",
    "- The specification for HTTP 1.1 states: `A client MUST send a Host header field in all HTTP/1.1 request messages.`\n",
    "- Because we have specified that we want to use HTTP 1.1, the server is expecting a `Host` header in the request:\n",
    "```\n",
    "GET / HTTP/1.1\n",
    "Host: launchschool.com\n",
    "\n",
    "```\n",
    "- We get a `301 Move Permanently` response code.\n",
    "- Unlike 4xx and 5xx response codes, 3xx codes don't indicate an error. Instead they are generally used in relation to redirection, and indicate to the client that it must take some additional action in order to complete the request. \n",
    "- In this case, the server is set up to redirect all `http` requests to `https`. \n",
    "- The response includes a `Location` header which tells the client where it can now find the resource it originally requested. \n",
    "- If the client were a browser, rather than a terminal window using `telnet`, it would automatically issue a new request to the location indicated in the Location header. \n",
    "-  Rather than closing the TCP connection the server sets it to `keep-alive`; it does this since it is expecting another HTTP request from the client as a result of the `301` response."
   ]
  },
  {
   "cell_type": "markdown",
   "id": "d4d62c95-4df4-4f54-8397-0505d585531c",
   "metadata": {},
   "source": [
    "## Implementing Our Own HTTP Server: Project Overview\n",
    "\n",
    "- HTTP is essentially a set of rules for structuring messages between two participants in a message exchange. \n",
    "- It's up to the participants, for example a web browser and web server, to implement those rules. \n",
    "-  Ultimately it is the way that the rules are implemented which determines whether or not a message can be interpreted and also how messages are interpreted. "
   ]
  },
  {
   "cell_type": "markdown",
   "id": "24a62939-e7f0-49ab-9fe2-045e9adbbe97",
   "metadata": {},
   "source": [
    "## Implementing Our Own HTTP Server: Basic Program Structure"
   ]
  },
  {
   "cell_type": "markdown",
   "id": "9bc4232c-6d98-4aaa-8e94-5afc3b3c52c9",
   "metadata": {},
   "source": [
    "- The intention of our HTTP server is to conduct some processing of messages received from the client, and, based on certain rules that we define within the logic of the HTTP server program, issue an appropriate response.\n",
    "-  Create a directory named `simple_http_server`. Within that directory create a file named `http_server.sh` and paste in the code provided.\n",
    "```\n",
    "#!/bin/bash\n",
    "\n",
    "function server () {\n",
    "\n",
    "}\n",
    "\n",
    "coproc SERVER_PROCESS { server; }\n",
    "\n",
    "netcat -lv 2345 <&${SERVER_PROCESS[0]} >&${SERVER_PROCESS[1]}\n",
    "```\n",
    "- On lines 3-5, we are defining a function called `server`. The body of the function is currently empty, this is where we will add the processing logic for our HTTP server program.\n",
    "- On line 7 we are executing the `coproc` command. The coproc command is used to set up a coprocess: it allows us to run our `server` function asynchronously alongside our `netcat` command. \n",
    "- We are naming this process SERVER_PROCESS and telling it to execute the server function.\n",
    "- On line 9 we are executing the netcat command.\n",
    "    -  The first part of this line `netcat -lv 2345` executes `netcat` in listen and verbose mode, and sets it to listen for incoming connections on port 2345.\n",
    "    - The second part allows for any input that `netcat` receives (for example a request message from a client) to be accessed within the `server` function using the `read` command, and anything that the server function outputs using `echo` will be output by `netcat`."
   ]
  },
  {
   "cell_type": "markdown",
   "id": "d7d4a859-d587-45c9-8161-69f28c8d60b5",
   "metadata": {},
   "source": [
    "## Implementing Our Own HTTP Server: Sending a Simple Responses"
   ]
  },
  {
   "cell_type": "markdown",
   "id": "b95d20d4-2c7e-4def-9e96-006fa57f5dd4",
   "metadata": {},
   "source": [
    "- The aim of this assignment is for our server to be able to receive some input via `netcat` and then use that input as a part of a response. Use the following steps to implement this functionality:\n",
    "    - Create a loop within server that will run indefinitely\n",
    "    - Within the loop, assign any input received to a variable named message\n",
    "    - Also within the loop, output the string You said: followed by the value of message.\n",
    "```\n",
    "#!/bin/bash\n",
    "\n",
    "function server () {\n",
    "  while true\n",
    "  do\n",
    "    read message\n",
    "    echo \"You said: $message\"\n",
    "  done\n",
    "}\n",
    "\n",
    "coproc SERVER_PROCESS { server; }\n",
    "\n",
    "netcat -lvp 2345 <&${SERVER_PROCESS[0]} >&${SERVER_PROCESS[1]}\n",
    "```\n",
    "- You can test your solution by executing http_server.sh in one terminal window, connecting to the server in separate 'client' window, `netcat -v localhost 2345`, and sending some messages."
   ]
  },
  {
   "cell_type": "markdown",
   "id": "f7fbb1da-dcd3-4c3e-b919-9094e670f8a2",
   "metadata": {},
   "source": [
    "## Implementing Our Own HTTP Server: Processing the Request\n",
    "\n",
    "- We've added some structure to our client-server exchange by sending a response for every message received. \n",
    "- We're still not really doing any meaningful processing of the received message on the server side, or imposing any kind of syntactic rules about how the message has to be structured.<br><br>\n",
    "- We want to impose the following rules on any messages received:\n",
    "    1. The messages, or requests, should consist of one line comprised of three parts: request method, path, HTTP version.\n",
    "    2. The method should be GET since our server only responds to GET requests.\n",
    "- Use the following steps to implement this functionality:\n",
    "    1. Remove the current echo line\n",
    "    2. Amend the read line to read the input to three variables: method, path, version.\n",
    "    3. Below the read line create an if statement. It should test whether the method variable is equal to GET (we're not too interested in the path or the version at this stage).\n",
    "    4. If the method is equal to GET then output the string HTTP/1.1 200 OK\n",
    "    5. Add an else branch to the if statement that outputs the string HTTP/1.1 400 Bad Request"
   ]
  },
  {
   "cell_type": "markdown",
   "id": "90580c4a-ac36-4ccc-9748-973ba927e07d",
   "metadata": {},
   "source": [
    "## Implementing Our Own HTTP Server: Serving HTML\n",
    "\n",
    "- In the previous assignment we imposed some structure on any incoming requests and provided a meaningful response. \n",
    "- We're going to add a body to our response, and the content of that body will be taken from the HTML file that the request is for."
   ]
  },
  {
   "cell_type": "markdown",
   "id": "74bb1874-90aa-4550-b588-963659fdfbe2",
   "metadata": {},
   "source": [
    "## Implementing Our Own HTTP Server: Working with the Browser\n",
    "\n",
    "- Currently, our 'client' application is a terminal window running `netcat/ nc`.\n",
    "- The requests it sends are one line messages, and it simply outputs the raw response it receives from the server to the screen. \n",
    "- In this context, the processing that we are doing on the server side is sufficient, and there is no processing at all occurring on the client side."
   ]
  },
  {
   "cell_type": "code",
   "execution_count": null,
   "id": "59537e3f-5d42-46d2-bd84-e205fef15a2b",
   "metadata": {},
   "outputs": [],
   "source": []
  }
 ],
 "metadata": {
  "kernelspec": {
   "display_name": "Ruby 2.7.5",
   "language": "ruby",
   "name": "ruby"
  },
  "language_info": {
   "file_extension": ".rb",
   "mimetype": "application/x-ruby",
   "name": "ruby",
   "version": "2.7.5"
  }
 },
 "nbformat": 4,
 "nbformat_minor": 5
}
