{
 "cells": [
  {
   "cell_type": "markdown",
   "id": "c142e297-1cbe-4dbe-8f15-76acae5daed5",
   "metadata": {},
   "source": [
    "## Local Area Networks (LAN)"
   ]
  },
  {
   "cell_type": "markdown",
   "id": "0e176024-5aa6-40bf-8c70-d40fc69b955c",
   "metadata": {},
   "source": [
    "- Our home’s LAN allows multiple devices, or clients, to connect either via an **Ethernet** cable or wirelessly to a **switch** (what most of us colloquially call a **“router”**), which is itself connected to a **modem**.\n",
    "- Each device that can connect to a network does so through its **Network Interface Card (NIC)**\n",
    "- Each NIC has a unique **Media Access Control (MAC) address**, which is a physical, hardcoded identifier that distinguishes that device on a network.\n",
    "-  Each device on a network can be statically or dynamically assigned an **IP address** by a switch\n",
    "- **Unlike a MAC address, an IP Address is not hardcoded into a device, but is instead logical and hierarchical, which allows a device to be more easily located based on its IP address.**\n",
    "- A **switch** is a networking device that sends data to the appropriate device within the LAN, using an ARP table that matches each IP address to a MAC address.\n",
    "- **Ethernet** is the protocol that allows for communication within a LAN.a"
   ]
  },
  {
   "cell_type": "markdown",
   "id": "89e2ac49-a9e3-4eda-8c7c-9ca4f0ba64f7",
   "metadata": {},
   "source": [
    "## Internet Service Providers (ISP)\n"
   ]
  },
  {
   "cell_type": "markdown",
   "id": "11f840f1-1586-4dc8-9aa6-6499da594b63",
   "metadata": {},
   "source": [
    "- Our LAN connects to an ISP’s infrastructure via our modem\n",
    "- Through a series of routers, our ISP’s infrastructure directs traffic between the many households it serves and the wider Internet. \n",
    "- Traveling through all these hops across many routers means there’s always going to be some latency in our connection, regardless of our connection’s bandwidth.\n",
    "\n",
    "**Key Terms**\n",
    "\n",
    "- **Bandwidth**: The amount of data that can be sent during a specific unit of time (typically a second) across a network. \n",
    "    - We can think of the number of lanes on a highway as being analogous to the concept of bandwidth.\n",
    "- **Latency**: The time it takes for one piece of data to go from point A to point B in a network. Whereas bandwidth measures the maximum size of data per a set unit of time (i.e. a second), latency measures the time it takes for a set, minimal size of data.\n",
    "    - To use our highway analogy, a single car traveling at the same speed limit across the same geographic span would take the same amount of time, no matter if you increased or decreased the number of lanes on the highway. The only situation where increasing bandwidth might make a difference in the latency is when there’s so much traffic that data is stuck in a bandwidth bottleneck somewhere.\n",
    "- **Last-mile latency**: The latency specific to the last link stretch closest to the customer, a stretch often called the “last mile.” This last-mile latency is what ISPs tend to focus on, since that’s the main segment they have control over. "
   ]
  },
  {
   "cell_type": "markdown",
   "id": "41f59153-f806-48a7-b555-94b8e9b4c0ce",
   "metadata": {},
   "source": [
    "## The Domain Name System (DNS)"
   ]
  },
  {
   "cell_type": "markdown",
   "id": "87c7fcad-3e5f-4bcd-8edc-75125289aa06",
   "metadata": {},
   "source": [
    "- Whenever you use your browser to go to a specific website, your browser application needs to first figure out which server would have the correct website information.\n",
    "- Every time you go to a website you’ve never been to before, your browser has to first triangulate the IP address associated with that domain.\n",
    "- It first hits up the DNS Servers supported by your ISP. If those servers don’t have a record of that domain either, they then forward the request further up the chain until it gets to the DNS, when the request travels down the DNS hierarchy from the root name servers down, until it finds the IP address of that domain name.\n",
    "- Your browser will then cache (i.e. save) that domain-to-IP address key-value pair so that it won’t have to look it up again the next time you enter that domain.\n",
    "- It’s simply for convenience, because it’s much easier to remember, for example, “google.com” than it is to remember an IP address.\n",
    "\n",
    "**Key Terms**\n",
    "- **Domain name**: A domain name is a unique identifier that points to an IP address, or several IP addresses. A domain name consists of a combination of at least two parts: a top-level domain (TLD) to the right of the (rightmost) dot, and a second-level domain (SLD) to the left of the (rightmost) dot.\n",
    "    - For the domain “google.com” for example, `com` is the TLD and `google` is the SLD.\n",
    "- **DNS Servers**: When we say that the DNS is hierarchical in nature, we mean that there are logical steps for identifying the IP address of a particular domain name. This hierarchical process is handled by various levels of DNS Servers, routed and structured by domain name level."
   ]
  },
  {
   "cell_type": "markdown",
   "id": "2c2e3e25-43be-451a-b8ce-de57b3c576b4",
   "metadata": {},
   "source": [
    "## Cloud Services"
   ]
  },
  {
   "cell_type": "markdown",
   "id": "b1b4d093-278a-42ae-a31f-6abed5c4c1a9",
   "metadata": {},
   "source": [
    "**Key Terms**\n",
    "\n",
    "- **Web Servers**: Servers that host static content (including HTML, Javascript, and CSS files) are called web servers. \n",
    "    - These are sites that don’t require much backend processing power, and can merely deliver prepackaged content without having to handle business logic. \n",
    "    - Most landing pages, basic company websites, news sites, personal pages, and blogs, such as this one, are hosted by a web server. Web servers probably account for the largest chunk of all server types.\n",
    "- **Application Servers**: Although a personal blog might be hosted by a basic web server that can easily deliver read-only content, there might be an underlying application (e.g. Wordpress) that needs to not just read, but also actually generate, edit, and delete new static content.\n",
    "    - Application Servers require much more processing power than web servers because they need to be able to handle the more elaborate, business-logic requests coming from millions (or billions) of users."
   ]
  }
 ],
 "metadata": {
  "kernelspec": {
   "display_name": "Ruby 2.7.5",
   "language": "ruby",
   "name": "ruby"
  },
  "language_info": {
   "file_extension": ".rb",
   "mimetype": "application/x-ruby",
   "name": "ruby",
   "version": "2.7.5"
  }
 },
 "nbformat": 4,
 "nbformat_minor": 5
}
