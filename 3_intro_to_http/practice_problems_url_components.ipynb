{
 "cells": [
  {
   "cell_type": "markdown",
   "id": "9c0bf9eb-52ff-438f-9859-6ce8d018d899",
   "metadata": {},
   "source": [
    "# Practice Problems: URL Components"
   ]
  },
  {
   "cell_type": "markdown",
   "id": "3601e9f5-18fa-4f5c-9214-14c4542ac028",
   "metadata": {},
   "source": [
    "1. Given the following URL:\n",
    "\n",
    "`https://amazon.com/Double-Stainless-Commercial-Refrigerator/B60HON32?ie=UTF8&qid=142952676&sr=93&keywords=commercial+fridge`\n",
    "\n",
    "1. Identify the host: `amazon.com`\n",
    "2. Identify the names of the query parameters:`ie, qid, sr, keywords`\n",
    "3. Identify the values of the query parameters: `UTF8, 142952676, 93, commercial+fridge`\n",
    "4. Identify the scheme: `https`\n",
    "5. Identify the path: `/Double-Stainless-Commercial-Refrigerator/B60HON32`\n",
    "6. Identify the port: None\n",
    "\n",
    "- This URL does not contain a port. Most software will use **port 443** by default when working with this URL due to it having a scheme of https, but that information is not contained within the URL."
   ]
  },
  {
   "cell_type": "markdown",
   "id": "3a5d9543-390b-4bf7-91bf-ed11758430cc",
   "metadata": {},
   "source": [
    "2. Add the port 3000 to the following URL:\n",
    "\n",
    "`http://amazon.com/products/B60HON32?qid=142952676&sr=93`\n",
    "\n",
    "`http://amazon.com:3000/products/B60HON32?qid=142952676&sr=93`"
   ]
  },
  {
   "cell_type": "markdown",
   "id": "6d8c13e5-eb73-4efb-bd26-32deec31fe97",
   "metadata": {},
   "source": [
    "3. Given the following URL:\n",
    "\n",
    "`http://localhost:4567/todos/15`\n",
    "\n",
    "1. Identify the query parameters: None\n",
    "2. Identify the scheme: `http`\n",
    "3. Identify the path: `/todos/15`\n",
    "4. Identify the host: `localhost`\n",
    "5. Identify the port: `4567`"
   ]
  },
  {
   "cell_type": "markdown",
   "id": "5243916f-c4aa-4534-9a95-6f7680dd20d6",
   "metadata": {},
   "source": [
    "4. What are two different ways to encode a space in a query parameter? We didn't cover this in the lectures, so feel free to search online for the answer.\n",
    "\n",
    "- `%20`\n",
    "- `+`"
   ]
  },
  {
   "cell_type": "markdown",
   "id": "19c5a0f4-9c8b-48ee-997a-6120a037e5c3",
   "metadata": {},
   "source": [
    "5. What character indicates the beginning of a URL's query parameters?\n",
    "\n",
    "- `?`"
   ]
  },
  {
   "cell_type": "markdown",
   "id": "4c0722ab-9c24-41e2-afce-7d4ec27fda26",
   "metadata": {},
   "source": [
    "6. What character is used between the name and value of a query parameter?\n",
    "\n",
    "- `=`"
   ]
  },
  {
   "cell_type": "markdown",
   "id": "0ba9ad80-3d76-40f3-8668-c394de1a7c58",
   "metadata": {},
   "source": [
    "7. What character is used between multiple query parameters?\n",
    "\n",
    "- `&`"
   ]
  }
 ],
 "metadata": {
  "kernelspec": {
   "display_name": "Ruby 2.7.5",
   "language": "ruby",
   "name": "ruby"
  },
  "language_info": {
   "file_extension": ".rb",
   "mimetype": "application/x-ruby",
   "name": "ruby",
   "version": "2.7.5"
  }
 },
 "nbformat": 4,
 "nbformat_minor": 5
}
