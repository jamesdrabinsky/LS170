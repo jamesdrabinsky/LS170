{
 "cells": [
  {
   "cell_type": "markdown",
   "id": "f39ac5d1-33d7-4053-934b-a51818869369",
   "metadata": {},
   "source": [
    "**1. What is a network?**"
   ]
  },
  {
   "cell_type": "markdown",
   "id": "337d6a2f-a3a6-4a82-9145-cdba88b9fad7",
   "metadata": {},
   "source": [
    "A network is formed when a multiple devices, such as computers, servers, printers etc.) are connected via a network bridging device (like a hub or switch).  The devices are all connected to this bridging device via network cables or wireless signals and are able to communicate and exchange data.  Each device, or node, has a unique address called an IP address that is used to identify it on the network."
   ]
  },
  {
   "cell_type": "markdown",
   "id": "8c3da09a-34a9-4a83-912a-106619c69779",
   "metadata": {},
   "source": [
    "**2. What is the Internet?**"
   ]
  },
  {
   "cell_type": "markdown",
   "id": "f49588e5-ef05-45bf-afb4-492df0ecab35",
   "metadata": {},
   "source": [
    "The internet is a network of networks or a vast number of networks connected together.  A network is formed when at least two devices connect to communicate or exchange data.  The internet consists of a large number of small, localized networks, such as LANs.  In between all of these sub-networks are systems of routers that direct network traffic.  The internet is a comprised of both the network infrastructure that facilitates this interconnectivity, which includes routers, switches, cables etc., and the protocols that enable that infrastructure to function / govern its functionality. "
   ]
  },
  {
   "cell_type": "markdown",
   "id": "982cf93d-4e79-49fd-9fdb-1c00fe05bfd7",
   "metadata": {},
   "source": [
    "**3. Is the Internet the same thing as a network?**"
   ]
  },
  {
   "cell_type": "code",
   "execution_count": null,
   "id": "4e03b0f4-8ad4-4310-b05b-71e5fd9649bf",
   "metadata": {},
   "outputs": [],
   "source": []
  },
  {
   "cell_type": "markdown",
   "id": "8996b8b4-bce8-457f-ae8f-d4e95a16ae4f",
   "metadata": {},
   "source": [
    "**4. What is WEB (world wide web)**"
   ]
  },
  {
   "cell_type": "markdown",
   "id": "2d4a1357-9876-44f1-adc8-9f1a05105306",
   "metadata": {},
   "source": [
    "The World Wide Web is a service made up of a collection of interconnected documents and resources that can be accessed via the internet.  It is a system of resources which can be seached using a Uniform Resource Locator (URL) through web browsers like Google Chrome.  HTTP is the protocol most often used by applications to interact with the resources that make up the Web and HTML is the means by which the resouces on the Web are structured."
   ]
  },
  {
   "cell_type": "markdown",
   "id": "dd492b5a-b051-487b-a64e-febf9c54891b",
   "metadata": {},
   "source": [
    "**5. What is the difference between network, Internet, and WEB?**"
   ]
  },
  {
   "cell_type": "markdown",
   "id": "39d161e9-7121-40fa-aeaf-67434d49caca",
   "metadata": {},
   "source": [
    "A network is a collection of connected devices, such as computers, servers, printers, and other devices, that can communicate with each other and share resources.\n",
    "\n",
    "The internet is a global network of networks that connects millions of devices worldwide. It allows people to access information, communicate with others, and share data across different networks and devices.\n",
    "\n",
    "The web, short for World Wide Web, is a collection of interconnected documents and resources, accessed through the internet, that are formatted in a specific way using languages such as HTML, CSS, and JavaScript. It enables users to navigate and access content, such as web pages, multimedia, and other online resources, through web browsers like Google Chrome, Firefox, or Safari.\n",
    "\n",
    "In summary, a network is a local collection of connected devices, the internet is a global network of networks, and the web is a subset of the internet that consists of interconnected documents and resources accessed through web browsers."
   ]
  },
  {
   "cell_type": "markdown",
   "id": "1df44447-961b-4e59-8104-45352d60355b",
   "metadata": {},
   "source": [
    "**6. What are LAN and WLAN?**"
   ]
  },
  {
   "cell_type": "markdown",
   "id": "d7c89f67-1a13-440f-9356-07730b33fcf1",
   "metadata": {},
   "source": [
    "A Local Area Network (LAN) is formed when a multiple devices, such as computers, servers, printers etc.) are connected via a network bridging device (like a hub or switch) within a small geographic area, such as a hoem or office. The devices are all connected to this bridging device via Ethernet cables and are able to communicate and exchange data. A Wireless Local Area Network (WLAN) is any local network that allows wireless connections, such as Wi-Fi or Bluetooth.  LANs and WLANs differ in the medium through which the devicesare connected to the network."
   ]
  },
  {
   "cell_type": "markdown",
   "id": "49e8b5de-ea83-4f45-a725-8f482db94710",
   "metadata": {},
   "source": [
    "**7. What is a protocol?**"
   ]
  },
  {
   "cell_type": "markdown",
   "id": "075b038e-7f5a-4f1f-bc59-f82aff383327",
   "metadata": {},
   "source": [
    "A protocol is a system of rules that govern how data is transmitted, and received between devices on a network.  A single request-response cycle typically uses multiple protocols.  The different protocols each provide a different service and operate at different network layers.\n",
    "\n",
    "- **Application Layer**: HTTP (FTP, SMTP ...)\n",
    "- **Session Layer**: TLS for TCP (DTLS for UDP)\n",
    "- **Transport Layer**: TCP or UDP\n",
    "- **Network / Internet Layer**: IP (IPv4, IPv6)\n",
    "- **Data Link / Link Layer**: Ethernet (Wi-Fi, Bluetooth)"
   ]
  },
  {
   "cell_type": "markdown",
   "id": "b1f0cb4c-fc8a-413e-8521-78d752234b28",
   "metadata": {},
   "source": [
    "**8. What is the role of protocols?**"
   ]
  },
  {
   "cell_type": "markdown",
   "id": "68e13226-d31e-4c25-a863-7bb293dcdb78",
   "metadata": {},
   "source": [
    "The role of protocols is to govern how data is transmitted and received at each layer of our network communication model.  For example, the Internet Protocol (IP) facilitates communication between hosts on different networks while the Transmission Control Protocol (TCP) provides for the transfer of messages between processes/applications running on different hosts.  Protocols are essential for network communication because, without them, the many and varied devices on a network would not have a uniform communication method."
   ]
  },
  {
   "cell_type": "markdown",
   "id": "8c49fd8f-9624-4130-b625-1fdf1e74ff11",
   "metadata": {},
   "source": [
    "**9. Why there are many different types of protocols?**"
   ]
  },
  {
   "cell_type": "markdown",
   "id": "1e36e1fc-b13a-4c9f-a95e-d52d3bc3d018",
   "metadata": {},
   "source": [
    "There are many different types of protocols because different protocols address different aspects of network communication.  Whereas the Ethernet protocols governs communication between devices on a local network, the Internet Protocol (IP) enables inter-network or \"network to network\" communication.  There are also protocols that were developed to address the same aspect of network communication, but do so in different ways.  For example, TCP and UDP both enable end-to-end communication between applications on different devices.  However, UDP is a connectionless system that relied on one network socket for all communication, whereas TCP is a connection-oriented system that instantiates a new socket object for each incoming message and creates a dedicated virtual connection between two processes running on separate devices."
   ]
  },
  {
   "cell_type": "markdown",
   "id": "f9466694-3356-4ed5-960e-9754876747b0",
   "metadata": {},
   "source": [
    "**10. What does it mean that a protocol is stateless?**"
   ]
  },
  {
   "cell_type": "markdown",
   "id": "32f926cb-101b-4343-b05b-94db8660de33",
   "metadata": {},
   "source": [
    "A protocol is a stateless when it cannot persist information in either a request or a response.  This means that each Request/Response cycle is independent of Request and Responses that came before or those that come after.  Stateless protocols provide several benefits such as resilience and speed because the server doesn't need to retain any information between each request/response cycle."
   ]
  },
  {
   "cell_type": "markdown",
   "id": "de107503-9e03-4a27-a025-81c136a71baa",
   "metadata": {},
   "source": [
    "**11. Explain briefly what are OSI and TCP/IP models? What is the purpose of having models like that?**"
   ]
  },
  {
   "cell_type": "markdown",
   "id": "30e583de-273d-4745-8f80-c7cf70c9d0af",
   "metadata": {},
   "source": [
    "The OSI and TCP/IP are two different network communication models.  Each model modularizes the end-to-end process of network communication into several layers.  This modular approach allows us to hone in on a particular layer and understand what is happening at that level of the system while also giving a more general view of how all layers work together.\n",
    "\n",
    "The Internet Protocol Suite divides the layers in terms of the scope of communications within each layer (within a local network, between networks, etc). The OSI model divides the layers in terms of the functions that each layer provides (physical addressing, logical addressing and routing, encryption, compression, etc)."
   ]
  },
  {
   "cell_type": "markdown",
   "id": "1224941d-e932-4a2f-aaa7-0641a270b3be",
   "metadata": {},
   "source": [
    "**12. What is PDU? What is its role?**"
   ]
  },
  {
   "cell_type": "markdown",
   "id": "a4709163-bd58-4fe5-b3f9-c43a39998ab7",
   "metadata": {},
   "source": [
    "A Protocol Data Unit (PDU) is a block of data that gets transported over the network by the governing protocol of its layer.  Data encapsulation is implemented through the use of PDUs.  The PDU at one layer becomes the data payload of the PDU at the layer below.  For example, a Segment at the Transport layer will become the data payload of a Packet at the IP / Network layer.   "
   ]
  },
  {
   "cell_type": "markdown",
   "id": "aab9ffab-3db0-40da-a33f-a822916cd24b",
   "metadata": {},
   "source": [
    "**13. What is Data Payload?**"
   ]
  },
  {
   "cell_type": "markdown",
   "id": "cfee6791-bd64-406f-8b5b-b0cc25b747eb",
   "metadata": {},
   "source": [
    "The data payload is simply the data that we want to transport over the network using a specific protocol at a particular network layer.  The data payload is the key to the way encapsulation is implemented in network communication because the PDU from a protocol at one layer is set as the data payload fro a protocol at the layer below."
   ]
  },
  {
   "cell_type": "markdown",
   "id": "8f125c29-b8f4-408a-9bd7-58a3409fc92f",
   "metadata": {},
   "source": [
    "**14. What is the relationship between PDU and Data Payload?**"
   ]
  },
  {
   "cell_type": "code",
   "execution_count": null,
   "id": "a6e47ccc-5c1e-45fe-89a7-5a269e865b8e",
   "metadata": {},
   "outputs": [],
   "source": []
  },
  {
   "cell_type": "markdown",
   "id": "02caa080-093b-4f7b-9e72-94bca8e86632",
   "metadata": {},
   "source": [
    "**15. Explain How lower-level protocols work in general?**"
   ]
  },
  {
   "cell_type": "markdown",
   "id": "e0022d90-73b9-4e82-b282-666dc394680e",
   "metadata": {},
   "source": [
    "The Ethernet Protocol is the governing protocol at the Data Link / Link layer.  It enables communicaiton between devices in a local network or \"node-to-node\" communication.  The PDU at this layer is called an Ethernet Frame and provides two main functions: Framing and Addressing.  The Frame takes the data from the physical layer, which is essentially a stream of bits, and add logical structure to it.  This strucuture defines which bits are the data payload and which are the metadata to be used in the process of transporting the frame.  The Frame also identifies the next network node or physical address to which the data should be sent on the local network by using the MAC address of the receiving device on the same physical network.  (The source and destination MAC addresses are contained in a Frame's header).\n",
    "\n",
    "The Internet Protocol is the predominant protocol that governs communication at the Network / Internet layer.  Whereas the Ethernet protocol provides communication between devices on the same network, IP enables communication between devices on hosts on different networks.  The IP Protocol helps navigate to the correct logical address by identifying the IP address of the receiving device on a different netwok.  The Packet is the PDU within the Internet Protocol.  The IP Protocol uses the Packet's source and destinates IP addresses in its header to direct the data payload (the encapsulated PDU from the Transport layer) between one device and nother across networks.\n",
    "\n",
    "Together, these protocols enable communication between devices on different networks, with Ethernet handling the local network connections and IP handling the inter-network connections."
   ]
  },
  {
   "cell_type": "markdown",
   "id": "cb0602d4-5b0c-4313-b3c1-f57084ae87fe",
   "metadata": {},
   "source": [
    "**16. What is encapsulation in the context of networking?**"
   ]
  },
  {
   "cell_type": "markdown",
   "id": "93c60eda-f71e-4cb2-b841-4c4930e2f986",
   "metadata": {},
   "source": [
    "Data encapsulation in the context of network communication refers means that we are essentially hiding data from one layer by encapsulating it within a data unit of the layer below.  That is, the entire PDU from one layer forms the data paylload of the PDU at the layer below.  We package the PDU at a higher layer with the metadata of a protocol at the current layer, forming a PDU."
   ]
  },
  {
   "cell_type": "markdown",
   "id": "b3b41a2c-d030-4f8d-83e4-067b4788ca47",
   "metadata": {},
   "source": [
    "**17. Why do we need encapsulation?**"
   ]
  },
  {
   "cell_type": "markdown",
   "id": "04f52090-4ae4-445e-bba2-c303838f2788",
   "metadata": {},
   "source": [
    "The major benefit of encapsulation is that it creates a separation or abstraction between the protocols at different layers.  Encapsulation is a way to enclose data and make it inaccessible to the layer beneath it.  This means that a protocol at one layer doesn't need to know about how a protocol within another layer is implemented in order for those protocols to interact.  It creates a system where a lower layer effectively provides a service to the layer above it by encapsulating its PDU as a data payload and  providing instructions for how to transmit that payload through the metadata in its header.  \n",
    "\n",
    "This is especially important when there are multiple protocols that operate within a layer.  For example, the Application layer can be governed by the HTTP, FTP or SMTP protocol depending on the type of Data or Message.  The TCP segment in the Transportation layer below doesn't need to what type of PDU it encapsulates, it just knows it needs to encapsulate the PDU from the layer above and provide the result of this encapsulation to the layer below."
   ]
  },
  {
   "cell_type": "markdown",
   "id": "9b304fff-e379-432d-b25f-44e09df431ae",
   "metadata": {},
   "source": [
    "**18. What are the characteristics of a physical network?**"
   ]
  },
  {
   "cell_type": "markdown",
   "id": "8c7a3db4-d424-452b-8c66-f3a4964c72ba",
   "metadata": {},
   "source": [
    "The physical network is the most foundational level of the network communication model.  The functionality at this level is concerned with the transfer of binary data in the form of electrical signals, light and radio waves across a wire or wirelessly.  The physical limitations of networked communication, latency and bandwidth, come as a result of the unavoidable physical laws that govern this layer."
   ]
  },
  {
   "cell_type": "markdown",
   "id": "92f1642a-077a-41e0-a43d-03542914ca54",
   "metadata": {},
   "source": [
    "**19. How can we as developers deals with the limitations of physical network?**"
   ]
  },
  {
   "cell_type": "code",
   "execution_count": null,
   "id": "c0b895e9-3a46-4d3c-9e31-c0d8ec2c11b7",
   "metadata": {},
   "outputs": [],
   "source": []
  },
  {
   "cell_type": "markdown",
   "id": "f39f7e83-1a10-42fe-ab14-9476c50ff9c5",
   "metadata": {},
   "source": [
    "**20. What is Latency?**"
   ]
  },
  {
   "cell_type": "markdown",
   "id": "61a80308-a617-4665-8a93-1489b2907c94",
   "metadata": {},
   "source": [
    "Latency is a measure of delay that measures the time it takes for data to get from one point in a network to another in a network.  It is determined by real physical laws, such as the distance traveled and the speed of the signal traveling (i.e. speed of light, sound, or electricity).  Latency is the sum the propogration delay, transmission delay, processing delay and queuing delay."
   ]
  },
  {
   "cell_type": "markdown",
   "id": "c3c8e0bd-ae8f-426a-9ffa-f76b335a638b",
   "metadata": {},
   "source": [
    "**21. What is Bandwidth?**"
   ]
  },
  {
   "cell_type": "markdown",
   "id": "8cba46d7-24a4-4045-8979-4ec744842a85",
   "metadata": {},
   "source": [
    "Brandwidth is a measure of capacity.  It is the amount of data that can be sent along the physical structure of the network in a particular unit of time.  Bandwidth is never a constant amount, so a connection's bandwidth is considered whatever value is the lowest value over the entire connection.\n",
    "\n",
    "(*Car example: adding more lanes to the road -> more cars can travel along it at once -> this increases the bandwidth of the road*)"
   ]
  },
  {
   "cell_type": "markdown",
   "id": "f5f3556c-26a3-432d-821e-80ed5d43fe6f",
   "metadata": {},
   "source": [
    "**22. What are Network 'Hops'?**"
   ]
  },
  {
   "cell_type": "markdown",
   "id": "6e42bf39-c49f-408a-883f-2ceb85e639a6",
   "metadata": {},
   "source": [
    "A piece of data on a network does not travel directly from a start point to an end point.  Its journey consists of movements or 'hops' from one node to another.  A node can include device like a switch, hub or router.   The number of hops a piece of data takes to travel from its source to its destination is an important factor in determining the performance of a network.  More hops can increase the transmission and processing delay which both contribute to the total latency between two points on a server."
   ]
  },
  {
   "cell_type": "markdown",
   "id": "9c8d5030-9f65-4e9d-a36c-8c8a12362de3",
   "metadata": {},
   "source": [
    "**23. What is the relationship between network 'Hops' and latency?What is a modem and what it is used for?**"
   ]
  },
  {
   "cell_type": "code",
   "execution_count": null,
   "id": "de11e9a9-2ef4-4605-b7e1-f3d056635e0e",
   "metadata": {},
   "outputs": [],
   "source": []
  },
  {
   "cell_type": "markdown",
   "id": "73eb510c-b9cd-46a1-864f-596c1ab74f30",
   "metadata": {},
   "source": [
    "**24. What is a switch and what is it used for?**"
   ]
  },
  {
   "cell_type": "markdown",
   "id": "53bf0b7e-16d5-4c6a-8a4b-e95838636dfb",
   "metadata": {},
   "source": [
    "A switch is a network device to which you connect devices to create a LAN.  A switch uses the destination MAC address of an incoming frame and forwards the data only to the port where the destination device is connected.  It does this keeping a record the MAC addresses of the devices connected to its ports.  When the switch receives a new frame, it looks at the source MAC address in its header and adds it the MAC address table, associating it with the port from which the packet was received and examines the destination MAC address of the data packet and looks up the MAC address table to determine which port the destination device is connected to.  Once the switch learns the correct port for the destination MAC address, it forwards the data packet only to that port."
   ]
  },
  {
   "cell_type": "markdown",
   "id": "bb4f9598-c097-468a-a531-3c8b0c1eb809",
   "metadata": {},
   "source": [
    "**25. What is a hub and what is it used for?**"
   ]
  },
  {
   "cell_type": "markdown",
   "id": "6472102d-c128-400b-a224-a8b6c2455294",
   "metadata": {},
   "source": [
    "A hub is a basic networking device used to connect devices together to create a LAN.  When a hub receives data it forwards the data to all of the devices on the network, regardless of whether the data is intended for a specific device or not.  Each receiving device compares its the MAC Address against the Destination MAC Address in the Frame to check if it was intended for the receipient.  If it wasn't, then it would just ignore the frame."
   ]
  },
  {
   "cell_type": "markdown",
   "id": "6ce553e7-0066-459d-a4a5-65ab693f5e59",
   "metadata": {},
   "source": [
    "**26. What is a modem and what it is used for?**"
   ]
  },
  {
   "cell_type": "markdown",
   "id": "e4eefd83-eb5f-43f4-81f5-f9b5329a69ac",
   "metadata": {},
   "source": [
    "A modem is a device that serves as a bridge between a LAN and a WAN (wide area network).  A LAN that is connected to the Internet does so through its modem.  Devices on a LAN could still communicate with each other withou a modem, but they just wouldn't be able to access the internet.  The LAN typically consists of one or more computers, printers, or other devices connected to a router or switch. When a user on the LAN wants to access the Internet or another device on the WAN, the request is sent to the router or switch. The router or switch then sends the request to the modem."
   ]
  },
  {
   "cell_type": "markdown",
   "id": "688c1a01-cc85-4484-ac4d-6c385ede0087",
   "metadata": {},
   "source": [
    "**27. What is a router and what is it used for?**"
   ]
  },
  {
   "cell_type": "markdown",
   "id": "43f1f6bb-e8dc-404c-93e8-a9f13b133329",
   "metadata": {},
   "source": [
    "A router is a network device (a type of switch) that can also send data across networks (ie. from one network to another).  Within a LAN, they effectively act as gateways into and out of the network.  A router is responsible for determining the best path for data to travel from its source to its destination on a network.  \n",
    "\n",
    "All routers on the network store a local routing table. When an IP packet is received by a router, the router examines the destination IP address and matches it against a list of network addresses in its routing table. These network addresses define a range of addresses within a particular subnet. The matching network address will determine where in the network hierarchy the subnet exists. This will then be used to select the best route for the IP packet to travel."
   ]
  },
  {
   "cell_type": "markdown",
   "id": "ced0d371-e75f-42c8-b3dd-b3d10e03e1fb",
   "metadata": {},
   "source": [
    "**28. What is the difference between a switch, hub, modem, and router?**"
   ]
  },
  {
   "cell_type": "markdown",
   "id": "650dd535-6bd0-4dec-aca0-f281521dc432",
   "metadata": {},
   "source": []
  },
  {
   "cell_type": "markdown",
   "id": "4a3c4bcb-80be-4a8f-a384-69a0714e13bd",
   "metadata": {},
   "source": [
    "**29. How does the Internet works?**"
   ]
  },
  {
   "cell_type": "code",
   "execution_count": null,
   "id": "8b373ccd-8d66-494a-acee-5dffd4994107",
   "metadata": {},
   "outputs": [],
   "source": []
  },
  {
   "cell_type": "markdown",
   "id": "05575ebe-ba7c-4346-b085-6ce8b5126f2f",
   "metadata": {},
   "source": [
    "**30. What is a MAC address and what is its role in network communication?**"
   ]
  },
  {
   "cell_type": "markdown",
   "id": "13e10155-1d8f-4045-bdbf-12337d26a731",
   "metadata": {},
   "source": [
    "The Media Access Control (MAC) address is an address linked to a specific physical device.  It is referred to as the physical or burned-in address.  MAC Addresses are formatted as a sequence of six two-digit hexadecimal numbers, e.g. `00:40:96:9d:68:0a`, with different ranges of addresses being assigned to different network hardware manufacturers.\n",
    "\n",
    "MAC addresses are used at the Data Link layer to provide a unique identifier for each device on the network.\n",
    "An Ethernet Frame contains the source and destination MAC addresses in its header.  Switches will read and process each Frame and looks up the MAC address table to determine which port the destination device is connected to.  Once the switch learns the correct port for the destination MAC address, it forwards the Frame only to that port.\n",
    "\n",
    "MAC addresses do not work well in large decentralized systems because they are physical, not logical.  This means they do not changed based on location.  Each MAC address is tied (bured in) to a specific physical device.  They also aren't scalable; they are flat and do not possess the hierarchical structure that allows us to categorize them into searchable subdivisions (like subnetting with IP addresses).  The entire address is a single sequence of values that can't be broken down into sub-divisions."
   ]
  },
  {
   "cell_type": "markdown",
   "id": "0ffeed4d-e0f5-4b41-a20e-460b1c56aaaf",
   "metadata": {},
   "source": [
    "**31. Give an overview of the Link/Data Layer**"
   ]
  },
  {
   "cell_type": "markdown",
   "id": "5669b123-ea82-4902-98bc-996f0f2bfd19",
   "metadata": {},
   "source": [
    "The Data Link layer is the second layer in the OSI model.  It takes the IP packet from the Network layer and prepares it for transmission over the physical layer by encapsulating it into a PDU that is called a Frame.  The Ethernet Protocol is the most commonly used protocol at the Data Link layer and governs communication between devices in a local network.  It provides node-to-node connection and is responsible for navigating the correct physical address, rather than the logical one that an IP Packet provides.  For this reason, it acts as an interface between the physical infrastructure below it and the more logical layers above (nework, transport, application etc.).\n",
    "\n",
    "An Ethernet Frame provides framing which adds logical structure to the streams of bits traveling through the physical infrastructure of the network.  It does this by defining which bits are part of the data payload and which are metadata used in the process of transporting the frame.  An Ethernet Frame also provides addressing to identify the next network \"node\" to which data should be sent using the source and destination MAC address in the Frame header.  A MAC address is the manufacturer's  ID that is linked to a specific physical device.  Switches will read and process each Frame, and send them to the appropriate device on the network that has the Frame's destination MAC address."
   ]
  },
  {
   "cell_type": "markdown",
   "id": "330ab7ff-3f8f-46fa-916d-6a8339fb9a45",
   "metadata": {},
   "source": [
    "**32. What is included in an Ethernet frame?**"
   ]
  },
  {
   "cell_type": "markdown",
   "id": "47cbbaef-985a-4503-9e2b-138d75e6cd87",
   "metadata": {},
   "source": [
    "An Ethernet Frame includes:\n",
    "- Source and Destination MAC address (header): The source address is the physical address of the device which created the frame. The destination MAC address is the physical address of the device for which the data is ultimately intended.\n",
    " - Data Payload: Contains the data for the entire Protocol Data Unit (PDU) from the layer above, (commonly) an IP Packet for example.\n",
    " - Frame Check Sequence (FCS) (footer/trailer) is what the Data Link layer uses for error detection (using a checksum), to make sure that the frame has neither lost any bits along the way, nor has been corrupted due to signal interference."
   ]
  },
  {
   "cell_type": "markdown",
   "id": "6405b38e-f55f-413a-bd2b-3e607b4c69fb",
   "metadata": {},
   "source": [
    "**33. Give an overview of the Internet/Network Layer and it's role.**"
   ]
  },
  {
   "cell_type": "markdown",
   "id": "e581413d-28e3-4a6d-b6c3-25c92be13ab8",
   "metadata": {},
   "source": [
    "The TCP Segments or UDP Datagram is the third layer in the OSI network communication model.  It takes the PDU from the Transport layer above (either a TCP Segment or UDP Datagram) and encapsulates it in a PDU that is called a an IP Packet.  The Internet Protocol (IP) governs the transmission of data at this layer, and its primary function is to facilitate inter-network communication (end-to-end communication between devices on different networks) using the IP address retrieved from the DNS.  IP Addesses have two main features that allow for inter-network communication across a large distributed system: they are logical - they can be assigned to devices as required when they join a network instead of being tied to a specific device, and they are hierchical; the structure of the address allows us to categorize them into searchable subdivisions (subnets).  \n",
    "\n",
    "The IP packet is responsible for routing the data payload across a series of network \"hops\" between various routers until it arrives at the destination network containing the destination IP address.  The source and destination IP address fields contained in the Packet's header allow it to identify the logical path it travels across the network."
   ]
  },
  {
   "cell_type": "markdown",
   "id": "e9807b92-2b28-4c38-be66-a6604394ca60",
   "metadata": {},
   "source": [
    "**34. What is IP?**"
   ]
  },
  {
   "cell_type": "markdown",
   "id": "9e5d092a-d558-4bb4-a1a2-e7aa263a3f20",
   "metadata": {},
   "source": [
    "The Internet Protocol (IP) is the predominant protocol used at this layer for inter-network communication.  There are two version of IP currently in use: Internet Protocol version 4 (IPv4) and the Internet Protocol version 6 (IPv6).  "
   ]
  },
  {
   "cell_type": "markdown",
   "id": "d8f5733d-26cf-48b0-8d4d-7e356aa83d27",
   "metadata": {},
   "source": [
    "**35. What is IP address?**"
   ]
  },
  {
   "cell_type": "markdown",
   "id": "ade860bd-a469-4109-a913-3819b0c0ce9f",
   "metadata": {},
   "source": [
    "An IP address is a unique address that we can use to identify a device or host on the internet."
   ]
  },
  {
   "cell_type": "markdown",
   "id": "c4e70187-160b-40a2-b8c3-d24db97e77ef",
   "metadata": {},
   "source": [
    "**36. What are the components of IP addresses?**"
   ]
  },
  {
   "cell_type": "markdown",
   "id": "48ef267f-d533-4ab6-8604-acca22c05602",
   "metadata": {},
   "source": [
    "- IPv4 = 32-bit addresses provides 4.3 billion possible addresses, which is not enough for all the devices on the network\n",
    "    - `109.156.106.132`\n",
    "    -  4 sets of numbers, , each containing 8 bits of information\n",
    "    - The first two sets of numbers usually references the network and sub-network, respectively. The third is the host, and the fourth part references a machine connected to that host.\n",
    "- IPv6 = 128-bit addresses provide 340 undecillion addresses, hopefully will be enough for a long time to come\n",
    "    - `3002:0bd6:0000:0000:0000:ee00:0033:6778`\n",
    "    - 8 sets of hexadecimal characters, each containing 16 bits of information. \n",
    "    - The first 4 sets are used to locate a specific network on the internet. The last 4 sets are typically used to identify a particular interface or device within that network."
   ]
  },
  {
   "cell_type": "markdown",
   "id": "f3d1c198-d19b-4be7-b680-6a233dae0399",
   "metadata": {},
   "source": [
    "**37. What is a packet in computer networking?**"
   ]
  },
  {
   "cell_type": "markdown",
   "id": "b062b795-eb85-4efe-b827-d5cbd23c13ee",
   "metadata": {},
   "source": [
    "A packet is the PDU within the IP Protocol.  It consists of a data payload, which is the encapsulated PDU from the Tranport layer (A TCP Segment or UDP Datagram) and a header.  The IP Packet is responsible for routing all encapsulated data on its journey over a series of network hops between various nodes on the overall network.  \n",
    "\n",
    "When a packet is sent from a device, it is received by a router that will examine the destination IP address contained in the Packet's header and determines the best route for the packet to travel.  This router makes this determination by performing a lookup in its routing table which contains entries for each network destination.  The matching network address will determine where in the network hierarchy the subnet exists."
   ]
  },
  {
   "cell_type": "markdown",
   "id": "fdd7635a-e510-4ded-affc-2271ec6bfe79",
   "metadata": {},
   "source": [
    "**38. Why do we need both MAC addresses and IP addresses?**"
   ]
  },
  {
   "cell_type": "markdown",
   "id": "e10d699b-d53e-4991-a104-c2f1bac1a311",
   "metadata": {},
   "source": [
    "The Media Access Control (MAC) address is an address linked to a specific physical device.  It is referred to as the physical or burned-in address.  MAC addresses are used at the Data Link layer to provide a unique identifier for each device on the network for node-to-node communication in a Local Area Network (LAN).  An Ethernet Frame contains the source and destination MAC addresses in its header.  Switches will read and process each Frame and looks up the MAC address table to determine which port the destination device is connected to.  Once the switch learns the correct port for the destination MAC address, it forwards the Frame only to that port.\n",
    "\n",
    "An IP address is a unique address that we can use to identify a device or host on the internet. The Internet Protocol uses a system of IP Addressing to direct data between one device and another across networks.  When a packet is sent from a device, it is received by a router that will examine the destination IP address contained in the Packet's header and determines the best route for the packet to travel. This router makes this determination by performing a lookup in its routing table which contains entries for each network destination. The matching network address will determine where in the network hierarchy the subnet exists.\n",
    "\n",
    "MAC addresses and IP addresses are used in two different layers of network communication.  MAC addresses are physical because they are linked to a specific physical so they work well for communication at the Data Link layer where all devices in a LAN are connected to a switch or hub that can keep a record of each device's address in a MAC address table.  MAC addresses are also flat - they are represented  as a single string of six two-digit hexadecimal numbers.  They do not not have anhy built-in hierarchy which allows us to categorize them into searchable subdivisions, and this flat structure makes them well-suited for network communication in the Ethernet Protocol because it simplifies the process of addressing and delivering Ethernet Frames.\n",
    "\n",
    "IP addresses are logical because they are assigned based on their logical location when they join a network and are not tied to any specific physical device. Because they can be easily reassigned or reconfigured, they are able scalabale and able to support large, distributed systems. IP addresses are also hierarchical in that their structure allows us to categorize them into search subdivisions (a process referred to as subnetting).  An IP address's hierarchical structure makes it possible for routers to efficiently route data packets between devices on different network it enables routers to use the destination network ID and the routing table when forwarding IP packets, rather than looking up the destination IP address in a table with all possible IP addresses. "
   ]
  },
  {
   "cell_type": "markdown",
   "id": "e1cbd00b-e84f-4cec-85e9-7696a6e662c7",
   "metadata": {},
   "source": [
    "**39. What is DNS and how does it work?**"
   ]
  },
  {
   "cell_type": "markdown",
   "id": "50be55b8-bcd9-4982-b7ae-bf9cb4226b52",
   "metadata": {},
   "source": [
    "The Domain Name System (DNS) is a distributed database which maps human-readable domain names like `google.com` to an IP address (like `216.58.213.14`) so that the IP address can then be used to make a request to a server.  When you visit a website, your browser needs to determine the IP address associated with the domain name of that website.  If you device already has a record of the IP address for the domain namew in its DNS cache, it will use this cached address.  Otherwise, a DNS request will be made to the Domain Name System to obtain the IP address for the domain.  If the server that receives the reaquest cannot find the corresponding IP address in its own database, it will send it to a higher level DNS server until the correct IP address is found.  This IP address is then cached for future request and it is returned to your computer and your browser will establish a connection to the server associated with that IP address."
   ]
  },
  {
   "cell_type": "markdown",
   "id": "f189ce77-a1d2-4023-a94e-8b664f99aeea",
   "metadata": {},
   "source": [
    "**40. How do port numbers and IP addresses work together?**"
   ]
  },
  {
   "cell_type": "markdown",
   "id": "14045a6f-9ce5-47e4-9919-ff832cd80f15",
   "metadata": {},
   "source": [
    "IP Addresses enable end-to-end network communication. They are used to identify a device on the internet. The source and destination IP addresses in an IP packet header are used to create a single communication channel between hosts. Port numbers allow us to communicate with a particular process running on that device. The source and destination port numbers in either a TCP Segment or UDP Datagram header are used to transmit multiple data inputs across that single channel, and to separate them out on the other side.  Together, IP addresses and port numbers create a network socket and the socket enables protocols operating within the Transport layer to faciliate reliable, end-to-end communication between processes running on separate devices across the network. "
   ]
  },
  {
   "cell_type": "markdown",
   "id": "5a1aa784-5c3d-48ae-9901-1890be4e643e",
   "metadata": {},
   "source": [
    "**41. What is a checksum and what is it used for? How is it used?**"
   ]
  },
  {
   "cell_type": "markdown",
   "id": "d73d9125-f388-4686-b2da-719bf9058c0c",
   "metadata": {},
   "source": [
    "The checksum field in a TCP segment (or UDP Datagram) provides the provides error detection by identifying corrupt data.  It is a value that is calculated by the sender using an algorithm.  The receiver performs the same calculation on the received data and compares the result to the checksum value.  If they don't match the data is considered corrupted and discarded."
   ]
  },
  {
   "cell_type": "markdown",
   "id": "58f7ab4c-d6f2-4e0c-b2e6-b693bdfb2b48",
   "metadata": {},
   "source": [
    "**42. Give an overview of the Transport Layer.**"
   ]
  },
  {
   "cell_type": "markdown",
   "id": "1635b51f-f5fe-4dca-853a-5b3a5ab3763b",
   "metadata": {},
   "source": [
    "The Transport layer is responsible for providing reliable, end-to-end communication between applications running on different hosts (computers) over a network.  The main protocols governing communication at this layer are the Transmission Control Protocol (TCP) and User Datagram Protocol (UDP).  \n",
    "\n",
    "The PDU that operates within the TCP protocol is called a Segment.  The Data/Message from the Application layer above is encapsulated as the data payload  in this PDU.  The source and desitination port numbers that are contained within the header of a TCP Segment (or UDP Datagram) are used to transmit multiple data inputs across a single channel, a process that is called multiplexing.   These data inputs are then separated and routed to their correct destination ports on the other end, a process that is called demultiplexing.\n",
    "\n",
    "TCP is a connection-oriented protocol that uses a three-way handshake to establish a dedicated and reliable connection between processes over the network. This handshakes provides network reliability by handling data loss through its retransmission mechanism.  If the sender does not receive an acknowledgement from the receiver that the message was received it will send the message again.  This process also ensures in-order delivery and de-duplication through its synchronized sequence numbers.  When a message is received, the receiver sends an acknowledgement which uses the sequence number of the message to indicate which message was received. The receiver can detect a duplicate packet by comparing the sequence number of the segment with the sequence numbers of previously received packets.  If they are the same, it can discard it.\n",
    "\n",
    "TCP ensures reliable data transfer between applications on top of the unreliable channel of the lower-level protocols, but it also contributes to the overall latency of the trip due to its complexity, and can cause head-of-line block due to the in-order delivery of segments which can potentially lead to increased queuing delay and reduced throughput for the connection.\n",
    "\n",
    "UDP is a simple protocol compared to TCP.  It still provides multiplexing and demultiplexing, but does not provide the reliability features of TCP.  Instead, UDP provides speed because it doesn't take the time to establish a dedicated connection, it has no in-order delivery which negates the latency caused by head-of-line blocking, and the lack of acknowledgements creates a one-way data flow that cuts down on the latency causes by extra round trips."
   ]
  },
  {
   "cell_type": "markdown",
   "id": "bba31c8c-63e7-4554-ad40-7f01b8ec3e63",
   "metadata": {},
   "source": [
    "**43. What are the fundamental elements of reliable protocol?**"
   ]
  },
  {
   "cell_type": "markdown",
   "id": "1a8d2b69-85b5-47f4-8309-ef83ea4e3fbf",
   "metadata": {},
   "source": [
    "- Network Reliability ensures that a reliable communication channel is established between processes.\n",
    "    - Consists of 4 key elements:\n",
    "        - In-order delivery: data is received in the order that it was sent (sequence numbers)\n",
    "        - Error detection: corrupt data is identified using a checksum\n",
    "        - Handling data loss: missing data is retransmitted based on acknowledgements and timeouts -> ACK\n",
    "        - Handling duplication: duplicate data is eliminated/deleted through the use of sequence numbers"
   ]
  },
  {
   "cell_type": "markdown",
   "id": "134d2012-72ee-4015-9274-6c01a20b9462",
   "metadata": {},
   "source": [
    "**44. What is pipe-lining protocols? What are the benefits of it?**"
   ]
  },
  {
   "cell_type": "markdown",
   "id": "4077396b-2242-4fc0-adfc-8fb70b3808f6",
   "metadata": {},
   "source": [
    "Pipelining is the process of sending multiple messages at once without waiting for an acknowledgement from the receiver for each message.  Because TCP is a reliable transmission protocol, eveny segment that is sent must be acknowledged by the receiver befroe a new segment can be sent.  This can contribute significantly to latency overhead.  With pipelining, the sender implements a window (set in the Window Size field in the Segment header) which represents the maximum number of messages that can be sent at one time and the receiver acknowledges each segment as it is received.   Once it receives acknowledgement from the receiver for all segments in that widows, it moves on.  \n",
    "\n",
    "The advantage of this pipelined approach is its more efficient use of available bandwidth. Instead of wasting lots of time just waiting for acknowledgements, more time is spent actually transmitting data.  This ensures that TCP is reliable but also efficient as possible."
   ]
  },
  {
   "cell_type": "markdown",
   "id": "7344f65f-899c-473c-b7be-99403b255c95",
   "metadata": {},
   "source": [
    "**45. What is a network port?**"
   ]
  },
  {
   "cell_type": "markdown",
   "id": "0f107a9d-0080-449b-bc02-f4bb5195fe01",
   "metadata": {},
   "source": [
    "A port is an identifier for a specific process or application running on a host.\n",
    "\n",
    "When a client application wants to communicate with a server application on another computer, it sends data packets to the appropriate port number on the server. The server receives the packets and directs them to the appropriate application or service based on the port number."
   ]
  },
  {
   "cell_type": "markdown",
   "id": "3c0c2abe-f1f6-455b-ab64-edcf1018300b",
   "metadata": {},
   "source": [
    "**46. What is a port number?**"
   ]
  },
  {
   "cell_type": "markdown",
   "id": "8e8f8868-2d54-4f43-9465-ad645a7e0885",
   "metadata": {},
   "source": []
  },
  {
   "cell_type": "markdown",
   "id": "21bc2b1b-7065-408f-8176-f881716e1a99",
   "metadata": {},
   "source": [
    "**47. What is a network socket?**"
   ]
  },
  {
   "cell_type": "markdown",
   "id": "f9940349-460f-456c-968a-86b72e1e4568",
   "metadata": {},
   "source": [
    "A network socket refers to the communication end-point that consists of the port number and IP address together.  An IP address and port number combined define a communication end-point known as a network socket.  It is used to establish a network connection between two applications or processes running on different computers.  That’s why the Transport layer is known as providing a port to port connection, or a socket to socket connection"
   ]
  },
  {
   "cell_type": "markdown",
   "id": "91b6a58b-ea4d-4e39-b47d-67e0737e4a04",
   "metadata": {},
   "source": [
    "**48. Is TCP connectionless? Why?**"
   ]
  },
  {
   "cell_type": "markdown",
   "id": "89485907-3dfe-453c-a5a5-5b85e5b9bf8d",
   "metadata": {},
   "source": [
    "TCP is a connection-oriented system.  It establishes a reliable end-to-end connection between processes on different hosts over a network. A connection-oriented system does not start sending application data until a connection has been established between processes.  TCP establishes this connection using the three-way handshake process. \n",
    "\n",
    "In a connection-oriented system, the host machine has a socket object listening for messages sent to that specific IP address/ port number pair.  When it receives a message, it looks at the source IP address and source port number, and creates a new socket dedicated to listening to messages containing that specific \"four-tuple\" (source and destination IP address and port number).  Further messages with a matching four-tuple are sent to and handled by that socket object."
   ]
  },
  {
   "cell_type": "markdown",
   "id": "90842f54-91d7-46da-b2a1-a33296bb9513",
   "metadata": {},
   "source": [
    "**49. How do sockets on the implementation level relate to the idea of protocols being connectionless or connection-oriented?**"
   ]
  },
  {
   "cell_type": "markdown",
   "id": "4224883b-408f-4f07-b750-5b95ea32d7e8",
   "metadata": {},
   "source": [
    "At the implementation level, sockets are a programming interface consisting of a combination of an IP address and a port number that allows for end-to-end communication between processes over a network.  The difference between a connection-oriented and a connectionless system is how the host machine handles the PDU it receives through the use of sockets.\n",
    "\n",
    "A connection-oriented protocol, such as TCP, does not start sending application data until a connection has been established between processes.  The host machine has a socket object listening for messages sent to that specific IP address/ port number pair. When it receives a message, it looks at the source IP address and source port number, and creates a new socket dedicated to listening to messages containing that specific \"four-tuple\" (source and destination IP address and port number). This new socket object establishes a dedicated virtual connection between two processes running on separate hosts.  Further messages with a matching four-tuple are sent to and handled by that socket object.  The advantage of having this dedicated connection is that it allows you to implement rules for managingig communication such as in-order delivery, message acknowledgements and retransmission of messages that weren't received etc.\n",
    "\n",
    "On a connectionless system, such as UDP, does not establish a connection between processes before transmission.  The host will have a single socket object listening for messages sent to that specific destination IP address / destination port number pair.  It relies on that single object for all communication and receives the messages as they arrive and sends responses as appropriate.  The advantages of a connectionless system include low latency overhead because it does not require setting up and maintaining a connect before data transfer, and flexibility because applications can send data to any endpoint on the network without having to set up a dedicated communication channel.  The disadvantage of a connectionless system is that it doesn't provide the reliability features that a connection-oriented system does.  Because they don't establish a connection between two processes before any data is exchanged they can't implement the in-order delivery, message acknowledgement and retransmission features because there is no message sequencing."
   ]
  },
  {
   "cell_type": "markdown",
   "id": "0a8089e9-b080-405d-b8bb-290fe6e1dcd4",
   "metadata": {},
   "source": [
    "**50. What are sockets on implementation and on a theoretical level?**"
   ]
  },
  {
   "cell_type": "code",
   "execution_count": null,
   "id": "085c0558-9856-4d41-b0c4-1297cc2bc7c3",
   "metadata": {},
   "outputs": [],
   "source": []
  },
  {
   "cell_type": "markdown",
   "id": "4f5e99aa-0920-471e-ad82-533ce9aa6b0d",
   "metadata": {},
   "source": [
    "**51. What does it mean that the protocol is connection-oriented?**"
   ]
  },
  {
   "cell_type": "code",
   "execution_count": null,
   "id": "dd1dd8f4-a5e4-4368-beaa-63339e63581c",
   "metadata": {},
   "outputs": [],
   "source": []
  },
  {
   "cell_type": "markdown",
   "id": "fba99282-079b-4f73-86ad-b6292141474c",
   "metadata": {},
   "source": [
    "**52. What is a three-way handshake? What is it used for?**"
   ]
  },
  {
   "cell_type": "markdown",
   "id": "209cb0ad-d9b8-4db1-a180-8a2bc3c06418",
   "metadata": {},
   "source": [
    "The three-way handshake is what TCP uses to establish a dedicated and reliable connection between two different processes overt the network.  It is a three-step process that adds an entire round-trip of latency before any application data can be exchanged.  The TCP handshake ensures network reliability because it handles data loss though message acknowledgement and ensures in-order delivery and de-duplication via a message synchronizing mechanism."
   ]
  },
  {
   "cell_type": "markdown",
   "id": "0e5fd0ab-8384-43e3-b643-392502c5a10c",
   "metadata": {},
   "source": [
    "**53. What are the advantages and disadvantages of a Three-way handshake?**"
   ]
  },
  {
   "cell_type": "markdown",
   "id": "4d15340a-5eb3-496c-b88a-c8778a1d567a",
   "metadata": {},
   "source": [
    "The advantages of the three-way handshake include reliability and flow control.  It provides relaibility by handling data loss through message acknoledgement and retransmission and ensures in-order delivery and de-duplication via the synchronized segment numbers.\n",
    "\n",
    "The disadvantages of the three-way handshake include latency overhead and complexity.  It is a three-step process that requires three segments to be exchanged between two endpoints, which adds an entire round-trip of latency before any application data can be exchanged.  It can also be complex to implement because of the multiple steps involved.  Any errors or delays in any of the steps can lead to connection failure or performance issues."
   ]
  },
  {
   "cell_type": "markdown",
   "id": "00dcd320-651d-410b-bb91-41267a45115f",
   "metadata": {},
   "source": [
    "**54. What are multiplexing and demultiplexing?**"
   ]
  },
  {
   "cell_type": "markdown",
   "id": "9b667dad-f030-4cbd-a053-2e950c3be06b",
   "metadata": {},
   "source": [
    "Multiplexing is the process of gathering content from all the ports and transmitting them over a single channel.  An example is a single device communicating with a browser, email client and streaming Spotify all through the same network connection.\n",
    "\n",
    "Demultiplexing is the process of sending the contents of received PDUs at the Transport layer (Segments or Datagrams) to the correct destination prots, using the destination port number in the Segment/Datagram header.  \n",
    "\n",
    "The source and destination IP addresses in an IP packet header are used to create a single communication channel between hosts, while the source and destination port numbers (present in both TCP Segments and UDP Datagrams) are used to transmit multiple data inputs across that single channel (multiplexing), and to separate them out on the other side (demultiplexing). This is the core of multiplexing and demultiplexing."
   ]
  },
  {
   "cell_type": "markdown",
   "id": "61e09713-f425-403a-a3e2-807a2d71f58a",
   "metadata": {},
   "source": [
    "**55. How does TCP facilitate efficient data transfer?**"
   ]
  },
  {
   "cell_type": "markdown",
   "id": "beda21bf-1859-4acd-aeee-9c703ef2586a",
   "metadata": {},
   "source": [
    "TCP facilitates efficient data transfer through flow control and congestion avoidance.  Flow control is a technique used to regulate the data transmission between two devices and prevent the sender from overwhelming the receiver with too much data at once.  The sender transmits a certain amount of data and the receiver sends back an acknowledgement letting the sender know how much data it can receive, which the sender uses to adjust its transmission rate.  This helps to mitigate the increased latency inherent in TCP connections.\n",
    "\n",
    "Congestion avoidance is a service provided by TCP that attempts to prevent network congestion.  Network congestion occurs when the demand for network resources exceed the available supply.  TCP uses data loss feedback as part its congestion avoidance mechanism.  When there is a lot of data loss, or a lot of retransmissions are required, this indicates that the amount of data on the network exceeds the capacity to process it and will reduce the size of its transmission window.  This helps make data transmission as efficient as possible to mitigate the latency overhead inherent in TCP connections."
   ]
  },
  {
   "cell_type": "markdown",
   "id": "db5e674c-99a5-4776-91ed-ce5cdc1153b7",
   "metadata": {},
   "source": [
    "**56. What is flow control? How does it work and why do we need it?**"
   ]
  },
  {
   "cell_type": "code",
   "execution_count": null,
   "id": "8e70f8ce-54a0-4c01-83ee-f3ff9a29cbc4",
   "metadata": {},
   "outputs": [],
   "source": []
  },
  {
   "cell_type": "markdown",
   "id": "a5ae33db-fa7c-414c-a781-791ea6132cf7",
   "metadata": {},
   "source": [
    "**57. How TCP prevents from receiver's buffer to get overloaded with data?**"
   ]
  },
  {
   "cell_type": "code",
   "execution_count": null,
   "id": "ca0306a9-db1e-4483-8030-2e1df4d2d175",
   "metadata": {},
   "outputs": [],
   "source": []
  },
  {
   "cell_type": "markdown",
   "id": "2f53a98e-77d8-46ac-8a23-09f6522240a4",
   "metadata": {},
   "source": [
    "**58. What is congestion avoidance?**"
   ]
  },
  {
   "cell_type": "code",
   "execution_count": null,
   "id": "da7222bb-6662-4937-9ecf-843104112645",
   "metadata": {},
   "outputs": [],
   "source": []
  },
  {
   "cell_type": "markdown",
   "id": "a17323b2-aa9b-489f-97c5-f5a7cfca0826",
   "metadata": {},
   "source": [
    "**59. What is network congestion?**"
   ]
  },
  {
   "cell_type": "code",
   "execution_count": null,
   "id": "7cc49d64-3b15-4855-ad80-1c9e27fa475f",
   "metadata": {},
   "outputs": [],
   "source": []
  },
  {
   "cell_type": "markdown",
   "id": "cc1dd2d5-aeeb-4761-bd6e-4a1e934021bd",
   "metadata": {},
   "source": [
    "**60. How do transport layer protocols enable communication between processes?**"
   ]
  },
  {
   "cell_type": "markdown",
   "id": "4b2f0f30-282b-4503-848d-5b633282d030",
   "metadata": {},
   "source": [
    "<mark>COME BACK TO THIS</mark>"
   ]
  },
  {
   "cell_type": "markdown",
   "id": "ab76e0a5-5686-473d-b564-618d0471115d",
   "metadata": {},
   "source": [
    "**61. Compare UDP and TCP. What are similarities, what are differences? What are pros and cons of using each one?**"
   ]
  },
  {
   "cell_type": "markdown",
   "id": "d1dd5d28-070c-45df-aaa4-ea11d082bb86",
   "metadata": {},
   "source": [
    "TCP and UDP are two of the most commonly used transport layer protocols in network communication.  \n",
    "\n",
    "Similarities:\n",
    "- They both enable end-to-end communications between processes on different hosts.\n",
    "- They both use port numners to identify the application.  \n",
    "- They both provide error detection through the use of the chekcsum field in their header. (error detection for UDP is optional in IPv4.\n",
    "- They both provide multiplexing and demultiplexing\n",
    "    \n",
    "Differences:\n",
    "- UDP is a connectionless protocol, while TCP is a connection-oriented protocol. This means that UDP does not establish a connection before transmitting data, while TCP establishes a reliable connection before transmitting data.\n",
    "- TCP provides reliability features such as in-order delivery, message ackowledgement and retransmission and UDP does not. \n",
    "- TCP provides flow control and congestion avoidance and UDP does not.\n",
    "- UDP datagrams can be lost or delivered out of order, while TCP guarantees in-order delivery of data.\n",
    "\n",
    "TCP Pros and Cons:\n",
    "- TCP provides reliable delivery of data\n",
    "- It can adjust its sending rate based on network conditions to avoid congestion and ensure reliable data transmission.\n",
    "- It is well-suited for applications that require reliable data transmission, such as email and file transfer, processing credit card payments, loading web pages etc.<br><br>\n",
    "- TCP introduces latency overhead due to the need of establishing a connection with the three-way handshake, which can up to two round trip times of latency.\n",
    "- TCP can cause head-of-line block due to the in-order delivery of segments which can potentially lead to increased queuing delay and reduced throughput for the connection.\n",
    "    \n",
    "UDP Pros and Cons:\n",
    "- UDP is faster than TCP because its connectionless and doesn't need to establish a connection before it starts sending data.  \n",
    "- Its lack of in-order delvery means no latency due to Head-of-Line blocking, and the one way data flow (there are no acknowledgments) of a connectionless system cuts down on latency due to extra round trips, and since it is a connectionless protocol, it provides no connection state tracking.\n",
    "- It is well-suited for applications that require low latency and can tolerate some data loss, such as real-time video, audio streaming, online games. (DNS queries are also usually done through UDP because of its faster speed.)\n",
    "- It is simpler and requires less overhead than TCP."
   ]
  },
  {
   "cell_type": "markdown",
   "id": "d1c90841-843b-453a-b094-2f10b7a3cad9",
   "metadata": {},
   "source": [
    "**62. What does it mean that network reliability is engineered?**"
   ]
  },
  {
   "cell_type": "markdown",
   "id": "9a0a8cfa-9313-4958-b16e-66b2295b84f2",
   "metadata": {},
   "source": [
    "It's easy to think of 'the internet' as some abstract thing that just 'works'. One of the aims of this course is to peel away some of those layers of abstraction to show that the internet and the web are actually the combination of multiple technologies that have been designed and engineered. Network reliability is one aspect of that."
   ]
  },
  {
   "cell_type": "markdown",
   "id": "5e45d201-96ef-46ea-843a-e9dc6185c5f8",
   "metadata": {},
   "source": [
    "**63. Give an overview of the Application Layer.**"
   ]
  },
  {
   "cell_type": "markdown",
   "id": "090dbfeb-9a84-4fe3-ab4e-e416105ca87d",
   "metadata": {},
   "source": [
    "The top layer in the TCP/IP model of network communication is the Application layer, which is governed by the Hypertext Transfer Protocol or HTTP. HTTP is a request-respsonse protocol that is concerned with structuring the messages that are exchanged between applications. The PDU at this layer, referred to as a Message, can contain many different things depending on what application is running and what protocol is used to encapsulate the message (HTTP, FTP, SMTP etc.).  \n",
    "\n",
    "At the Application Layer, applications can communicate with each other using either a client-server or peer-to-peer architecture.  In the client-sever model, the client, for example a web-browser or client application, issues an HTTP request to a server, which then response and provides the requested resources.  The client is responsible for rendering the responses so that it is humam-readable."
   ]
  },
  {
   "cell_type": "markdown",
   "id": "901a20ab-ca5b-42fe-9e2e-1896661301dd",
   "metadata": {},
   "source": [
    "**64. What is HTML?**"
   ]
  },
  {
   "cell_type": "markdown",
   "id": "bbbe556c-1be7-46cb-9f1c-e558c82acbb3",
   "metadata": {},
   "source": [
    "HTML (Hypertext Markup Language) is a markup language used for creating web pages and other types of online content.  It is the means by which resources on the World Wide Web are uniformly structured."
   ]
  },
  {
   "cell_type": "markdown",
   "id": "03ecca44-7cae-4a98-aef1-df305f8a48cb",
   "metadata": {},
   "source": [
    "**65. What is a URL and what components does it have?**"
   ]
  },
  {
   "cell_type": "markdown",
   "id": "ca7f808f-99a3-4999-883c-5e3a1734892c",
   "metadata": {},
   "source": [
    "A Uniform Resource Locator (URL) is a subset of a Uniform Resource Identifier (URI) that provides the complete address of a resource on the internet.  A URL contains a scheme, a host (or hostname), a port, a path and a query string."
   ]
  },
  {
   "cell_type": "markdown",
   "id": "9fc920b4-d6da-41b6-9da1-0aef5dd5f735",
   "metadata": {},
   "source": [
    "**66. What is a Query string? What it is used for?**"
   ]
  },
  {
   "cell_type": "markdown",
   "id": "395a0a1a-25b0-4c41-a528-9c25e00c7cc4",
   "metadata": {},
   "source": [
    "A query string is the part of a URL that can be used to pass additional information to the server during an HTTP request.  They take the form of name/value pairs separated by an `=` sign.  Multiple name/value pairs are separated by an `&` sign.  The start of a query string is indicated by a `?`.\n",
    "\n",
    "Query strings are limited in use (compared to a `POST` request) because:\n",
    "- They have a maximum length (a few thousand characters\n",
    "- They are not suitable for sensitive information as they are plainly visible in the URL\n",
    "- Certain character needs to be URL encoded."
   ]
  },
  {
   "cell_type": "markdown",
   "id": "fbad08de-77cc-45c2-bb18-af0ad013f213",
   "metadata": {},
   "source": [
    "**67. What URL encoding is and when it might be used for?**"
   ]
  },
  {
   "cell_type": "markdown",
   "id": "e3b8f179-898a-439e-9f2e-133377384e1e",
   "metadata": {},
   "source": [
    "URL encoding is a technique that replaces characters that aren't allowed in a URL with an ASCII code.  This is done by replacing the non-conforming character with a percent sign \"%\" followed by a two-digit hexadecimal value that represents the the equivalent UTF-8 character.  There are two encodings that are commonly used to represent spaces within the query string of a URL: `%20` and `+`. You should generally follow this convention and convert all spaces in a query to one of these two encodings."
   ]
  },
  {
   "cell_type": "markdown",
   "id": "af9a7940-22d9-436c-8d65-520284272e01",
   "metadata": {},
   "source": [
    "**68. Which characters have to be encoded in the URL? Why?**"
   ]
  },
  {
   "cell_type": "markdown",
   "id": "635036b5-7705-4f73-9924-f6fe64b70ee8",
   "metadata": {},
   "source": [
    "URL encoding is used if \n",
    "- a character has no corresponding character in the original ASCII set\n",
    "- is unsafe because it can be misinterpreted or modified by some systems (i.e. `%`, spaces, quotation marks, the `#` character, `<` and `>`, `{` and `}`, `and`, and `~`)\n",
    "- or the character is reserved for special use within the url. (such a `?` which indicates the beginning of the query string or `&` which separates query parameters.  Also `/`, `:`, `@`)"
   ]
  },
  {
   "cell_type": "markdown",
   "id": "17da477f-32af-4258-aa80-921d1af5e7c2",
   "metadata": {},
   "source": [
    "**69. What is www in the URL?**"
   ]
  },
  {
   "cell_type": "markdown",
   "id": "f8c5c4c0-5698-4aa3-885a-8580bfba45ab",
   "metadata": {},
   "source": [
    "In a URL, \"www\" stands for \"World Wide Web\". It is a commonly used subdomain that is often used to identify the web server that hosts a website. The \"www\" subdomain is traditionally used for websites that are accessed via the HTTP or HTTPS protocol."
   ]
  },
  {
   "cell_type": "markdown",
   "id": "c59deeea-eb27-4f2d-8329-6f156741996b",
   "metadata": {},
   "source": [
    "**70. What is URI?**"
   ]
  },
  {
   "cell_type": "markdown",
   "id": "357a592c-e94e-4bdc-9c8a-83d302745d93",
   "metadata": {},
   "source": [
    "A URI is a broader term that refers to any string of characters that identifies a resource on the internet. This includes URLs as well as other types of identifiers, such as URNs (Uniform Resource Names)."
   ]
  },
  {
   "cell_type": "markdown",
   "id": "3d637567-57b4-4720-a565-29d5b0cfeb49",
   "metadata": {},
   "source": [
    "**71. What is the difference between scheme and protocol in URL?**"
   ]
  },
  {
   "cell_type": "markdown",
   "id": "299818b7-cb2c-4b39-a317-6ed50364fbf9",
   "metadata": {},
   "source": [
    "The scheme identifies which protocol should be used to access the resource, but not the specific version\n",
    "Schemes and protocols can be differentiated by their case; the convention is to refer to scheme names in lowercase, e.g. http, and protocol names in uppercase, e.g. HTTP."
   ]
  },
  {
   "cell_type": "markdown",
   "id": "fc154254-1980-46b5-b255-ac12711a5910",
   "metadata": {},
   "source": [
    "**72. What is HTTP?**"
   ]
  },
  {
   "cell_type": "markdown",
   "id": "bac3de7d-e373-4698-b77f-d3bcae91bb18",
   "metadata": {},
   "source": [
    "HTTP or Hypertext Transfer Protocol is a a protocol that serve as a link between applications and the transfer of hypertext documents.  HTTP operates at the application layer of networked communication and is concerned with structuring the messages that are exchanged between applications.  It provides uniformity to the way resources are transferred and is an agreed-upon format on how to communicate.  It determines how requests are made and how they are responded to with regards to resources on the web.  HTTP is based on the client-server paradigm, in which a client (usually some kind of browser) makes a request through the network for a particular web resource stored on a server. In order for the protocol to work, the Request and Response must be structured in such a way that both the client and the server can understand them."
   ]
  },
  {
   "cell_type": "markdown",
   "id": "5cfd262b-beeb-430a-85b8-e53a12bfad45",
   "metadata": {},
   "source": [
    "**73. What is the role of HTTP?**"
   ]
  },
  {
   "cell_type": "code",
   "execution_count": null,
   "id": "dae7dece-a824-48e3-8dec-d3db485fd6db",
   "metadata": {},
   "outputs": [],
   "source": []
  },
  {
   "cell_type": "markdown",
   "id": "dca87960-6c37-4614-bf0e-b3d5a5987c09",
   "metadata": {},
   "source": [
    "**74. Explain the client-server model of web interactions, and the role of HTTP as a protocol within that model**"
   ]
  },
  {
   "cell_type": "markdown",
   "id": "9ae66e05-ea9a-4cd6-a246-5bb3104b5133",
   "metadata": {},
   "source": [
    "The client-server model is one in which a client, such as a web browser, sends a request to a server, a remote computer, and the server sends responses back to the client which will usually contain the requested resource or an error message if the resource was not found.  HTTP is a request-response protocol based on the client-server paradigm that determines how requests for resources on the web are made, as well as how those requests should be responded to.  Specifically, HTTP governs the syntax or strucute of HTTP requests and responses."
   ]
  },
  {
   "cell_type": "markdown",
   "id": "771465c0-3089-4854-8bcc-1d648a095e5a",
   "metadata": {},
   "source": [
    "**75. What are HTTP requests and responses? What are the components of each?**"
   ]
  },
  {
   "cell_type": "markdown",
   "id": "a2a4ed60-6534-46ae-85db-c8943fa5ba41",
   "metadata": {},
   "source": [
    "An HTTP request is a text-based message sent from the client to the server with the aim of accessing a resource on the server.  Examples of an HTTP request include entering an url in the browser address bar, clicking a link or submitting a form. An HTTP request consists of a request line, headers and an optional body.   The request line contains the HTTP method, the path (including any query parameters) and the HTTP version (as of HTTP 1.0).  The three items in the Request Line are separated by a space. The headers allow the client to send additional information during the HTTP request/response cycle.  The `Host` header has been a requirement since HTTP 1.1. With HTTP 1.1, an empty line separates the Header from the Body.\n",
    "\n",
    "AN HTTP response is a text-based message sent from the server to the client with the aim of responding to the client's request.  It consists of a status line, optional headers and an optional body.  The status line contains a status code, status text and HTTP version.  The three items in the Status Line are separated by a space. HTTP response headers contain additional information about the response. With HTTP/1.1,, an empty line separates and delineates the Header from the Body.  The response body consists of the raw data for the requested resource.  This might be the HTML of the webpage, or the raw data of any files being requested, such as images, videos, or audio files."
   ]
  },
  {
   "cell_type": "markdown",
   "id": "26c22613-b090-41e0-8ea4-c7c8f1c75390",
   "metadata": {},
   "source": [
    "**76. Describe the HTTP request/response cycle.**"
   ]
  },
  {
   "cell_type": "markdown",
   "id": "c8e9583c-42d8-4ab8-bb76-56db8cc2c3b6",
   "metadata": {},
   "source": [
    "The HTTP request/response cycle is the interaction between client (browser) and server (software running on the server in which the client makes a request and the server returns a response.  It begins with the client making an HTTP request.  This is typically issued by a browser in response to some kind of user action or event (i.e. typing a url into an address bar, clicking a link, submitting a form, etc).  The two required pieces of an HTTP request are the HTTP method and the path.  The `Host` header is also required for HTTP/1.1. ( This header is typically set by the client automatically, based on the URI requested by the user).The request is sent off to the server by means of thre lower layer network protocols.\n",
    "\n",
    "When the server receives the request, it will analyze it.  This may include actions like verifying the user's session, loading any necessary data from a database or rendering HTML.  Once the server has analyzed the request, it will send a response to the client.  This response includes a status text and code and optional headers and body.  When the browser receives the response, it will process the information and render the resource in a user-friendly manner."
   ]
  },
  {
   "cell_type": "markdown",
   "id": "71ea8c34-d633-4415-8971-621554026f85",
   "metadata": {},
   "source": [
    "**77. What is a state in the context of the 'web'?**"
   ]
  },
  {
   "cell_type": "markdown",
   "id": "6ec6ec47-59ae-4b2e-b634-1da61ccde94c",
   "metadata": {},
   "source": [
    "In the context of the web, a state refers to the current condition or status of a website or web application at any given moment. The state of a website or application can refer to a variety of factors, including the current user session, the user's browsing history, the current data displayed on the page, and the state of any ongoing processes or transactions."
   ]
  },
  {
   "cell_type": "markdown",
   "id": "5d954c9d-d511-4f5e-a5df-ea990a933c66",
   "metadata": {},
   "source": [
    "**78. What is statelessness?**"
   ]
  },
  {
   "cell_type": "markdown",
   "id": "e9141538-42ac-4985-bc02-c56cba8a72fa",
   "metadata": {},
   "source": [
    "Statelessness means that the server does not store any information about a client's previous requests or interactions.  Each request from the client to the server is treated as an independent, standalone request, and the server responds based solely on the information contained in that request.\n",
    "\n",
    "Stateless protocols are resilient, fast, and flexible - the server doesn't have to retain any information between each request/response cycle and no part of the system have to perform any clean up."
   ]
  },
  {
   "cell_type": "markdown",
   "id": "e610e897-9731-4583-a3bb-0e9ab9a39060",
   "metadata": {},
   "source": [
    "**79. What is a stateful Web Application?**"
   ]
  },
  {
   "cell_type": "markdown",
   "id": "73290b77-cfc1-41d2-832f-d7d660f05da7",
   "metadata": {},
   "source": [
    "A stateful web application is a web application that maintains information or context about a user's interactions and activities across multiple requests and responses. In other words, the server maintains a session state or context for each user, which is updated and accessed as the user interacts with the application.\n",
    "\n",
    "Stateful web applications can also be more complex to develop and manage, as they require the server to maintain and manage session state across multiple requests and responses, which can create issues with scalability, performance, and reliability. In addition, stateful web applications can be vulnerable to security risks like session hijacking and session fixation, which can compromise the user's privacy and security."
   ]
  },
  {
   "cell_type": "markdown",
   "id": "6d43bb67-c1b7-41d8-9921-bae3a36da86b",
   "metadata": {},
   "source": [
    "**80. How can we mimic a stateful application?**"
   ]
  },
  {
   "cell_type": "markdown",
   "id": "bf4083be-1539-4821-8dc2-acf410780601",
   "metadata": {},
   "source": [
    "One way to mimic a stateful application is to have the server send some form of unique token, called a session id, to the client. Whenver the client makes a request to the server, the client appends this token as part of the request, whcih allows the server to identify the client.  This mechanism of passing a session id back and forth between the client and server creates a sense of persistent connection between requests.\n",
    "\n",
    "Another way to maintain a sense of statefulness is to store small files in the browser, called cookies, that contain the session information.  Session data is generate on the server-side and the session id is sent to the client in the form of a cookie.  The client-side cookie is compared with the server-side session data on each request to identify the current session and unlock the stored session data.\n",
    "\n",
    "Asynchronous JavaScript and XML (AJAX) can also be used to maintain statefulness.  AJAX enables dynamic updates to a web page without requiring a full page refresh.  AJAX allows the client to send and retrieve information in small pieces that can be used to update the state of an application without refreshing, which allows the user to interact with the web application without losing the current state or context of the application."
   ]
  },
  {
   "cell_type": "markdown",
   "id": "b88a5ba4-9c01-4f20-ac5c-89536d089772",
   "metadata": {},
   "source": [
    "**81. What is the difference between stateful and stateless applications?**"
   ]
  },
  {
   "cell_type": "code",
   "execution_count": null,
   "id": "ce430743-eb57-4c5b-afe1-103df8a15829",
   "metadata": {},
   "outputs": [],
   "source": []
  },
  {
   "cell_type": "markdown",
   "id": "572c6250-b315-430a-b10c-ef71633fce54",
   "metadata": {},
   "source": [
    "**82. What does it mean that HTTP is a 'stateless protocol?**"
   ]
  },
  {
   "cell_type": "markdown",
   "id": "d3a23051-c1dc-409c-a905-b024eae5cc10",
   "metadata": {},
   "source": [
    "<mark>START HERE!</mark>"
   ]
  },
  {
   "cell_type": "markdown",
   "id": "40f7a20a-1b56-4187-9a96-4ae8afff6496",
   "metadata": {},
   "source": [
    "**83. Why HTTP makes it difficult to build a stateful application?**"
   ]
  },
  {
   "cell_type": "code",
   "execution_count": null,
   "id": "7e5c6716-fc33-493e-9136-a8ed0d46aa72",
   "metadata": {},
   "outputs": [],
   "source": []
  },
  {
   "cell_type": "markdown",
   "id": "1df098db-7a9a-4464-bdaf-67663d2815ac",
   "metadata": {},
   "source": [
    "**84. How the idea that HTTP is a stateless protocol makes the web difficult to secure?**"
   ]
  },
  {
   "cell_type": "code",
   "execution_count": null,
   "id": "8ed984b4-7d1f-46cd-91df-f1e45288099b",
   "metadata": {},
   "outputs": [],
   "source": []
  },
  {
   "cell_type": "markdown",
   "id": "50458646-8734-41fe-a87b-5fcbb2f2851d",
   "metadata": {},
   "source": [
    "**85. What is a GET request and how does it work?**"
   ]
  },
  {
   "cell_type": "code",
   "execution_count": null,
   "id": "c61d6a45-8792-493e-82f7-6f9892b9756a",
   "metadata": {},
   "outputs": [],
   "source": []
  }
 ],
 "metadata": {
  "kernelspec": {
   "display_name": "",
   "name": ""
  },
  "language_info": {
   "name": ""
  }
 },
 "nbformat": 4,
 "nbformat_minor": 5
}
