{
 "cells": [
  {
   "cell_type": "markdown",
   "id": "45dccb13-c495-4559-9ae8-1d4c9a542fa5",
   "metadata": {},
   "source": [
    "**Groups of protocols work in a layered system. Protocols at one layer provide services to the layer above.**\n",
    "\n",
    "- The PDU from one layer is encapsulated in the data payload from the layer **BELOW**.\n",
    "- How do protocols at one layer provide services for the layer **ABOVE**?"
   ]
  },
  {
   "cell_type": "markdown",
   "id": "0a5867f7-608f-449d-8da3-37ee509d7ed6",
   "metadata": {},
   "source": [
    "**Connectionless v. connection oriented system**\n",
    "- How do they work?"
   ]
  },
  {
   "cell_type": "markdown",
   "id": "8de8a62b-590e-44c4-85b7-56dad08aa10a",
   "metadata": {},
   "source": [
    "**Does an HTTP response contain a response or status line?**"
   ]
  },
  {
   "cell_type": "markdown",
   "id": "f38b186a-98da-4812-9712-415f7a16a2f6",
   "metadata": {},
   "source": [
    "<b>\n",
    "    \n",
    "- The ability to programmatically instantiate socket objects specifically defined to listen for particular communications (i.e. for a certain application from a certain host) allows for us to implement both connection oriented and connectionless communication systems.\n",
    "    \n",
    "- Conceptually, a socket facilitates multiplexing. On a practical level, instantiation of a socket object in code can implement a TCP or UDP connection specifically\n",
    "</b>"
   ]
  },
  {
   "cell_type": "markdown",
   "id": "27c44bde-e070-49fc-b0b0-33f3d7162d88",
   "metadata": {},
   "source": [
    "- Need clarification"
   ]
  },
  {
   "cell_type": "markdown",
   "id": "48817fbb-4261-4e02-a237-e2bcbae1c5c4",
   "metadata": {},
   "source": [
    "____"
   ]
  },
  {
   "cell_type": "markdown",
   "id": "0fd57897-d4c4-4324-b95c-e9c024cc622e",
   "metadata": {},
   "source": [
    "**What are the steps of the TLS handshake?  Do the client and sever both have private keys?**"
   ]
  },
  {
   "cell_type": "markdown",
   "id": "ebdb341b-34cb-466f-8b12-bff0abf35ce8",
   "metadata": {},
   "source": [
    "_____"
   ]
  },
  {
   "cell_type": "markdown",
   "id": "e7afd0b0-0913-44ef-adaf-f96c7f4271f8",
   "metadata": {},
   "source": [
    "**Is HTTP the only protocol that distinguishes the client from the server?**"
   ]
  },
  {
   "cell_type": "markdown",
   "id": "f8be32f8-fb78-4b84-9cde-75dd5e3c4cbb",
   "metadata": {},
   "source": [
    "____"
   ]
  },
  {
   "cell_type": "markdown",
   "id": "a4f16eed-e352-4ec0-a646-0aaba5a08bf9",
   "metadata": {},
   "source": [
    "**Does a request line's path include the query string / parameters?**"
   ]
  },
  {
   "cell_type": "markdown",
   "id": "e500d476-550c-452c-b34c-7366e9f3d78f",
   "metadata": {},
   "source": [
    "_____"
   ]
  },
  {
   "cell_type": "markdown",
   "id": "1c28ac3f-ed95-4ac7-8493-010ca14d8a52",
   "metadata": {},
   "source": [
    "*- The Transport Layer is the first layer that takes place on the actual host device, whether that’s the client or the server.*\n",
    "\n",
    "**Where do the Internet, Data Link and Physical layers take place?**"
   ]
  },
  {
   "cell_type": "markdown",
   "id": "6c5d40f2-5846-40b6-a547-2b637f199eb1",
   "metadata": {},
   "source": [
    "____"
   ]
  },
  {
   "cell_type": "markdown",
   "id": "c74595fa-cf43-4410-a826-0d25625a3f73",
   "metadata": {},
   "source": [
    "**HTTP Request sent to Port 7124 of User’s device**\n",
    "\n",
    "- Isn't the request sent to the server?"
   ]
  },
  {
   "cell_type": "markdown",
   "id": "41589a47-070a-4e51-90da-d1f6455c874a",
   "metadata": {},
   "source": [
    "_____"
   ]
  },
  {
   "cell_type": "markdown",
   "id": "4833ce86-5ddd-4805-9fbf-8e23341ea6ad",
   "metadata": {},
   "source": [
    "**If the host in a connectionless system doesn't set up a dedicated IP Address/Port number (socket) for for each process/application, how does it provide multiplexing/demultiplexing?**"
   ]
  },
  {
   "cell_type": "markdown",
   "id": "d2b4e878-4b16-4022-ada0-b60acee56ca8",
   "metadata": {},
   "source": [
    "____"
   ]
  },
  {
   "cell_type": "markdown",
   "id": "f9b79514-35a2-4a98-aa82-c319f1a07d93",
   "metadata": {},
   "source": [
    "**When we say that a URL, in addition to identifying a resource, also provides a means of locating the resource by describing its network location, does this mean the <mark>***host/hostname or path***?</mark>**"
   ]
  },
  {
   "cell_type": "markdown",
   "id": "9a84265f-a3b8-4e87-a95d-f6423bc93ec5",
   "metadata": {},
   "source": [
    "____"
   ]
  },
  {
   "cell_type": "markdown",
   "id": "95cd12a6-498d-4187-ba9a-63ea1fff6607",
   "metadata": {},
   "source": [
    "Are these descriptions correct?\n",
    "\n",
    "**Physical**: physical point-to-point communication<br>\n",
    "**Data Link**: logical point-to-point communication<br>\n",
    "**Internet**: end-to-end communication between devices<br>\n",
    "**Transport**: end-to-end communication between applications<br>"
   ]
  },
  {
   "cell_type": "markdown",
   "id": "605a4990-4c37-4128-83a0-7723b7bb8f7d",
   "metadata": {},
   "source": [
    "____"
   ]
  },
  {
   "cell_type": "code",
   "execution_count": null,
   "id": "53dcf0cd-a1ff-46dd-b459-ed509330a537",
   "metadata": {},
   "outputs": [],
   "source": []
  }
 ],
 "metadata": {
  "kernelspec": {
   "display_name": "Ruby 2.7.5",
   "language": "ruby",
   "name": "ruby"
  },
  "language_info": {
   "file_extension": ".rb",
   "mimetype": "application/x-ruby",
   "name": "ruby",
   "version": "2.7.5"
  }
 },
 "nbformat": 4,
 "nbformat_minor": 5
}
