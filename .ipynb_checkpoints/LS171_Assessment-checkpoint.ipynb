{
 "cells": [
  {
   "cell_type": "markdown",
   "id": "d2c9c6ef-82bc-42af-bf67-c1cfdacafc64",
   "metadata": {},
   "source": [
    "**1.**"
   ]
  },
  {
   "cell_type": "markdown",
   "id": "374dff0b-cc81-4c18-a11c-47d7dd56cf55",
   "metadata": {},
   "source": [
    "The internet is a network of networks or a vast number of networks connected together.  A network is formed when at least two devices connect to communicate or exchange data.  The internet consists of a large number of small, localized networks, such as Local Area Networks (LANs).  In between all of these sub-networks are systems of routers that direct network traffic.  The internet is a comprised of both the network infrastructure that facilitates this interconnectivity, which includes routers, switches, cables etc., and the protocols that enable that infrastructure to function.\n",
    "\n",
    "The World Wide Web is a service made up of a collection of interconnected documents and resources that can be accessed via the internet.  It is a system of resources which can be searched using a Uniform Resource Locator (URL) through web browsers like Google Chrome.  HTTP is the protocol most often used by applications to interact with the resources that make up the Web and HTML is the means by which the resouces on the Web are structured."
   ]
  },
  {
   "cell_type": "markdown",
   "id": "1d88fa9c-856e-40c9-931a-e5fdcead1a91",
   "metadata": {},
   "source": [
    "**2.**"
   ]
  },
  {
   "cell_type": "markdown",
   "id": "1bb1a308-9a91-4936-a2a8-ab52a68568e5",
   "metadata": {},
   "source": [
    "The Media Access Control (MAC) address is an address linked to a specific physical device.  For this reason, it is referred to as the physical or burned-in address.  MAC addresses are formatted as a sequence of six two-digit hexadecimal numbers, e.g. `00:40:96:9d:68:0a`, with different ranges of addresses being assigned to different network hardware manufacturers.\n",
    "\n",
    "MAC addresses are used at the Link/Data Link layer of network communication to provide a unique identifier for each device on the network. An Ethernet Frame contains the source and destination MAC addresses in its header.  Switches will read and process each Frame and look up the MAC address table to determine which port the destination device is connected to.  Once the switch learns the correct port for the destination MAC address, it forwards the Frame only to that port.\n",
    "\n",
    "MAC addresses do not work well in large decentralized systems because they are physical, not logical.  This means they do not changed based on location.  Each MAC address is tied (bured in) to a specific physical device.  They also aren't scalable; they are flat and do not possess the hierarchical structure that allows us to categorize them into searchable subdivisions (like subnetting with IP addresses).  The entire address is a single sequence of values that can't be broken down into sub-divisions."
   ]
  },
  {
   "cell_type": "markdown",
   "id": "e1058f2c-7518-4a9d-bf87-956fbb8c6f52",
   "metadata": {},
   "source": [
    "**3.**"
   ]
  },
  {
   "cell_type": "markdown",
   "id": "b0f47547-2294-4620-99c8-c614f9e7b80a",
   "metadata": {},
   "source": [
    "The Media Access Control (MAC) address is an address linked to a specific physical device.  It is referred to as the physical or burned-in address.  MAC addresses are used at the Data Link layer to provide a unique identifier for each device on the network for node-to-node communication in a Local Area Network (LAN).  An Ethernet Frame contains the source and destination MAC addresses in its header.  Switches will read and process each Frame and looks up the MAC address table to determine which port the destination device is connected to.  Once the switch learns the correct port for the destination MAC address, it forwards the Frame only to that port.\n",
    "\n",
    "An IP address is a unique address that we can use to identify a device or host on the internet. The Internet Protocol uses a system of IP Addressing to direct data between one device and another across networks.  When an IP packet is sent from a device, it is received by a router that will examine the destination IP address contained in the Packet's header and determines the best route for the packet to travel. This router makes this determination by performing a lookup in its routing table which contains entries for each network destination. The matching network address will determine where in the network hierarchy the  searchable subdivisions (subnet) exists.\n",
    "\n",
    "MAC addresses and IP addresses are used in two different layers of network communication.  MAC addresses are physical because they are linked to a specific physical so they work well for communication at the Data Link layer where all devices in a LAN are connected to a switch or hub that can keep a record of each device's address in a MAC address table.  MAC addresses are also flat - they are represented  as a single string of six two-digit hexadecimal numbers.  They do not not have anhy built-in hierarchy which allows us to categorize them into searchable subdivisions, and this flat structure makes them well-suited for network communication in the Ethernet Protocol because it simplifies the process of addressing and delivering Ethernet Frames.\n",
    "\n",
    "Two characteristics that make IP addresses suitable for inter-network communication are that they are logical and hierarchical.  IP addresses are logical because they are assigned based on their logical location when they join a network and are not tied to any specific physical device. Because they can be easily reassigned or reconfigured, they are scalabale and able to support large, distributed systems. IP addresses are also hierarchical in that their structure allows us to categorize them into search subdivisions (a process referred to as subnetting).  An IP address's hierarchical structure makes it possible for routers to efficiently route data packets between devices on different network it enables routers to use the destination network ID and the routing table when forwarding IP packets, rather than looking up the destination IP address in a table with all possible IP addresses. "
   ]
  },
  {
   "cell_type": "markdown",
   "id": "377c50af-aa23-48a7-84c4-b859e530a7c4",
   "metadata": {},
   "source": [
    "**4.**"
   ]
  },
  {
   "cell_type": "markdown",
   "id": "1b80cf48-aca4-486f-979b-b6779a3d5b81",
   "metadata": {},
   "source": [
    "Data encapsulation in the context of network communication refers to the hiding of data from one layer by encapsulating it within a data unit of the layer below.  That is, the entire Protocol Data Unit (PDU) from one layer forms the data payload of the PDU at the layer below.  We package the PDU at a higher layer with the metadata of a protocol at the current layer, forming a PDU.  For example, the TCP segment at the Transport layer will be encapsulated within an IP packet at the Network/Internet layer and form its data payload."
   ]
  },
  {
   "cell_type": "markdown",
   "id": "eb4df319-7c83-44c1-b11b-914066ec7ceb",
   "metadata": {},
   "source": [
    "**5.**"
   ]
  },
  {
   "cell_type": "markdown",
   "id": "6ecbf66e-69f7-4d8a-b755-e398f46e676a",
   "metadata": {},
   "source": [
    "Latency is a measure of delay that measures the time it takes for data to get from one point in a network to another point in a network.  It is determined by real physical laws, such as the distance traveled and the speed of the signal traveling. Two elements that contribute to latency are propagation delay and transmission delay.  Propogation delay is the amount of time it takes for a message (the first bit) to travel from the sender to the receiver, and can be calculated as the ratio between distance and speed.  Transmission delay is the amount of time it takes to push the data (all the packet's bits) onto the node (switches, routers, and other network devices) for each hop on its journey through the network."
   ]
  },
  {
   "cell_type": "markdown",
   "id": "7d778636-3d02-4145-bb26-26d41dc75737",
   "metadata": {},
   "source": [
    "**6.**"
   ]
  },
  {
   "cell_type": "markdown",
   "id": "70db18a4-9252-42e2-ba8d-49f9eb7949a1",
   "metadata": {},
   "source": [
    "The process by which TCP and UDP transmit multiple data signals over a single channel is called multiplexing.  Multiplexing is the process of gathering content from all the ports and transmitting them over a single channel.  An example is a single device communicating with a browser, email client and streaming Spotify all through the same network connection.  Demultiplexing is the process of sending the contents of received PDUs at the Transport layer (Segments or Datagrams) to the correct destination ports, using the destination port number in the Segment/Datagram header.  \n",
    "\n",
    "The source and destination IP addresses in an IP packet header are used to create a single communication channel between hosts, while the source and destination port numbers (present in both TCP Segments and UDP Datagrams) are used to transmit multiple data inputs across that single channel (multiplexing), and to separate them out on the other side (demultiplexing), end-to-end communication between processes running on separate devices across the network."
   ]
  },
  {
   "cell_type": "markdown",
   "id": "1963b719-6d61-4d26-b199-2c7ddcdd513f",
   "metadata": {},
   "source": [
    "**7.**"
   ]
  },
  {
   "cell_type": "markdown",
   "id": "1f901ec9-0617-4aa5-84f9-0fd1d4d19a1b",
   "metadata": {},
   "source": [
    "TCP is a protocol used within the Transport layer of netork communication.  It is a connection-oriented protocol that uses a three-way handshake to establish a dedicated and reliable connection between processes over the network. When we say that TCP ensures reliable data transfer between applications on top of an unreliable channel, we are referring to the lower-level protocols, including IP and Ethernet, as being unreliable because they do not provide any mechanisms for ensuring reliable transmission of data.  These protocol are concerned with moing data over physical mediums, either wired or wireless, as fast and efficiently as possible without concern for reliability.  \n",
    "\n",
    "TCP provides network reliability by handling data loss through its retransmission mechanism.  If the sender does not receive an acknowledgement from the receiver that the message was received it will send the message again.  It also ensures in-order delivery and de-duplication through its synchronized sequence numbers.  When a message is received, the receiver sends an acknowledgement which uses the sequence number of the message to indicate which message was received. The receiver can detect a duplicate packet by comparing the sequence number of the segment with the sequence numbers of previously received packets.  If they are the same, it can discard it.\n",
    "\n",
    "TCP ensures reliable data transfer between applications on top of the unreliable channel of the lower-level protocols, but it also contributes to the overall latency of the trip due to its complexity, and can cause head-of-line block due to the in-order delivery of segments which can potentially lead to increased queuing delay and reduced throughput for the connection."
   ]
  },
  {
   "cell_type": "markdown",
   "id": "1d81260d-913f-4d60-a8ec-3291d6752b49",
   "metadata": {},
   "source": [
    "**8.**"
   ]
  },
  {
   "cell_type": "markdown",
   "id": "da9b29b7-5d2b-42c5-a27a-d3ebde1f869b",
   "metadata": {},
   "source": [
    "The name of this mechanism is congestion avoidance.  Congestion avoidance is a service provided by TCP that attempts to prevent network congestion.  Network congestion occurs when the demand for network resources exceeds the available supply.  TCP uses data loss feedback as part of its congestion avoidance mechanism.  When there is a lot of data loss, or a lot of retransmissions are required, this indicates that the amount of data on the network exceeds the capacity to process it and will reduce the size of the transmission window.  This helps make data transmission as efficient as possible to mitigate the latency overhead inherent in TCP connections."
   ]
  },
  {
   "cell_type": "markdown",
   "id": "366fdf65-2179-4927-9325-d5c1123bfabd",
   "metadata": {},
   "source": [
    "**9.**"
   ]
  },
  {
   "cell_type": "markdown",
   "id": "93c99209-bb6b-470f-8ee6-e853b4deff81",
   "metadata": {},
   "source": [
    "Latency measures the delay between the transmission of data from the sender and the receipt of that data by the receiver.  The TCP three-way handshake is a three-step process that requires three segments to be exchanged between two endpoints.  This adds an entire round-trip of latency before any application data can be exchanged and contributes to increased latency.\n",
    "\n",
    "TCP can also cause head-of-line (HOL) blocking due to the in-order delivery of segments. HOL blocking relates to how issues in delivering or processing one message in a sequence of messages can delay or 'block' the delivery or processing of the subsequent messages in the sequence.  This can potentially lead to increased queuing delay and reduced throughput for the connection.  "
   ]
  },
  {
   "cell_type": "markdown",
   "id": "0494e14f-189a-4687-be2f-bcdc73edee2c",
   "metadata": {},
   "source": [
    "**10.**"
   ]
  },
  {
   "cell_type": "markdown",
   "id": "cffbec29-c594-4ee3-804b-566ec68e278d",
   "metadata": {},
   "source": [
    "- `/plays/shakespeare` is the path.  The path shows what local resource is being requested from the host.\n",
    "- `https` is the scheme.  The scheme tells the web client which protocol to use to access the resource.\n",
    "- `?cat=comedies` is the query string.  The query string is used to pass additional information in the form of specially formatted query parameters to the server.\n",
    "- `books.co.uk` is the host/hostname.  The host tells the client where the resource is hosted or located."
   ]
  },
  {
   "cell_type": "markdown",
   "id": "027da165-8cd0-41fd-8be5-510e14d2ffba",
   "metadata": {},
   "source": [
    "**11.**"
   ]
  },
  {
   "cell_type": "markdown",
   "id": "31c0a42a-fe17-4e7f-8413-f5ad1de76f82",
   "metadata": {},
   "source": [
    "A query string is the part of a URL that can be used to pass additional information to the server during an HTTP request.  They take the form of name/value pairs separated by an `=` sign.  Multiple name/value pairs are separated by an `&` sign.  The start of a query string is indicated by a `?`.\n",
    "\n",
    "Query strings are limited in use because they have a maximum length (a few thousand characters).  Longer requests should be sent in the body of a `POST` request which has no length restrictions.  Query strings are also limited because they are not suited for sensitive information as they are plainly visible in the URL.  This text can be easily intercepted by unauthorized parties which can lead to unauthorized access to sensitive data."
   ]
  },
  {
   "cell_type": "markdown",
   "id": "79742f72-362a-44ed-aaec-26128233bb33",
   "metadata": {},
   "source": [
    "**12.**"
   ]
  },
  {
   "cell_type": "markdown",
   "id": "bf2d0a4c-0b76-471f-9698-9a730517f510",
   "metadata": {},
   "source": [
    "The reason that these character would appear in a URL or query string is URL encoding.  URL encoding is a technique that replaces characters that aren't allowed in a URL with an ASCII code.  This is done by replacing the non-conforming character with a percent sign \"%\" followed by a two-digit hexadecimal value that represents the the equivalent UTF-8 character.  URL encoding is used if a character has no corresponding character in the original ASCII set, a character is unsafe because it can be misinterpreted or modified by some systems or the character is reserved for special use within the url. \n",
    "\n",
    "`%20` and `%23` are encoded due to the possibility of them being misinterpreted or modified by some systems.  `%20` is an encoding for a **space** and  `%23` is an encoding for the `#` character."
   ]
  },
  {
   "cell_type": "markdown",
   "id": "c08d1af3-d293-4cbf-a6c1-6691e5a14002",
   "metadata": {},
   "source": [
    "**13.**"
   ]
  },
  {
   "cell_type": "markdown",
   "id": "8e2a2e96-ed7f-4b73-b052-3c84a0ad1bab",
   "metadata": {},
   "source": [
    "`POST /clothing/mens/jackets HTTP/1.1` \n",
    "- is the request line.\n",
    "    - `POST` is the HTTP method.  This indicates what kind of action the request is performing\n",
    "    - `/clothing/mens/jackets` is the path.  This indicates where to find the particular resource locally within the server.\n",
    "    - `HTTP/1.1` is the HTTP version.  This tells us which version of HTTP is being used. As of HTTP 1.0, the HTTP version also forms part of the request-line.<br>\n",
    "\n",
    "`Host: outdoor-equipment.com`<br>\n",
    "`Content-Type: application/x-www-form-urlencoded`\n",
    "\n",
    "- are the HTTP header.  The headers allow the client to send additional information with an HTTP request.  T\n",
    "    - The `Host` header has been required since HTTP 1.1.  It indicates where the resource in question is located as a server may contain many hosts\n",
    "    - The `Content-Type` header is used to indicate the original media type of the resource\n",
    "    \n",
    "`type=softshell&brand=patagonia&color=green&size=m`\n",
    "\n",
    "- is the HTTP body.  The body contains the data that is being transmitted in an HTTP message and is optional."
   ]
  },
  {
   "cell_type": "markdown",
   "id": "3500b2b1-32d4-4d64-95b3-50282052cb1f",
   "metadata": {},
   "source": [
    "**14.**"
   ]
  },
  {
   "cell_type": "markdown",
   "id": "5391f7e4-533a-4496-96ae-ace983cfa47e",
   "metadata": {},
   "source": [
    "An HTTP response is a text-based message sent from the server to the client with the aim of responding to the client's request.  It consists of a status line, optional headers and an optional body.  The status line contains a status code, status text and HTTP version.  The status code is a three digit number indicating the specific status of the response,  status text is communicates the status of the response and the HTTP version tells us which version of HTTP is being used.  The three items in the status line are separated by a space. HTTP response headers contain additional information about the response. With HTTP/1.1,, an empty line separates and delineates the header from the body.  The response body consists of the raw data for the requested resource.  This might be the HTML of the webpage, or the raw data of any files being requested, such as images, videos, or audio files."
   ]
  },
  {
   "cell_type": "markdown",
   "id": "70e02bf2-e5b1-4249-bb26-86b013953479",
   "metadata": {},
   "source": [
    "**15.**"
   ]
  },
  {
   "cell_type": "markdown",
   "id": "5af4e0c6-c812-49df-a60c-b3d79ae28cde",
   "metadata": {},
   "source": [
    "The HTTP request/response cycle is the interaction between client (browser) and server (software running on the server in which the client makes a request and the server returns a response.  It begins with the client making an HTTP request.  This is typically issued by a browser in response to some kind of user action or event.  In this case, that action would be the typing `https://launchschool.com/` into your browser address bar and hitting the 'Enter' key, and this would issue a HTTP `GET` request.  The two required pieces of an HTTP request are the HTTP method and the path.  The request is sent off to the server by means of three lower layer network protocols (TCP/UDP, IP, Ethernet).\n",
    "\n",
    "When the server receives the request, it will analyze it.  This may include actions like verifying the user's session, loading any necessary data from a database or rendering HTML.  Once the server has analyzed the request, it will send a response to the client.  This response includes a status text and code and optional headers and body.  When the browser receives the response, it will process the information and render the resource in a human-readable manner.  In our case, that rendering would look like the Launch School home page."
   ]
  },
  {
   "cell_type": "markdown",
   "id": "27d77868-c0d7-4ebc-aa86-42d5ecc0315e",
   "metadata": {},
   "source": [
    "**16.**"
   ]
  },
  {
   "cell_type": "markdown",
   "id": "24522fd1-334a-4d81-aa9b-ed5bab6c93b3",
   "metadata": {},
   "source": [
    "The `404 Not Found` part of this response are the status code and text.  The status code is a three digit number indicating the specific status of the response and the status text accompanies the status code and is a short description of the status code.  A `404 Not Found` status indicates that the requested resource cannot be found due to a client error with the request.  All 400 level status codes indicate various client errors."
   ]
  },
  {
   "cell_type": "markdown",
   "id": "a365f9a3-f5b7-4486-bfc1-4e0a43230fb9",
   "metadata": {},
   "source": [
    "**17.**"
   ]
  },
  {
   "cell_type": "markdown",
   "id": "14655940-ae6c-453c-b49f-64945563e5a5",
   "metadata": {},
   "source": [
    "HTTP is a stateless protocol.  This means that each Request/Reponse cycle is independent of Request and Responses that came before or those that come after.  Each cycle has no effect on the preceding or subsequent cycles and no information is kept on the server about the client's previous request, so each request should contain all information necessary for the request to be fulfilled.  \n",
    "\n",
    "Because of the statelessness of HTTP, it can be very difficult to simulate a stateful experience and make it seem like a persistent connection exists as many modern web apps do.   There is a need for additional mechanisms to maintain a user's session state across multiple requests, such as sessions, cookies and Asynchronous JavaScript and XML (AJAX). Because each request must include all necessary information to process it, stateless protocols also may require more data to be transmitted, leading to increased overhead."
   ]
  },
  {
   "cell_type": "markdown",
   "id": "f4751cb4-c2b2-4eae-a987-023d8963e2c2",
   "metadata": {},
   "source": [
    "**18.**"
   ]
  },
  {
   "cell_type": "markdown",
   "id": "c6dc286c-4c9c-4a60-a9d5-a6f5359e7292",
   "metadata": {},
   "source": [
    "Cookies are a mechanism used to maintain a sense of statefulness in web applications.  Cookies are small files in the browser that contain the session information.  Session data is generated on the server-side and the session id is sent to the client in the form of a cookie. Cookies are included in the HTTP response headers with the `set-cookie` header.  The information stored in cookies is sent with each subsequent request, in the `cookie` header, to the server.  The client-side cookie is compared with the server-side session data on each request to identify the current session and unlock the stored session data."
   ]
  },
  {
   "cell_type": "markdown",
   "id": "f767b177-7d85-49ee-8f81-44cffb385f70",
   "metadata": {},
   "source": [
    "**19.**"
   ]
  },
  {
   "cell_type": "markdown",
   "id": "9fff97b4-ac5a-4003-8d08-16cfdb63899e",
   "metadata": {},
   "source": [
    "The security issue we should be aware of is Cross-Site Scripting (XSS).  This issue arises when websites allow some kind of input, such as allowing users to enter a comment that will be displayed.  Because the area in which users can input text is an HTML `<textarea>`, users can add raw HTML and JavaScript into the text area and submit it to the server. \n",
    "\n",
    "One way to prevent this is to sanitize user input by eliminating problematic input, such as `<script>` tags, or by disallowing HTML and JavaScript input altogether.  Another solution is escaping all user input data when displaying it so that the browser does not interpret it as code. To escape a character means to replace an HTML character with a combination of ASCII characters, which tells the client to display that character as is, and to not process it.  A third solution is for sites to only accept safer forms of input, such as Markdown."
   ]
  },
  {
   "cell_type": "markdown",
   "id": "a0267474-e95b-4d9e-bb34-9bd00e6e1982",
   "metadata": {},
   "source": [
    "**20.**"
   ]
  },
  {
   "cell_type": "markdown",
   "id": "a27b82f8-58b4-42a3-86d8-68c46b6832b3",
   "metadata": {},
   "source": [
    "Symmetric key encrpytion is an encrypted communication system in which both the sender and receiver possess a shared encryption key and the same key is used for both encrypting and decrypting the data. Both parties can use the same shared key to encode, send and decode messages to and from the other.  Symmetric key encryption is not used in the initial symmetric key excahange because the key cannot be sent in a readable format to the other party in our message exchange.  If the key was intercepted by a third-party, they could then use it to decrypt any subsequent messages between the sender and receiver with that key.  After the initial symmetric key excahange, the rest of the TLS handshake is conducted via symmetric key encryption.\n",
    "\n",
    "Asymmetric key encryption is an encrypted communication system which uses two distinct keys: a public key and a private key.  The public key is used to encrypt and send a secure message to the recipient, who holds the private key, which is used to decode the encrypted message.  This only facilitates one way communication, in which only the party who holds the private key can receive and decode secure communications.  Because it works only one way, asymmetric key encryption is used as a means for hosts to exchange symmetric encryption keys during the TLS handshake process. "
   ]
  },
  {
   "cell_type": "markdown",
   "id": "2289d418-604e-4852-bece-f56e9c0d8711",
   "metadata": {},
   "source": [
    "**21.**"
   ]
  },
  {
   "cell_type": "markdown",
   "id": "30153379-8f9c-4641-9500-61299a6c406b",
   "metadata": {},
   "source": [
    "Certificate Authorities are trustworthy sources that issue certificates used by servers to establish authentication.  We use certificates provided by these authorities to ensure that the certificate in question is not being faked.  The CA hierarchy or \"chain of trust\" is made up of multiple levels of trust, with root CAs at the top of the hierarchy and intermediate CAs in the middle.  Each site’s certificate is signed by an Intermediate Certificate Authority that certifies the certificate’s authenticity. Each CA derives its authority from another intermediate CA higher up the chain, all the way up to the Root CA whose certificate is self-signed.\n",
    "\n",
    "TLS authentication is a means of verifying the identity of a participant in a message exchange to ensure the party is trustworthy.  TLS Authentication is implemented through the use of Digital Certificates, which are signed by a chain of Certificate Authorities.  Certificates are exchanged during the second step of the TLS handshake when they are included in the server's `ServerHello` message.\n",
    "\n",
    "Provides a means of verifying the identity of a participant in a message exchange,  to ensure that party is trustworthy.\n",
    "This ensures that the source of an HTTP response is trustworthy, and so the provided resource can be safely processed.\n",
    "TLS Authentication is implemented through the use of Digital Certificates, which are signed by a chain of Certificate Authorities.  \n",
    "Certificates are exchanged during the TLS handshake"
   ]
  },
  {
   "cell_type": "markdown",
   "id": "79a2a493-c46a-4153-83c9-bd38b04defee",
   "metadata": {},
   "source": [
    "**22.**"
   ]
  },
  {
   "cell_type": "markdown",
   "id": "6311d9f0-a94d-43df-a45c-dd6da69aacc7",
   "metadata": {},
   "source": [
    "TLS provides data integrity by checking whether a message has been altered or interfered with in transit.  Data that is being exchanged via HTTP is encapsulated within the TLS record payload and meta data is attached in the form of header and trailer fields.  The Message Authentication Code (MAC) in the TLS record's footer allows us to check to see if the message has been interfered with.  \n",
    "\n",
    "The process of creating a MAC involves using a hash function to create hash value or a digest.  This digest is included in the MAC field and the MAC field will be appended to the TLS record, which contains the encypted data payload, before its sent to the receiver.  Upon receipt of the TLS record, the receiver will decrpyt the data payload and create a digest of the payload.   If the digest calculated by the receiver matches the digest of the original TLS record's MAC field, the receiver knows that the data has not been tampered with during transmission and that it originated from the expected sender."
   ]
  }
 ],
 "metadata": {
  "kernelspec": {
   "display_name": "",
   "name": ""
  },
  "language_info": {
   "name": ""
  }
 },
 "nbformat": 4,
 "nbformat_minor": 5
}
