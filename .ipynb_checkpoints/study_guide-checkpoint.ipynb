{
 "cells": [
  {
   "cell_type": "markdown",
   "id": "690b6138-f42f-4772-a858-d6c2158c93d3",
   "metadata": {},
   "source": [
    "# The Internet"
   ]
  },
  {
   "cell_type": "markdown",
   "id": "78fbb695-8368-4053-86dc-36892d3c87b3",
   "metadata": {},
   "source": [
    "## Have a broad understanding of what the internet is and how it works"
   ]
  },
  {
   "cell_type": "markdown",
   "id": "a3703ce0-0652-41b1-a54e-3f67c44b8117",
   "metadata": {},
   "source": [
    "(Come back to this)"
   ]
  },
  {
   "cell_type": "markdown",
   "id": "535198cc-a371-4e55-b0f3-a34c5b6a7b8d",
   "metadata": {},
   "source": [
    "## `Understand the characteristics of the physical network, such as latency and bandwidth`"
   ]
  },
  {
   "cell_type": "markdown",
   "id": "ed5e461d-f079-471e-a1c1-5395166922af",
   "metadata": {},
   "source": [
    "**Physical Network**\n",
    "- The Physical layer as the bottommost layer of its model in our networked communications model (OSI model).  \n",
    "- The physical network is the tangible infrastructure that transmits all previous encapsulated data (*from the layers above?*) as bits in the form of the electrical signals, light, and radio waves which carry network communications.\n",
    "- The functionality at this level is essentially concerned with the transfer of bits (binary data) acrosss a physical medium.\n",
    "- The physical limitations of networked communication, latency and bandwidth, all come as a result of unavoidable physical laws that govern this layer.\n",
    "\n",
    "**Latency**\n",
    "- Latency is a measure of the time it takes for some data to get from one point in a network to another point in a network.\n",
    "- It is a measure of delay. The difference between the start and end point is the delay.\n",
    "- It is determined by real physical laws, such as the distance traveled and the speed of the signal traveling (i.e. speed of light, sound, or electricity).\n",
    "- Latency has four main aspects that occur during each network \"hop\" that data takes during its overall journey through the network:\n",
    "    - Propagation delay: this is the amount of time it takes for a message to travel from the sender to the receiver, and can be calculated as the ratio between distance and speed.\n",
    "    - Transmission delay: the amount of time it takes to push the data onto the \"link\" or \"node\" in the overall network\n",
    "    - Processing delay: Data travelling across the physical network doesn't directly cross from one link to another, but is processed in various ways; amount of time it takes to process the data within one of the \"nodes\" or \"links\" in the overall network.\n",
    "    - Queuing delay: The amount of time the data is waiting in the queue or \"buffer\" to be processed is the queuing delay.\n",
    "- The total latency between two points, such as a client and a server, is the sum of all these delays (usually given in milliseconds (ms)), plus any of the following delays:\n",
    "    - Last-mile latency: a \"slowing down\" that takes place at the network edge, as smaller and more frequent hops take place as data moves lower in the network hierarchy\n",
    "    - Round-trip Time (RTT): the length of time for a signal to be sent, added to the length of time for an acknowledgement or response to be received.\n",
    "        - Latency overhead associated with additional round trips is often a trade off to consider when dealing with the implementation of network reliability in TCP.\n",
    "        \n",
    "**Bandwidth**\n",
    "- Bandwidth is the amount of data that can be sent along the physical structure of the network in a particular unit of time (typically, a second).\n",
    "- It is a measure of capacity.\n",
    "- It is also determined by real physical laws, such as the capacity of the medium down which data is being transported.\n",
    "- Because this is almost never a constant amount, we consider the bandwidth of a connection to be whatever value is the lowest value over the entire connection."
   ]
  },
  {
   "cell_type": "markdown",
   "id": "79cc2e85-ac70-4037-b5db-a8597283c1df",
   "metadata": {},
   "source": [
    "## `Have a basic understanding of how lower level protocols operate`"
   ]
  },
  {
   "cell_type": "code",
   "execution_count": null,
   "id": "d5b0c82f-7a9c-4973-869f-8e021f89cb16",
   "metadata": {},
   "outputs": [],
   "source": []
  },
  {
   "cell_type": "markdown",
   "id": "21634e82-9fcb-4044-a1a4-b281e01b42d4",
   "metadata": {},
   "source": [
    "## `Know what an IP address is and what a port number is`"
   ]
  },
  {
   "cell_type": "markdown",
   "id": "ca2145e2-e3b0-49ed-a4ef-434ae523ac23",
   "metadata": {},
   "source": []
  },
  {
   "cell_type": "markdown",
   "id": "a1939eba-46ed-48e0-9c7c-4e8f366b8b5c",
   "metadata": {},
   "source": [
    "## `Have an understanding of how DNS works`"
   ]
  },
  {
   "cell_type": "code",
   "execution_count": null,
   "id": "cd8f5168-c870-4604-89c3-fc72616db654",
   "metadata": {},
   "outputs": [],
   "source": []
  },
  {
   "cell_type": "markdown",
   "id": "cfb101b6-0da7-4cbb-875c-1baa05d6fe24",
   "metadata": {},
   "source": [
    "## `Understand the client-server model of web interactions, and the role of HTTP as a protocol within that model`"
   ]
  },
  {
   "cell_type": "code",
   "execution_count": null,
   "id": "195cd2f0-46d2-4200-a039-752a132eba57",
   "metadata": {},
   "outputs": [],
   "source": []
  },
  {
   "cell_type": "markdown",
   "id": "b245c101-9ac7-450a-a396-5fc231801e1d",
   "metadata": {},
   "source": [
    "# TCP & UDP"
   ]
  },
  {
   "cell_type": "code",
   "execution_count": null,
   "id": "6705aded-4af5-4f72-8ed4-6811e7291a7b",
   "metadata": {},
   "outputs": [],
   "source": []
  }
 ],
 "metadata": {
  "kernelspec": {
   "display_name": "Ruby 2.7.5",
   "language": "ruby",
   "name": "ruby"
  },
  "language_info": {
   "file_extension": ".rb",
   "mimetype": "application/x-ruby",
   "name": "ruby",
   "version": "2.7.5"
  }
 },
 "nbformat": 4,
 "nbformat_minor": 5
}
