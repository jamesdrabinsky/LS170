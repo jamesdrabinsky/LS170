{
 "cells": [
  {
   "cell_type": "markdown",
   "id": "c142e297-1cbe-4dbe-8f15-76acae5daed5",
   "metadata": {},
   "source": [
    "## Local Area Networks (LAN)"
   ]
  },
  {
   "cell_type": "markdown",
   "id": "0e176024-5aa6-40bf-8c70-d40fc69b955c",
   "metadata": {},
   "source": [
    "- Our home’s LAN allows multiple devices, or clients, to connect either via an **Ethernet** cable or wirelessly to a **switch** (what most of us colloquially call a **“router”**), which is itself connected to a **modem**.\n",
    "- Each device that can connect to a network does so through its **Network Interface Card (NIC)**\n",
    "- Each NIC has a unique **Media Access Control (MAC) address**, which is a physical, hardcoded identifier that distinguishes that device on a network.\n",
    "-  Each device on a network can be statically or dynamically assigned an **IP address** by a switch\n",
    "- **Unlike a MAC address, an IP Address is not hardcoded into a device, but is instead logical and hierarchical, which allows a device to be more easily located based on its IP address.**\n",
    "- A **switch** is a networking device that sends data to the appropriate device within the LAN, using an ARP table that matches each IP address to a MAC address.\n",
    "- **Ethernet** is the protocol that allows for communication within a LAN.a"
   ]
  },
  {
   "cell_type": "markdown",
   "id": "89e2ac49-a9e3-4eda-8c7c-9ca4f0ba64f7",
   "metadata": {},
   "source": [
    "## Internet Service Providers (ISP)\n"
   ]
  },
  {
   "cell_type": "markdown",
   "id": "11f840f1-1586-4dc8-9aa6-6499da594b63",
   "metadata": {},
   "source": [
    "- Our LAN connects to an ISP’s infrastructure via our modem\n",
    "- Through a series of routers, our ISP’s infrastructure directs traffic between the many households it serves and the wider Internet. \n",
    "- Traveling through all these hops across many routers means there’s always going to be some latency in our connection, regardless of our connection’s bandwidth.\n",
    "\n",
    "**Key Terms**\n",
    "\n",
    "- **Bandwidth**: The amount of data that can be sent during a specific unit of time (typically a second) across a network. \n",
    "    - We can think of the number of lanes on a highway as being analogous to the concept of bandwidth.\n",
    "- **Latency**: The time it takes for one piece of data to go from point A to point B in a network. Whereas bandwidth measures the maximum size of data per a set unit of time (i.e. a second), latency measures the time it takes for a set, minimal size of data.\n",
    "    - To use our highway analogy, a single car traveling at the same speed limit across the same geographic span would take the same amount of time, no matter if you increased or decreased the number of lanes on the highway. The only situation where increasing bandwidth might make a difference in the latency is when there’s so much traffic that data is stuck in a bandwidth bottleneck somewhere.\n",
    "- **Last-mile latency**: The latency specific to the last link stretch closest to the customer, a stretch often called the “last mile.” This last-mile latency is what ISPs tend to focus on, since that’s the main segment they have control over. "
   ]
  },
  {
   "cell_type": "markdown",
   "id": "41f59153-f806-48a7-b555-94b8e9b4c0ce",
   "metadata": {},
   "source": [
    "## The Domain Name System (DNS)"
   ]
  },
  {
   "cell_type": "markdown",
   "id": "87c7fcad-3e5f-4bcd-8edc-75125289aa06",
   "metadata": {},
   "source": [
    "- Whenever you use your browser to go to a specific website, your browser application needs to first figure out which server would have the correct website information.\n",
    "- Every time you go to a website you’ve never been to before, your browser has to first triangulate the IP address associated with that domain.\n",
    "- It first hits up the DNS Servers supported by your ISP. If those servers don’t have a record of that domain either, they then forward the request further up the chain until it gets to the DNS, when the request travels down the DNS hierarchy from the root name servers down, until it finds the IP address of that domain name.\n",
    "- Your browser will then cache (i.e. save) that domain-to-IP address key-value pair so that it won’t have to look it up again the next time you enter that domain.\n",
    "- It’s simply for convenience, because it’s much easier to remember, for example, “google.com” than it is to remember an IP address.\n",
    "\n",
    "**Key Terms**\n",
    "- **Domain name**: A domain name is a unique identifier that points to an IP address, or several IP addresses. A domain name consists of a combination of at least two parts: a top-level domain (TLD) to the right of the (rightmost) dot, and a second-level domain (SLD) to the left of the (rightmost) dot.\n",
    "    - For the domain “google.com” for example, `com` is the TLD and `google` is the SLD.\n",
    "- **DNS Servers**: When we say that the DNS is hierarchical in nature, we mean that there are logical steps for identifying the IP address of a particular domain name. This hierarchical process is handled by various levels of DNS Servers, routed and structured by domain name level."
   ]
  },
  {
   "cell_type": "markdown",
   "id": "2c2e3e25-43be-451a-b8ce-de57b3c576b4",
   "metadata": {},
   "source": [
    "## Cloud Services"
   ]
  },
  {
   "cell_type": "markdown",
   "id": "b1b4d093-278a-42ae-a31f-6abed5c4c1a9",
   "metadata": {},
   "source": [
    "**Key Terms**\n",
    "\n",
    "- **Web Servers**: Servers that host static content (including HTML, Javascript, and CSS files) are called web servers. \n",
    "    - These are sites that don’t require much backend processing power, and can merely deliver prepackaged content without having to handle business logic. \n",
    "    - Most landing pages, basic company websites, news sites, personal pages, and blogs, such as this one, are hosted by a web server. Web servers probably account for the largest chunk of all server types.\n",
    "- **Application Servers**: Although a personal blog might be hosted by a basic web server that can easily deliver read-only content, there might be an underlying application (e.g. Wordpress) that needs to not just read, but also actually generate, edit, and delete new static content.\n",
    "    - Application Servers require much more processing power than web servers because they need to be able to handle the more elaborate, business-logic requests coming from millions (or billions) of users.\n",
    "- **Database Servers**: Often used in collaboration with application servers (but can also be independent), database servers (also called **data stores**) are designed to manage databases. \n",
    "    - There are two main types of database structures used in database design: either a relational model (usually SQL), or a non-relational model (usually the document model)\n",
    "- **Certificate Authorities**: These companies, also organized in a hierarchy, provide digital certificates that ensure content is coming from a trusted source. "
   ]
  },
  {
   "cell_type": "markdown",
   "id": "036d5068-6b8b-4a30-924f-6393dae73329",
   "metadata": {},
   "source": [
    "## The Internet"
   ]
  },
  {
   "cell_type": "markdown",
   "id": "d9f3b82e-b15d-4920-be3d-36b41469471b",
   "metadata": {},
   "source": [
    "- **The Internet** connects ISPs, the DNS, and Cloud Services together, and allows them to communicate. \n",
    "- It’s useful to think of the Internet as just a network of routers spanning across the entire world, connecting networks together.\n",
    "- Each router redirects data across a hop to another router, getting the data progressively closer to its final destination IP address.\n",
    "- Along the way, a signal will encounter four different types of **latency**, causing a delay to its arrival time:\n",
    "    - **propagation delay**: The natural limits of a signal traveling from sender to receiver, which can be calculated as the ratio between distance and speed, with speed usually being the speed of light. We can think of propagation delay as the physical limits imposed by nature and geographic distance.\n",
    "    - **transmission delay**: The delay that occurs as a result of the signal traveling down multiple hops or links, interconnecte\n",
    "    d by routers and switches, etc. Reducing the number of hops required would thereby reduce the transmission delay.\n",
    "    - **processing delay**: The delay incurred by having to process data at any point along the transmission route. We could potentially reduce processing delay by upgrading to more efficient routers that can redirect traffic faster.\n",
    "    - **queuing delay**: The delay that occurs when the data is in line waiting to be processed. This can be caused either because of insufficient bandwidth, a particularly high traffic time of the day, or an inefficient router. If data is arriving at a router at a faster rate than the router is able to redirect it appropriately, this gives rise to queuing delay. Breaking up a hop into several hops, with more routers, may help to reduce queuing delay, but it may add to transmission delay.\n",
    "    \n",
    "**Key Terms**\n",
    "\n",
    "- **TCP/IP protocol suite**: A **protocol** is a set of rules that governs how communication is handled. The TCP/IP protocol suite, also known as the **Internet protocol suite** or the Department of Defense (DoD) model, is the set of protocols that has become dominant across the globe.\n",
    "- **RTT or Round-trip time**: Essentially the sum of the latency of going from A to B, plus the latency of coming back from B to A."
   ]
  },
  {
   "cell_type": "markdown",
   "id": "5fb9ff09-92a1-4f58-ac11-d0c877e28fbf",
   "metadata": {},
   "source": [
    "## OSI Model v.s. TCP/IP Model"
   ]
  },
  {
   "cell_type": "markdown",
   "id": "eca1fa84-dfc5-4fc2-a37f-7408472ad867",
   "metadata": {},
   "source": [
    "- The **OSI model** is a conceptual, theoretical model. \n",
    "- The model standardized a layered approach to telecommunications, where each layer provides a certain level of abstraction and functionality. Each layer also contains some encapsulated data to be opened and used by the layer directly above it.\n",
    "- The OSI Model identified seven layers, numbering them from lowest to highest: \n",
    "    1) Physical<br>\n",
    "    2) Data Link<br>\n",
    "    3) Network<br>\n",
    "    4) Transport<br>\n",
    "    5) Session<br>\n",
    "    6) Presentation<br>\n",
    "    7) Application<br>\n",
    "- TCP/IP model identified five layers:\n",
    "    1) Physical<br>\n",
    "    2) Data Link<br>\n",
    "    3) Network<br>\n",
    "    4) Transport<br>\n",
    "    5) Application"
   ]
  },
  {
   "cell_type": "markdown",
   "id": "219a30db-fd0d-4e9e-bb6d-ee06c774e898",
   "metadata": {},
   "source": [
    "## Physical Layer"
   ]
  },
  {
   "cell_type": "markdown",
   "id": "56101838-5415-4a8b-bc6e-3ae7cd0377c0",
   "metadata": {},
   "source": [
    "- The Physical layer is the most rudimentary and foundational level, on top of which all the other layers rest.\n",
    "- This layer concerns itself with transmitting signals, or bits, either over a coaxial or fiberoptic wire or a wireless medium, like Wi-Fi."
   ]
  },
  {
   "cell_type": "markdown",
   "id": "a0c4dbe8-5bef-4a08-be7f-b55713a04b75",
   "metadata": {},
   "source": [
    "## Data Link Layer"
   ]
  },
  {
   "cell_type": "markdown",
   "id": "60d7106a-b0c2-437b-880b-d32bc8a24940",
   "metadata": {},
   "source": [
    "- The second layer is the Data Link layer, which interprets the physical transmissions of Layer 1, and converts them into a Frame.\n",
    "- A **Frame** is a protocol data unit (PDU), that contains a **source MAC Address**, a **destination MAC Address**, and some encapsulated data to be read later by Layer 3.\n",
    "- LANs, NIC Cards, and Switches all function at this layer. Switches read and process each frame, and send them to the appropriate device on the network that has the frame’s destination MAC Address.\n",
    "- Because this layer delivers data from one point (or node) on a network to another, it is referred to as providing a **node to node** connection.\n",
    "- The important protocols at work here are the **Ethernet (wired)** and the **802.11 (Wi-Fi)** protocols."
   ]
  },
  {
   "cell_type": "markdown",
   "id": "be5f4065-182d-4c81-9c3a-d6671b486018",
   "metadata": {},
   "source": [
    "## Internet Layer"
   ]
  },
  {
   "cell_type": "markdown",
   "id": "3c462785-f171-4952-a350-38fb9b9eb62b",
   "metadata": {},
   "source": [
    "- The Internet layer is where the majority of the action takes place, because that’s where the data travels across routers, from **network to network**.\n",
    "- The main protocols at work here are the **Internet Protocol version 4 (IPv4)** and the **Internet Protocol version 6 (IPv6)**.\n",
    "- At this level, routers open up the frame, and read the encapsulated data, which is known as a **Packet**.\n",
    "- A **Packet** is an Internet-layer PDU that contains a **source IP Address** and **destination IP Address**, and some encapsulated data to be read later by Layer 4.\n",
    "- Routers then progressively forward the packet to the router that will get it closer to its destination, until it finally arrives to the destination network containing the destination IP address.\n",
    "- For this reason, the Internet layer is known as providing a **network to network connection**."
   ]
  },
  {
   "cell_type": "markdown",
   "id": "436f47b9-ddfd-46ba-b327-dd007ccee7ab",
   "metadata": {},
   "source": [
    "## Transport Layer"
   ]
  },
  {
   "cell_type": "markdown",
   "id": "ad0b4b5e-2a05-4dd0-8152-3fd3f8c90bcb",
   "metadata": {},
   "source": [
    "- The Transport Layer is the first layer that takes place on the actual host device, whether that’s the client or the server.\n",
    "- This layer opens the encapsulated data from layer 3, which is either a **segment (TCP)** or a **datagram (UDP)**, depending on the protocol used.\n",
    "- A **Segment** is a Transport-layer PDU that operates with the **TCP protocol**, which is a connection-oriented protocol that ensures **reliability**. \n",
    "    - Any form of communication that requires reliability and integrity, like processing credit card payments, loading web pages, or transferring files, is done through TCP segments.\n",
    "- A **Datagram** is a Transport-layer PDU that operates with the **User Datagram Protocol (UDP)**, which is a **connection-less protocol** that favors **speed**.\n",
    "    - Any form of communication that requires receiving continuous updates or streams of data with no need to worry about the occasional dropped bits, such as videoconferencing (e.g. Zoom) or voice-over-ip (VOIP) is accomplished through UDP datagrams.\n",
    "    - DNS queries are also usually done through UDP because of its faster speed.\n",
    "- Both Segments and Datagrams contain a **source destinatioin port** and a **destination port**, as well as an encapsulated payload to be read by Layer 5.\n",
    "- A **port** is a specific channel on a device. \n",
    "    - Each tab you open on a browser opens on a new port on your computer. Each application type typically runs on specific port ranges.\n",
    "    - On the server side, for example, web pages are served from port 80 (or 8080), and DNS responses go out from port 53. Mail servers now typically run on port 587, which is dedicated for secure Simple Mail Transfer Protocol (SMTP).\n",
    "- The combination of an IP address and a port number makes up a unique **Socket**.\n",
    "- That’s why the Transport layer is known as providing a **port to port connection**, or a **socket to socket connection**\n",
    "- The process of sending the contents of received datagrams and segments to the correct destination ports is known as **demultiplexing**. \n",
    "- The reverse process, which is gathering content from all the ports, and blending them into a single channel is known as **multiplexing**."
   ]
  },
  {
   "cell_type": "markdown",
   "id": "ef1486b8-6e97-4730-a9d3-2b4f3ef8a747",
   "metadata": {},
   "source": [
    "## Application Layer"
   ]
  },
  {
   "cell_type": "markdown",
   "id": "aa57fdfc-1fcf-49c7-984a-39fa99135228",
   "metadata": {},
   "source": [
    "- Finally, once the content of segments or datagrams is sent to the correct port, the Application layer is finally ready to read the encapsulated data, which is a **Message** (sometimes also simply called **Data**).\n",
    "- A **Message** is an Application-layer PDU that can contain many different things, depending on what Application process runs on that port, and/or what protocol was used to encapsulate the message in the first place.\n",
    "- A Message can be, among other things: \n",
    "    - an HTTP request\n",
    "    - an HTTP response\n",
    "    - a DNS query\n",
    "    - a DNS response\n",
    "    - an SMTP message\n",
    "    - a TLS record (used for HTTPS).\n",
    "- Each Application process runs on a dedicated port. That’s why this layer is known as providing a **process to process connection**."
   ]
  },
  {
   "cell_type": "markdown",
   "id": "d8a7af25-25b4-48f6-ad49-393e214d8504",
   "metadata": {},
   "source": [
    "## Layered Trip Through an HTTP Request/Response Cycle"
   ]
  },
  {
   "cell_type": "markdown",
   "id": "6b2eb939-8a12-4b7e-aec7-c11612d0d6f6",
   "metadata": {},
   "source": [
    "- Break down all the steps that happen from the time we enter a URL in our browser to the time we get a page loaded.\n",
    "- In reality the HTTP request/response cycle (and any communication) actually **goes from the Application layer down, and then back up again**.\n",
    "\n",
    "![layered trip](layered_trip_graph.jpeg)"
   ]
  },
  {
   "cell_type": "markdown",
   "id": "9fcd6798-00b3-4999-b421-e5393cb8e5c5",
   "metadata": {},
   "source": [
    "**Request Phase - Client Side**\n",
    "\n",
    "1. User enters a URL in browser tab - Let’s say we entered `google.com`\n",
    "2. **DNS Lookup** to get destination IP \n",
    "    - If our browser had never been to this site before, it would have to first send a DNS query in order to find the destination IP address of the `google.com` domain. \n",
    "    - That would of course require a separate DNS query/response cycle. Here, we are assuming we’ve been to the site before and therefore have the IP address saved in our browser’s cache.\n",
    "3. **HTTP Request** sent to Port 7124 of User’s device.\n",
    "    - Your port number might be different, of course. Each opened browser tab you have uses a unique port.\n",
    "4. **Multiplexing** - The client processes signals from all ports, including the one sent to 7124, and prepares them for transmission over a single channel.\n",
    "5. **Segmentation** divides HTTP Request into Segments \n",
    "    - This breaks up the HTTP Request message into multiple pieces, each to be contained in a separate segment. \n",
    "    - Henceforth we’ll just focus on the journey of one segment, but the same is happening for all the other segments of our HTTP Request.\n",
    "6. Segment is wrapped in a **Packet**\n",
    "7. **Packet travels across Internet routers**\n",
    "    - The packet keeps being wrapped in a new **frame** (i.e. Layer 2) so it can travel to the next hop, then opened again as a **packet** (back to Layer 3), and wrapped again in a new frame with an updated **destination MAC address**, etc.\n",
    "    - After many hops, however, it finally arrives at the destination network, which in this case is the network that the server with the destination IP address is on.\n",
    "    \n",
    "**Request Phase - Server Side**\n",
    "\n",
    "8. **Packet is wrapped in a Frame** - This is the final frame on this leg of the trip, containing the server’s MAC address as the destination MAC address.\n",
    "9. Frame travels across network to the destination server\n",
    "10. Server receives frame through its NIC card\n",
    "    - Note that this step also involves Layer 1, since the NIC Card is interpreting the signals it receives, either via a cable or wirelessly. The same could be said about the Routers on Layer 3, since they also have to process physical signals.\n",
    "11. Server opens frame\n",
    "12. Server opens packet\n",
    "13. **Reassembly** - Server receives all the segments and reassembles them into the HTTP Request.\n",
    "14. **Demultiplexing** - This process sends each compiled message to the appropriate port–which is 80 in the case of a server processing an HTTP request.\n",
    "15. Server opens Request on Port 80\n",
    "\n",
    "**Response Phase - Server Side**\n",
    "\n",
    "16. **Server processes Request and generates a Response** - Occasionally, a server may need to generate multiple responses. \n",
    "    - An HTTP response will include a status code indicating whether the server found the information or not.\n",
    "17. Server sends Response to Port 80\n",
    "18. **Multiplexing** The server processes signals from all ports, including the one sent to 80, and prepares them for transmission over a single channel.\n",
    "19. **Segmentation** - The response is divided up and wrapped in separate segments. We’ll focus on one segment for the rest of this leg, but the same thing is happening to all segments.\n",
    "20. Segment is wrapped in a Packet\n",
    "21. Packet travels across Internet routers\n",
    "\n",
    "**Response Phase - Client Side**\n",
    "\n",
    "22. **Packet is wrapped in a Frame** - This is the final frame for this leg of the trip, containing our client’s MAC address as the destination MAC address.\n",
    "23. Frame travels across network to the destination client \n",
    "    - For most people working from home, this would be the home LAN, but it could also be the coffee shop’s WLAN or the office intranet.\n",
    "24. Client receives frame through its NIC card - Same comment here as step 10.\n",
    "25. Client opens frame\n",
    "26. Client opens packet\n",
    "27. **Reassembly** - Client assembles all the segments back together to recreate the HTTP response\n",
    "28. **Demultiplexing** - The response is sent to the appropriate port, which is 7124 in the case of our specific tab that sent the original request.\n",
    "29. Client opens Response on Port 7124 - This may involve the browser interpreting the HTML page, applying CSS, and running the Javascript.\n",
    "30. Client’s browser tab displays the requested URL page - We enjoy our page.<br><br>\n",
    "**This entire process constitutes one round-trip time (RTT), which is the time it takes for data to go all the way to a server and then come back to the client.**"
   ]
  },
  {
   "cell_type": "markdown",
   "id": "49b9afa9-900c-4463-9c27-da2c813ad02f",
   "metadata": {},
   "source": [
    "## Layered Reliability and Security"
   ]
  },
  {
   "cell_type": "markdown",
   "id": "865ab802-35bb-4275-9adc-bd4793207c99",
   "metadata": {},
   "source": [
    "- The concept of **encapsulating each layer’s PDU** provides a basic foundation for how various Internet security measures function. \n",
    "- Most fundamentally, encapsulation is a way to enclose certain bits of data to render them inaccessible from external contexts.\n",
    "- Each layer therefore secures its contents from the layer beneath it."
   ]
  },
  {
   "cell_type": "markdown",
   "id": "6f1092b3-ceca-4827-892e-ee8dcffa0ea0",
   "metadata": {},
   "source": [
    "## Physical Layer bits"
   ]
  },
  {
   "cell_type": "markdown",
   "id": "cd8111af-2b67-4631-a836-f098d677606d",
   "metadata": {},
   "source": [
    "- The Physical layer allows the entire system to function.\n",
    "- Consisting of bits transmitted either across a wire or wirelessly, the physical layer contains a payload that will be progressively decoded by higher layers.\n",
    "- Although the Physical layer doesn’t technically contain anything that can be classified as data ***yet***, and therefore does not have a PDU, there is nevertheless a concept worth addressing – the **Interframe Gap**.\n",
    "- The **Interframe Gap (IFG)** is a required pause in the signal transmission, which lets a NIC card operating on layer 2 know that a frame was completed and another may begin.\n",
    "- The physical layer’s IFG therefore contributes to reliability by ensuring that the signals of one frame don’t get accidentally mixed up with the signals of another frame during the initial transmission."
   ]
  },
  {
   "cell_type": "markdown",
   "id": "1711de5b-e4a0-46c4-b19b-18bccf5ef38d",
   "metadata": {},
   "source": [
    "## Data Link Layer PDU - Frames"
   ]
  },
  {
   "cell_type": "markdown",
   "id": "f074c307-1e20-4422-90c3-2b52f7273d5b",
   "metadata": {},
   "source": [
    "- The Data Link layer converts the physical transmissions of Layer 1 into a **Frame**, which is the first formal PDU.\n",
    "- In addition to containing the **source and destination MAC addresses** of where this frame originated from and is going to, a frame contains an **encapsulated payload**, and a **Frame Check Sequence** at the end.\n",
    "- This **Frame Check Sequence (FCS)** is what the Data Link layer uses for error detection (using a checksum), to make sure that the frame has neither lost any bits along the way, nor has been corrupted due to signal interference."
   ]
  },
  {
   "cell_type": "markdown",
   "id": "449f0a43-5551-4bc1-8843-3c908ef1e13a",
   "metadata": {},
   "source": [
    "## Internet Layer PDU - Packet"
   ]
  },
  {
   "cell_type": "markdown",
   "id": "bba006af-2cb8-4473-a9fc-22ad829bf9e1",
   "metadata": {},
   "source": [
    "- The Internet Protocols used in layer 3 truly comprise the cornerstone of the Internet protocol suite that make the modern Internet possible.\n",
    "\n",
    "**MAC addresses v.s. IP Addresses**\n",
    "\n",
    "- If we did not have IP addresses and had to rely simply on MAC addresses to connect a client and a server, the process would be profoundly inefficient and time consuming, because every device would need to somehow keep track of where all the most-used destination servers are, and the MAC addresses of all the routers along the way–and we’d need to keep updating these routes every single time a router or server is replaced, since each device has a unique MAC address.\n",
    "- Thanks to the **logical** and **dynamic** nature of IP addresses, however, that’s not a concern.\n",
    "\n",
    "**IPv4 v.s. IPv6**\n",
    "\n",
    "- The main difference between packets encoded in IPv4 and those encoded in IPv6 is the **size of the space reserved on the packet’s header for the source and destination IP addresses**.\n",
    "    - In IPv4, 32 bits were reserved, which meant that there could be up to about 4.3 billion unique combinations\n",
    "    - IPv6 reserves 128 bits for the source and destination IP address fields. This should be able to accommodate 2^128 addresses, which is equal to 340 trillion trillion trillion IP addresses.\n",
    "    \n",
    "**Time To Live**\n",
    "\n",
    "- The Time-To-Live (TTL) field is on a packet’s header.  \n",
    "- The purpose of this number is to make sure that packets don’t get somehow caught in limbo or otherwise run around continuously across routers, never finding their destination yet taking up bandwidth unnecessarily.\n",
    "- They may originally start out with, for example, a TTL of 64. At every hop, the router decrements that number by one. Once the TTL reaches 0, the packet is discarded and not allowed to be forwarded along anymore."
   ]
  },
  {
   "cell_type": "markdown",
   "id": "47e5a657-9a1b-447f-a642-b3bfe27640d2",
   "metadata": {},
   "source": [
    "## Transport Layer PDU - Datagrams and Segments"
   ]
  },
  {
   "cell_type": "markdown",
   "id": "6798465a-ee4f-466e-bf8d-03578506f329",
   "metadata": {},
   "source": [
    "**Datagrams**\n",
    "\n",
    "- The main reliability feature of Datagrams is the checksum, which datagrams actually have in common with segments. A\n",
    "- A **checksum** is an error detecting mechanism ensuring the PDU received contains the same content as the PDU sent.\n",
    "\n",
    "**Segments**\n",
    "\n",
    "- The TCP protocol’s primary advantage compared against UDP is its **reliability**.\n",
    "- TCP is a **connection-oriented protocol**, which means that before any data can even be exchanged, the TCP protocol requires that a connection first be established between the client and the server.\n",
    "\n",
    "**TCP Handshake and Flags**\n",
    "\n",
    "- **TCP Handshake and Flags**\n",
    "    - The TCP Handshake establishes this initial connection, using the **Flags** component of the segment header.\n",
    "    - It uses a three-step process that takes one and a half RTTs (round-trip times).\n",
    "        - 1. The client sends an empty (i.e. with no payload, or bodyless) SYN segment (i.e. where the segment header’s SYN flag is set to true, or on)\n",
    "        - 2. The server receives the segment and replies with another bodyless segment with the SYN and ACK flags turned on\n",
    "        - 3. The client receives the server’s segment and sends a final acknowledgment back to the server, which is a bodyless segment containing only the ACK flag turned on.\n",
    "    - Immediately after that’s complete, the client begins sending the actual HTTP request (or whatever is being sent in the Message).<br><br>\n",
    "    \n",
    "- **Segmentation and In-Order Delivery**\n",
    "    - TCP enables segmentation, which is the breaking up of the Message into multiple segments so that these can travel in separate packets.\n",
    "    - This enables **in-order delivery**.\n",
    "    - With **datagrams**, there’s no concept of order. The datagram is simply processed in order that it is received.\n",
    "    - With segments, however, sequence is preserved using the **Sequence #** field in the header. This field is filled in during the segmentation process. \n",
    "    -  As soon as a segment is received, a parallel, bodyless reply is sent with the corresponding **Acknowledgment #** filled in\n",
    "    - This sequence number is also how the Message is reconstructed in-order during the **Reassembly** phase.<br><br>\n",
    "    \n",
    "- **Pipelining and Window Size**\n",
    "    - **Pipelining** is the concept of sending multiple signals at the same time, to maximize bandwidth use. \n",
    "        - The analogy, for those who’ve ever moved before, is dividing up and sending your belongings into multiple trucks (or cars) instead of having to wait for the one truck to go back and forth several trips.\n",
    "    - Exactly how many “trucks” are working simultaneously is determined by the **Window** size on the segment header.\n",
    "    - The sender doesn’t move on to the next 5 segments until it has received an acknowledgment from the receiver for those 5 segments\n",
    "    - If sufficient time has passed and the sender has still not received an acknowledgment back (**Acknowledgement #**) on any segment, the sender actually resends that segment (**retransmission of lost data**)\n",
    "    - Any segment already received (i.e. with the same **Sequence #** as an already-received segment) is simply dropped (known as **de-duplication**).<br><br>\n",
    "\n",
    "- **Flow Control**\n",
    "    - With every acknowledgment that it sends back, the receiver uses the **Window Size** to indicate how many segments at a time it is currently capable of receiving. \n",
    "    - This helps the sender determine how busy the receiver is, and thereby adjust its sending window size accordingly. \n",
    "    - **That’s how TCP provides Flow Control**.<br><br>\n",
    "    \n",
    "- **Congestion Avoidance**\n",
    "    - Although flow control helps the sender determine how busy the receiver is, it doesn’t really say anything about how busy **the traffic is**.\n",
    "    - Using an algorithm that keeps track of how long it takes to receive acknowledgments back, the sender gets a sense of how congested the network is, and adjusts its sending behavior accordingly. \n",
    "    - This helps to reduce network congestion, and ensures transmission is only occurring when there’s some bandwidth capacity.\n",
    "    \n",
    "<img src=\"tcp_reliability.png\" width=500>"
   ]
  },
  {
   "cell_type": "markdown",
   "id": "7c9feb33-bd63-4a10-8b54-cc919be55c30",
   "metadata": {},
   "source": [
    "## Application Layer PDU - Messages"
   ]
  },
  {
   "cell_type": "markdown",
   "id": "7c88f5f4-6082-4757-a932-e7597de511a8",
   "metadata": {},
   "source": [
    "- There are many different types of messages at the Application layer (DNS query/response, HTTP request/reponse, TLS Record (HTTPS, etc.)\n",
    "\n",
    "**HTTP Request**\n",
    "\n",
    "- The HTTP Request message contains a:\n",
    "    - **Header**, which can be further divided into two sub-components: \n",
    "        - 1) a Request line\n",
    "            - HTTP Method\n",
    "            - PAth (the full URL for `GET`)\n",
    "            - HTTP Version\n",
    "        - 2) a set of Headers\n",
    "            - Key-value pairs, e.g. Host, User-Agent, Accept-Language, Cookie(s), etc\n",
    "    - The **Body** of a request is typically empty, but would contain the query parameters of a POST request (if there are any).\n",
    "- The request line contains the most important components and is **required**, but headers are **optional**.\n",
    "- The three items in the Request Line are separated by a **space**.\n",
    "- An **empty line** separates and delineates the Header from the Body.\n",
    "- Any query parameters used in a `GET` request are included in the Path of the Request Line. \n",
    "- For `POST` requests, however, query parameters are separated out and part of the Body.\n",
    "\n",
    "**HTTP Response**\n",
    "\n",
    "- The HTTP Response message contains a:\n",
    "    - **Header**, which can be further divided into two sub-components: \n",
    "        - 1) a Status line\n",
    "            - HTTP Version\n",
    "            - Status Code\n",
    "            - Status Text\n",
    "        - 2) a set of Headers.\n",
    "            - Key-value pairs, e.g. Server, Content-Type, Set-cookie, etc\n",
    "    - The **Body** of a response contains the actual contents returned by the server, e.g. the HTML page.\n",
    "- The Status line contains the most important components and is **required**, but headers are **optional**.\n",
    "- The three items in the Status Line are separated by a **space**.\n",
    "- An **empty line** separates and delineates the Header from the Body.<br><br>\n",
    "- **Both HTTP Requests and Responses happen over TCP, which allows the message to be broken up into segments, and provides additional reliability.**"
   ]
  },
  {
   "cell_type": "markdown",
   "id": "24a63c75-d201-4562-9ca2-b1ee1b644529",
   "metadata": {},
   "source": [
    "## TLS and HTTPS"
   ]
  },
  {
   "cell_type": "markdown",
   "id": "af9a1d2a-c445-4cda-91ab-a885df4e0eb9",
   "metadata": {},
   "source": [
    "- Although **TLS** stands for **Transport Layer Security**, it is currently technically part of the TCP/IP’s Application layer, and provides encryption to any other Application-layer message type.\n",
    "- TLS is mainly used to **encrypt HTTP messages**, thereby creating **Secure HTTP, or HTTPS** (aka. HTTP/TLS, or “HTTP over TLS”).\n",
    "- It might be helpful to conceptually think of TLS as being an **imaginary Security Layer in between the Transport Layer and the Application Layer**.\n",
    "- Although **TLS only works on top of TCP**, there is another protocol called **DTLS which is the equivalent of TLS, but for UDP**<br>\n",
    "\n",
    "**TLS Record**\n",
    "\n",
    "- A TLS Record’s header contains: \n",
    "    - 1) the Content Type that is in the payload\n",
    "    - 2) the TLS version used by this record\n",
    "    - 3) the Length of the record.\n",
    "- In the first stages of the TLS process, which **happens immediately after the TCP handshake is completed**, the TLS handshake takes place.\n",
    "- The  **Message Authentication Code (MAC)**, which is on the record’s footer, is essentially a form of a checksum, but instead of serving as a check against corruption, it serves as a check against **data tampering**.\n",
    "    - It uses the same symmetric key exchanged in the TLS Handshake to generate the MAC, thereby ensuring that the contents came from the same source.\n",
    "    \n",
    "**TLS Handshake**\n",
    "\n",
    "- Right after the client sends the third part of the TCP handshake, i.e. the `“ACK”` segment, the client also initiates the first part of the TLS handshake, which is the `ClientHello` step.\n",
    "\n",
    "<img src=\"tls_handshake.png\" width=500>\n",
    "\n",
    "- After the TLS Handshake is successfully completed, all the subsequent messages sent and received are TLS records containing the encrypted piece of the HTTP request or HTTP response.\n",
    "- The headers of these records would be marked with the Application Data content type. The receiver would need to decode them back to the original HTTP request or response before being able to process or display the contents.\n",
    "\n",
    "**Certificate Authorities**\n",
    "\n",
    "- Each site’s certificate (which the server sends in step 2 of the TLS handshake) is signed by an Intermediate Certificate Authority (CA) that certifies the certificate’s authenticity. \n",
    "- Each CA in turn derives its authority from another intermediate CA higher up the chain, all the way up to the Root CA.\n",
    "- The hierarchical structure of certificate authorities establishes the **Chain of Trust** from the original site all the way to the Root CA."
   ]
  }
 ],
 "metadata": {
  "kernelspec": {
   "display_name": "Ruby 2.7.5",
   "language": "ruby",
   "name": "ruby"
  },
  "language_info": {
   "file_extension": ".rb",
   "mimetype": "application/x-ruby",
   "name": "ruby",
   "version": "2.7.5"
  }
 },
 "nbformat": 4,
 "nbformat_minor": 5
}
