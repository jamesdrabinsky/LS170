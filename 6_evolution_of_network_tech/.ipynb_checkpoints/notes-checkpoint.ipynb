{
 "cells": [
  {
   "cell_type": "markdown",
   "id": "91df53ec-804d-427e-8fe0-0536e001ab36",
   "metadata": {},
   "source": [
    "# The Evolution of Network Technologies"
   ]
  },
  {
   "cell_type": "markdown",
   "id": "0536877f-797a-42c1-8dc8-9624cc7bffff",
   "metadata": {},
   "source": [
    "## What to Focus On\n",
    "\n",
    "- **Be aware of how and why HTTP is evolving**\n",
    "- **Be aware of the functionality that browser APIs can provide**\n",
    "- **Be aware that Client-Server isn't the only network paradigm**"
   ]
  },
  {
   "cell_type": "markdown",
   "id": "8c0d3d68-6feb-4908-9366-f842c7b46c17",
   "metadata": {},
   "source": [
    "## HTTP: Past, Present, and Future\n",
    "\n",
    "- HTTP is an evolving protocol rather than something that is static and fixed. \n",
    "\n",
    "### HTTP/0.9\n",
    "\n",
    "- Sometimes referred to as the 'one line protocol', a request was a single line (no headers or request body) consisting of \n",
    "    - the method (`GET` was the only method supported at this stage) \n",
    "    - and the path (this was simply the path to the resource on the server, e.g. `/index.html`, rather than a complete URI/ URL, since connection to the server would already have been established by some other means such as `telnet`).\n",
    "- A response under this protocol would be a single hypertext document, with no headers or other meta-data such as status codes or version numbers. \n",
    "- The end of the response was signalled by the server closing the connection.\n",
    "\n",
    "### HTTP/1.0\n",
    "\n",
    "- Between 1991 and 1996, a number of things happened to put in place the pieces for what would eventually lead to mass adoption of the internet and use of the web:\n",
    "    - Browser technology improved dramatically.\n",
    "    - Telecommunications companies started providing internet access to the public via dial-up connections. \n",
    "    - The World Wide Web Consortium (W3C) and the HTTP Working Group (HTTP-WG) were formed. \n",
    "    - A number of improvements to HTTP, which expanded the limited capabilities of HTTP/0.9. \n",
    "- These include the addition of two HTTP methods: `HEAD` and `POST`. The request line now became more flexible and varied.\n",
    "- As well as indicating different methods, the Request-URI portion of the request line could now either be a path or an absolute URI. \n",
    "- Finally, the HTTP version was added to the end of the request line in order for the server receiving the request to know how it should interpret it.\n",
    "- Responses now included a status line, which was comprised of a status code with accompanying status text and the HTTP version being used for the response.\n",
    "- Another important development was the addition of meta-data to requests and responses in the form of HTTP headers. These key-value pairs provided additional information to the client or server in terms of how to deal with a particular request or response.\n",
    "\n",
    "### HTTP/1.1\n",
    "\n",
    "- HTTP/1.1 was the first standard version of HTTP.\n",
    "- HTTP/1.0 still operated on the basis of using a separate TCP connection for each request-response cycle. The client would open a connection to the server and make the request, the server would then provide the response and close the connection. If the client needed to make another request it would open a new connection.\n",
    "- One of the major advances that HTTP/1.1 provided was connection re-use, where the same TCP connection could be used for making multiple requests.\n",
    "- As well as reducing the overhead in latency required for the TCP handshake, re-use of connections also opened up the possibility of pipelining requests; this is where the client doesn't need to wait for a response to a request before sending more requests. \n",
    "- Among other advances in HTTP/1.1 was the addition of more HTTP methods: `PUT`, `DELETE`, `TRACE`, and `OPTIONS`.\n",
    "\n",
    "### HTTP/2\n",
    "\n",
    "- Although HTTP/1.1 pipelining allows multiple requests to be sent at once (thus reducing latency), there are limitations to the efficiencies that this can achieve. \n",
    "- The main drawback is that the server must respond to the requests in the order they are sent; if a particular request takes a long time to process this can delay the responses to the subsequent requests in a phenomenon known as head-of-line blocking. \n",
    "-  HTTP/2 aims to resolve this issue by providing multiplexing instead of pipelining. Multiple requests can still be sent at the same time, but in parallel instead of having a reliance on message order.\n",
    "- HTTP/2 provides other new features such as the compression of headers (which can often make up a large part of a request or response).\n",
    "\n",
    "### HTTP/3\n",
    "\n",
    "- Although HTTP/2 offers vast improvements in performance, if we want reliable transfer of our HTTP messages we are still reliant on using TCP at the Transport layer, and if we want to transfer messages securely we are reliant on TLS and its inherent complexities and inefficiencies.\n",
    "- HTTP/3 offers an alternative by using a protocol known as QUIC to provide the reliability and security features that have traditionally been provided by a combination of TCP and TLS. "
   ]
  },
  {
   "cell_type": "markdown",
   "id": "004b40d2-ffae-4115-bbe8-dd3606aa5a61",
   "metadata": {},
   "source": [
    "## Web Performance and HTTP Optimizations\n",
    "\n",
    "### Browser Optimizations\n",
    "\n",
    "- **Document-aware optimizations**: occur when the browser can identify and prioritize fetching resources. \n",
    "    - The goal is to more efficiently load a web page by prioritizing certain resources such as CSS layouts and JS which can take the longest amount of time.\n",
    "- **Speculative optimizations**: when the browser learns the navigation patterns of the user over time and attempts to predict user actions. This can involve pre-resolving DNS names, or even pre-rendering pages to frequently visited sites. \n",
    "\n",
    "### Further Optimizations\n",
    "\n",
    "- **Do you need all of those resources?**: One of the most effective things we can do is limit the number of resources that need to be fetched.\n",
    "- **Compression Techniques**: Rather than reducing the number of resources to be fetched, compression reduces the size of those resources. Smaller file sizes mean less data, leading to more efficient data transfer.\n",
    "- **Reusing TCP Connections**: A major way that we can improve our performance is by re-using a TCP connection to fetch multiple resources, thereby eliminating the roundtrip latency for every handshake of a new connection.\n",
    "    - These connections are usually referred to as keepalive connections, and with HTTP/1.1 are standard behaviour, which means that all modern browsers will attempt to reuse a TCP connection automatically as long as the server is willing to cooperate. \n",
    "    - However, if you’re stuck with HTTP/1.0 you can enable keep alive connections by adding the Connection: Keep-Alive header to your HTTP requests/responses. \n",
    "- **DNS Optimizations**: DNS is an area that is ripe for optimization given that every initial request to connect to a domain will involve a DNS lookup. \n",
    "    - A DNS lookup is needed to map the domain name of an application to the IP address of the host server. \n",
    "    - We can tackle this impact in a few ways:\n",
    "        - The first is by reducing the number of hostnames that need to be resolved. \n",
    "        - Another method is to download any external resources and host them locally on the server that is hosting the web app.\n",
    "        - A third avenue is to use a faster DNS provider and decide whether you’re willing to pay for a premium service. \n",
    "- **Caching**: Caches are a separate component from the host server and are essentially a short-term memory bank. \n",
    "    - What they do is store content that was recently accessed by a user so that the next time that content is requested it can be delivered more quickly than requesting it from the application server. "
   ]
  },
  {
   "cell_type": "markdown",
   "id": "a421b2c6-baa4-4258-b723-c65fbe89c97d",
   "metadata": {},
   "source": [
    "## Browser Networking APIs\n",
    "\n",
    "### HTTP and Real-Time Data Synchronization\n",
    "\n",
    "- While the request-response model with HTTP works extremely well for retrieving many kinds of resources and handles general purpose user interaction very well, one area where it falls down is in terms of real-time synchronization.\n",
    "- The request-response model isn't suited to this because it requires a request to be sent by the client before a response can be returned. \n",
    "- In the case of our Facebook notification it appears as a result of something changing on the server.<br><br>\n",
    "- **XHR or XMLHttpRequest**: XHR enables clients to manage requests and responses programmatically and asynchronously. \n",
    "    -  it allows a web app to perform other actions while waiting for an update from the server.\n",
    "    - This differs from synchronous JS in which the web app has to pause and wait for the server's update before allowing any other actions to be taken.\n",
    "    - XHR is a key component of Asynchronous JavaScript and XML (or AJAX for short)\n",
    "    - Since we can manage requests and responses asynchronously and programmatically, we could write a script that runs in the background of our application and issues a request to the server periodically to check for updates. This kind of implementation is referred to as **polling**.\n",
    "    - There's a more efficient version of this system known as **long-polling**. With long-polling, the client makes a request, but rather than returning an empty or negative response, the server keeps the connection idle until an update is available and then issues a response.\n",
    "- **SSE or Server-Sent Events** a networking API that enables efficient server-to-client streaming of text-based event data\n",
    "    -  In other words, it enables the server to send real-time notifications or updates created by the server to the client, without requiring the client to send a request for the updates.\n",
    "    - The way that SSE achieves this is through the delivery of messages over a single, long-lived TCP connection\n",
    "    - SSE enables efficient, low-latency server-to-client streaming of text-based data in which the client initiates a connection and the server streams updates to the client. \n",
    "    - After the initial handshake to establish the connection, the client can no longer send any data to the server using that particular connection; instead the server uses it to provide real-time data updates to the client.\n",
    "- **WebSocket**: The WebSocket API is a simple and minimal API that enables us to layer and deliver arbitrary application protocols between the client and server such that either side can send data to the other at any time.\n",
    "    - It’s the only transport that allows a client and server to establish a persistent TCP connection that allows either side to independently send messages to each other. \n",
    "    - This means that the client can send information to the server, and vice versa, without needing a request from the other side. \n",
    "    - This form of communication is known as **bidirectional communication**."
   ]
  },
  {
   "cell_type": "markdown",
   "id": "178396fd-a7bc-4efa-ae42-830c3803ba1d",
   "metadata": {},
   "source": [
    "## Peer to Peer Networking\n",
    "\n",
    "- The client-server model isn't the only model of network communication, however. Another model is the **peer-to-peer (P2P) model**.\n",
    "- With a P2P network, there isn't the same clear separation of roles; instead of a 'client' and a 'server', each computer within the network acts as a 'node'. \n",
    "- Within this network architecture, each node is capable of performing the functions that both a client and a server would in the client-server model.\n",
    "- **When we talk about a P2P network architecture, what this refers to is the way in which the various devices in that architecture interact with each other. The underlying infrastructure is the same as for a client-server architecture, including many of the protocols**\n",
    "\n",
    "### Use Cases\n",
    "\n",
    "- One of the main advantages of P2P is that there is no need to set up and maintain a server to provide the system with functionality, you just need two or more nodes.\n",
    "- The lack of reliance on a central server can also make the network more resilient; by having several nodes perform the same functions, if one goes down the network can still operate. \n",
    "- Another advantage of P2P is that there is no need for each communication to be routed through a central point. In some cases this can reduce latency by giving shorter paths between a client and server. \n",
    "\n",
    "### Complexities of P2P\n",
    "\n",
    "- One of the main difficulties in setting up a P2P network involves discovery, i.e. finding other nodes on the network. \n",
    "\n",
    "### WebRTC\n",
    "\n",
    "- Historically, browsers have undertaken the role of the client in a client-server architecture. **WebRTC** however, provides real-time communication functionality within the browser, effectively allowing the browser to act as a node within a P2P communication network."
   ]
  },
  {
   "cell_type": "markdown",
   "id": "1005fb29-28cf-4989-95dc-7ee75022ca45",
   "metadata": {},
   "source": [
    "## Summary"
   ]
  },
  {
   "cell_type": "markdown",
   "id": "987a548b-a8e8-43f7-806b-51a8f2f77a34",
   "metadata": {},
   "source": [
    "- HTTP has changed considerably over the years, and is continuing to change.\n",
    "- Many of the changes to HTTP are focused on improving performance in response to the ever increasing demands of modern networked applications.\n",
    "- Latency has a big impact on the performance of networked applications. As developers and software engineers we need to be aware of this impact, and try to mitigate against it through the use of various optimizations.\n",
    "- In building networked applications, there are tools and techniques available to us that work around or go beyond the limitations of basic HTTP request-response functionality.\n",
    "- For certain use cases a peer-to-peer architecture may be more appropriate than a client-server architecture."
   ]
  }
 ],
 "metadata": {
  "kernelspec": {
   "display_name": "Ruby 2.7.5",
   "language": "ruby",
   "name": "ruby"
  },
  "language_info": {
   "file_extension": ".rb",
   "mimetype": "application/x-ruby",
   "name": "ruby",
   "version": "2.7.5"
  }
 },
 "nbformat": 4,
 "nbformat_minor": 5
}
