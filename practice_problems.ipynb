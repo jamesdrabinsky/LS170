{
 "cells": [
  {
   "cell_type": "markdown",
   "id": "e514a562-62fa-4ccf-b107-cfd04c9c6a6b",
   "metadata": {},
   "source": [
    "At the computer/device level, it starts with the HTTP request, which gets encapsulated into the TCP segment, then into the IP packet, then into the Ethernet Frame, and then it is sent vis wire/fiberoptic line (or whatever) to the host.\n",
    "\n",
    "How does this translate to the TCP/IP chart? Is it like this:\n",
    "\n",
    "Application => HTTP request\n",
    "\n",
    "Transport => TCP (segment)\n",
    "\n",
    "Internet => IP packet\n",
    "\n",
    "Link/Data Link => Ethernet Frame => then sent via physical network\n",
    "\n",
    "When the host receives the request, it just unpacks all the PDUs at each level in reverse until it reaches the topmost HHTP data from the application? And then sends a response the same way as outlined above?\n",
    "\n",
    "\n",
    "##############\n",
    "\n",
    "Link: physical point-to-point communication\n",
    "Internet: logical point-to-point communication\n",
    "Transport: end-to-end communication between devices\n",
    "Application: end-to-end communication between applications\n",
    "\n",
    "###############\n",
    "\n",
    "1. we type in the URL into the search address field in the browser and hit \"Enter\". This is the top layer of the model -- HTTP request\n",
    "2. TCP adds some metadata as a header to the Data Payload from the HTTP request layer\n",
    "3. TCP segment is once again updated and gets the requesting IP address (website is converted to the e.g. 109.156.106.57) and the IP address of the recipient device (e.g. 109.156.106.254)\n",
    "4. Additional LAN metadata is added to the IP packet data to form an Ethernet Frame.\n",
    "5. The request is transferred over the physical network to the specified IP location of the website and gets the requested data.\n",
    "6. Data is transferred back to the LAN of the requesting device and loaded on this device.\n",
    "\n",
    "###############\n",
    "\n"
   ]
  },
  {
   "cell_type": "markdown",
   "id": "2492ccc8-71c7-4a7c-8b6b-da1829a48f15",
   "metadata": {
    "tags": []
   },
   "source": [
    "# <mark>Internet</mark>"
   ]
  },
  {
   "cell_type": "markdown",
   "id": "88fe7591-dc0d-47a6-8bd4-ca34ca8b9fb2",
   "metadata": {
    "tags": []
   },
   "source": [
    "## What is the internet?"
   ]
  },
  {
   "cell_type": "markdown",
   "id": "746b9eb0-afc8-491b-bfce-71d9e6e385e2",
   "metadata": {},
   "source": [
    "- A network is when at least two devices connect to communicate or exchange data\n",
    "- The internet is a network of networks or a vast number of networks connected together.\n",
    "- In between all of the sub-networks are systems of routers that direct network traffic.\n",
    "- The internet can be thought of as the infrastructure that enables inter-network communication, both in terms of the physical network and the lower-level protocols that control its use.\n",
    "- The internet is a vast network of networks. It is comprised of both the network infrastructure itself (devices, routers, switches, cables, etc) and the protocols that enable that infrastructure to function.<br><br>\n",
    "- The World Wide Web is a **service** that can be accessed via the internet. \n",
    "- It is a vast information system of resources which are navigable by means of a URL (Uniform Resource Locator).\n",
    "- HTTP is the primary means by which applications interact with the resources that make up the web.<br><br>\n",
    "- **HTML** is the means by which the resources on the Web should be uniformly structured.\n",
    "- **URI** is part of a system bu which resources should be uniformly addressed on the Web.\n",
    "- **HTTP** is the set of rules which provide uniformity to the way resources on the web are transferred between applications.<br><br>\n",
    "**The web is comprised of the resources that are being transported.  The internet is the infrastructure that enables the transfering.**"
   ]
  },
  {
   "cell_type": "markdown",
   "id": "568d0cca-6ed5-4e50-adcd-74057b429828",
   "metadata": {},
   "source": [
    "## What are protocols, and why are they necessary?"
   ]
  },
  {
   "cell_type": "markdown",
   "id": "0fc71f0c-bf5f-4597-8c11-5d57e3e7f4b3",
   "metadata": {},
   "source": [
    "- Protocols are a system or set of rules that govern the exchange or transmission of data.\n",
    "    - **Application**: HTTP\n",
    "    - **Session**: TLS or DTLS\n",
    "    - **Transport**: TCP or UDP\n",
    "    - **Internet / Network**: IP\n",
    "    - **Link / Data Link**: Ethernet\n",
    "- Main reasons why there are so many different protocols for network communication:\n",
    "    - Different protocols were developed to address different aspects of network communication.\n",
    "        - TCP and UDP would be examples of two protocols that address the same fundamental aspect of communication, the transfer of messages between applications, but do so differently.\n",
    "    - Different protocols were developed to address the same aspect of network communication but differently for a specific use case.\n",
    "        - TCP and HTTP are examples of two protocols that address different aspects of communication; TCP provides for the transfer of messages between applications, while HTTP defines the structure of those messages.\n",
    "- We need them because otherwise the many and varied devices on the network would not have a cohesive and uniform communication method\n",
    "- Different types of protocol are concerned with different aspects of network communication. It can be useful to think of these different protocols as operating at particular 'layers' of the network."
   ]
  },
  {
   "cell_type": "markdown",
   "id": "e2c785f7-c392-4d91-aa7f-1cbcd608bb58",
   "metadata": {},
   "source": [
    "## Explain how data encapsulation works in the context of a network model"
   ]
  },
  {
   "cell_type": "markdown",
   "id": "d97ee10a-350f-490c-9d57-0520d403f15c",
   "metadata": {},
   "source": [
    "- **Data Encapsulation** in the context of a network communication models means that we are essentially hiding data from one layer by encapsulating it within a data unit of the layer below.\n",
    "    - It is the process of packaging data of a PDU at a higher layer with metadata of a protocol at the current layer, forming a new PDU. In other words, a PDU of a protocol at a higher layer is encapsulated in a PDU of a protocol at the current layer.\n",
    "    - Encapsulation is a means by which protocols at different network layers can work together.\n",
    "- A **Protocol Data Unit (PDU)** is an amount or block of data transferred over a network.\n",
    "- Encapsulation is implemented through the use of Protocol Data Units (PDUs). The PDU of a protocol at one layer, becomes the data payload of the PDU of a protocol at a lower layer.\n",
    "- Different protocols or protocol layers refer to PDUs by different names:\n",
    "    - **Transport**: segment (TCP) or datagram (UDP)\n",
    "    - **Internet / Network**: packet\n",
    "    - **Link / Data Link**: frame\n",
    "- In all cases, the basic concept is effectively the same; the PDU consists of a header, a data payload, and in some cases a trailer or footer.\n",
    "- The header and trailer provide protocol-specific metadata about the PDU.  This meta-data attached to it's data payload tells it what to do.\n",
    "    - For example, an Internet Protocol (IP) packet header would include fields for the Source IP Address and the Destination IP Address, which would be used to correctly route the packet.\n",
    "- The data payload portion of a PDU is simply the data that we want to transport over the network using a specific protocol at a particular network layer.<br><br>\n",
    "- The data payload is the key to the way encapsulation is implemented.  **The entire PDU from a protocol at one layer is set as the data payload for a protocol at the layer below**.  \n",
    "    - For example, a HTTP Request at the Application layer could be set as the payload for a TCP segment at the transport layer.\n",
    "- The major benefit of this approach is the separation (abstraction) it creates between the protocols at different layers.\n",
    "- This means that a protocol at one layer doesn't need to know anything about how a protocol at another layer implemented in order for those protocols to interact.  \n",
    "- It can independently complete its specific communication task without information from other layers.\n",
    "- It doesn't really matter what the data payload is as long as the header information is complete and the layer can perform its intended function.\n",
    "- It creates a system whereby **a lower layer effectively provides a 'service' to the layer above it**.\n",
    "- This is particularly pertinent when there are many different protocols used at one network layer:\n",
    "    - For example, a TCP segment isn't really concerned whether its data payload is an HTTP request, an SMTP command, FTP or some other sort of Application layer data. **It just knows it needs to encapsulate some data from the layer above and provide the result of this encapsulation to the layer below**."
   ]
  },
  {
   "cell_type": "markdown",
   "id": "8242d9a7-5eb0-4c53-972e-83a6caba431d",
   "metadata": {},
   "source": [
    "## What is a Protocol Data Unit (PDU)? What is its purpose in the context of network communication?"
   ]
  },
  {
   "cell_type": "markdown",
   "id": "a9911eed-c0c1-4f5f-880f-dc7f3fa17a0a",
   "metadata": {},
   "source": [
    "- Protocol Data Unit\n",
    "- A block of data that gets transported over the network by the current \"governing\" protocol\n",
    "- The unit itself depends on the layer in which we are currently functioning\n",
    "- A PDU consists of a header which contains meta-data specific to the current protocol's responsibility/service\n",
    "- A PDU has a data payload which contains the entire PDU from the layer above the current layer\n",
    "- It might also have a trailer/footer\n",
    "- It facilitates encapsulation of data, allowing each protocol to operate a modularized process, and perform the service that it is allocated in conjunction with the other protocols that make up the network."
   ]
  },
  {
   "cell_type": "markdown",
   "id": "f20e4bf8-6a9f-4ec4-aef8-1b15850c34fa",
   "metadata": {},
   "source": [
    "## How do the different parts of a PDU interact?"
   ]
  },
  {
   "cell_type": "markdown",
   "id": "6c1fb849-09cb-4a40-a60d-77e4f2553f0a",
   "metadata": {},
   "source": [
    "- A PDU consists of a header, a data payload and an optional footer/trailer.\n",
    "- The header contains metadata concerning the current protocol, and this metadata facilitates the service the protocol is performing for the data payload.\n",
    "- The data payload is the data that we want to transport over the network using a specific protocol at a particular network layer.  It is the PDU of the layer above."
   ]
  },
  {
   "cell_type": "markdown",
   "id": "c0b88130-8712-47df-8981-f34c957c6232",
   "metadata": {},
   "source": [
    "## What is the physical network? What are the characteristics of the physical network?"
   ]
  },
  {
   "cell_type": "markdown",
   "id": "2add91f5-b8bc-4232-90f1-4274666a9361",
   "metadata": {},
   "source": [
    "- The physical layer is the tangible infrastructure (network devices (switches & routers), cables, wires) that transmits all previous encapsulated data (from the layers above) as bits in the form of electrical signals, light and radio waves which carry network communications.\n",
    "- The functionality at this level is essentially concerned with the transfer of bits (binary data) across a physical medium.\n",
    "- The physical limitations of networked communication, **latency** and **bandwidth**, all come as a result of unavoidable physical laws that govern this layer.\n",
    "- These limitations influence how developers use protocols in higher layers when building applications.\n",
    "- Because these physical limitations are inevitable, they must be mitigated by the choices of the developer, who should always seek to optimize by limiting their effects as much as possible."
   ]
  },
  {
   "cell_type": "markdown",
   "id": "e7f54d36-5fcd-4c96-9296-7cefff82d888",
   "metadata": {},
   "source": [
    "## Describe the different elements of latency and what each is caused by"
   ]
  },
  {
   "cell_type": "markdown",
   "id": "03cfb4b1-87d3-4120-b735-8b7ce1b538a3",
   "metadata": {},
   "source": [
    "- Latency is a measure of the time it takes for some data to get from one point in a network to another point in a network\n",
    "    - It is a measure of delay, which is the difference between the start and end.\n",
    "    - It is determined by real physical laws, such as the distance traveled and the speed of the signal traveling (i.e. speed of light, sound, or electricity).\n",
    "- Latency has four main aspects that occur during each network \"hop\" that data takes during its overall journey through the network:\n",
    "    - **Propagation delay**: this is the amount of time it takes for a message (the first bit) to travel from the sender to the receiver, and can be calculated as the ratio between distance and speed.\n",
    "    - **Transmission delay**: the amount of time it takes to push the data (all the packet's bits) onto the \"link\" or \"node\" (switches, routers, and other network devices) in the overall network\n",
    "    - **Processing delay**: Data travelling across the physical network doesn't directly cross from one link to another, but is processed in various ways; amount of time it takes to process the data within one of the \"nodes\" or \"links\" (for the router to process the packet)  in the overall network.\n",
    "    - **Queuing delay**: Network devices such as routers can only process a certain amount of data at one time. If there is more data than the device can handle, then it queues, or buffers, the data; the amount of time the data (packet) is waiting in the queue or \"buffer\" to be processed is the queuing delay.\n",
    "- The total latency between two points, such as a client and a server, is the sum of all these delays (usually given in milliseconds (ms)), plus any of the following delays:\n",
    "    - **Last-mile latency**: a \"slowing down\" that takes place at the network edge, as smaller and more frequent hops take place as data moves lower in the network hierarchy.  The most delay is introduced here.\n",
    "    - **Round-trip Time (RTT)**: the length of time for a signal to be sent, added to the length of time for an acknowledgement or response to be received.  \n",
    "        - This could refer to exchanges between 'nodes' on a P2P network, or exchanges between client and server.\n",
    "        - Latency overhead associated with additional round trips is often a trade off to consider when dealing with the implementation of network reliability in TCP at the transport layer."
   ]
  },
  {
   "cell_type": "markdown",
   "id": "d64f3998-648a-488c-9cdc-256a99b361cf",
   "metadata": {},
   "source": [
    "## What is the Ethernet protocol? What is its purpose in the context of network communication?"
   ]
  },
  {
   "cell_type": "markdown",
   "id": "c278daa7-8e6e-4cb7-a191-d562b90987e6",
   "metadata": {},
   "source": [
    "- The Ethernet Protocol is a set of standards and protocols that enables/governs communication between devices on a local network.  it is the most commonly used protocol at the link / data link layer.\n",
    "- The Ethernet protocol operating at the link/data link layer is primarily concerned with the identification of the next network \"node\" to which data should be sent and moving data over the physical network between the devices that comprise it, such as hosts (e.g. computers), switches, and routers.\n",
    "- Ethernet governs communication between devices in a local network, and is responsible for navigating to the correct physical address, rather than logical one (this is left to IP). For this reason, it acts as an interface between the physical infrastructure below it and the more logical layers above (nework, transport, application etc.).\n",
    "- It's PDU is called an Ethernet Frame.<br><br>\n",
    "- The Ethernet protocol provides two main functions:\n",
    "    - **Framing**, which provides logical structure to the streams of bits traveling through the physical infrastructure/layer of the network by categorizing data into 'fields' that have specific lengths and orders.\n",
    "        - **Ethernet Frames**: a Protocol Data Unit (PDU) that encapsulates data from the Internet/ Network layer above.\n",
    "        - The Link/ Data Link layer is the lowest layer at which encapsulation takes place.\n",
    "        - At the physical layer, the data is essentially a stream of bits in one form or another without any logical structure.\n",
    "        - Adds logical structure to this binary data.  The data in the frame is still in the form of bits, but the structure defines which bits are actually the data payload, and which are metadata (in the header) to be used in the process of transporting the frame.\n",
    "        - The \"fields\" of a frame include:\n",
    "            - **Source and Destination MAC address**: The source address is the physical address of the device which created the frame. The destination MAC address is the physical address of the device for which the data is ultimately intended.\n",
    "             - **Data Payload**: Contains the data for the entire Protocol Data Unit (PDU) from the layer above, (commonly) an IP Packet for example.\n",
    "            - A Frame does not have a header.\n",
    "    - **Addressing** which identifies the next network \"node\" to which data should be sent with the use of MAC addressing.  Identifies the intended recipient device.\n",
    "- With Ethernet there's decapsulation and re-encapsulation at every point on the journey. So when a device such as a router receives a frame that has an IP packet as its payload, it decapsulates the packet, and re-encapsulates it it into a new frame for the next 'hop' on its journey."
   ]
  },
  {
   "cell_type": "markdown",
   "id": "06377359-4d81-43c0-b546-efe09a91c10b",
   "metadata": {},
   "source": [
    "## What is a MAC address and what are its characteristics?"
   ]
  },
  {
   "cell_type": "markdown",
   "id": "2bf0356d-e2e6-4a5b-994d-1061679de421",
   "metadata": {},
   "source": [
    "- Ethernet uses **MAC addressing** to identify devices (rather than location) connected to the local network.  This is how Ethernet implements addressing\n",
    "- Since this address is linked to the specific physical device, and (usually) doesn't change, it is sometimes referred to as the **physical address** or **burned-in address**.\n",
    "- MAC Addresses are formatted as a sequence of six two-digit hexadecimal numbers, e.g. `00:40:96:9d:68:0a`, with different ranges of addresses being assigned to different network hardware manufacturers.\n",
    "- MAC addresses work well in LANs, where devices are connected to a central hub that recalls their specific MAC address or a swithc that can keep a record of each device's address.\n",
    "    - When using a hub to connect devices to create a network, each receiving device would check its MAC Address against the Desitination MAC Address in the Frame to check if it was the intended receipient.\n",
    "    - Sending every frame to every device on the network isn't very efficient, especially for large networks.\n",
    "    - Most modern networks instead use switches. Like a hub, a switch is a piece of hardware to which you connect devices to create a network. Unlike a hub however, a switch uses the destination address in order to direct a frame ***only*** to the device for which it is intended.\n",
    "- They do not work well in large decentralized systems, nor are they scalable:\n",
    "    - They are physical, not logical, i.e. they do not change based on location. Each MAC Address is tied (burned in) to a specific physical device\n",
    "    - The are flat, and do not posses a hierarchical structure that allows us to categorize them into searchable subdivisions. The entire address is a single sequence of values and can't be broken down into sub-divisions.\n",
    "- If we want to solve these problems, we need a different system of rules that doesn't have these limitations and that can scale in such a way that we can build a network of networks which spans the entire globe. The Internet Protocol provides just such a set of rules."
   ]
  },
  {
   "cell_type": "markdown",
   "id": "04025c35-f324-47bb-b8ce-cb88c5b5bcab",
   "metadata": {},
   "source": [
    "## What is the primary function of the Internet / Network Layer? What Protocols govern this function?"
   ]
  },
  {
   "cell_type": "markdown",
   "id": "fd1707d2-48f6-47da-87d3-2a7546b6d530",
   "metadata": {},
   "source": [
    "- Whereas the Ethernet protocol provides communication between devices on the same local network, the Internet Protocol enables communication between two networked devices anywhere in the world.\n",
    "- The primary function of protocols at this layer is to facilitate communication between hosts (e.g. computers) on different networks (i.e. inter-network communication).\n",
    "- The **Internet Protocol (IP)** is the predominant protocol used at this layer for inter-network communication. \n",
    "- The primary features of IP are:\n",
    "    - Routing capability via IP addressing\n",
    "    - Encapsulation of data into packets"
   ]
  },
  {
   "cell_type": "markdown",
   "id": "9fbf650a-60c2-4b38-b54f-8a4d5f4d0c86",
   "metadata": {},
   "source": [
    "## How does IP structure data and implement its functionality?"
   ]
  },
  {
   "cell_type": "markdown",
   "id": "6c082711-561d-447c-8ed2-99f4ed9c8814",
   "metadata": {},
   "source": [
    "- A **Packet** is the Protocol Data Unit (PDU) within the IP Protocol\n",
    "    - A packet consists of a header and a data payload\n",
    "    - Just as with Ethernet Frames, the data payload of an IP Packet is the PDU from the layer above (generally a TCP segment or a UDP datagram from the transport layer)\n",
    "    - The IP packet is responsible for routing all the encapsulated data on its journey, which consists of a series of network \"hops\", or jumps between various nodes (routers) on the overall network.\n",
    "    - The header is split into logical fields which provide metadata used in transporting the packet.\n",
    "    - The header fields include:\n",
    "        - **Source Address**: the 32-bit IP address of the source (sender) of the packet. \n",
    "        - **Destination Address**: the 32-bit IP address of the destination (intended recipient) of the packet.\n",
    "    - These addresses allow for IP addressing<br><br>\n",
    "- An **IP Address** is a unique address that we can use to identify a device or host on the internet.\n",
    "- The Internet Protocol uses a system of addressing (IP Addressing) to direct data between one device and another across networks.\n",
    "- IP is end to end (i.e. it only cares about the two end points in the communication, such as the client and server, not particularly about how the packets are routed through the network).\n",
    "- IP addresses have two main features that allow for inter-network communication across a large distributed system:\n",
    "    - They are logical: they are assigned as required when devices join a network\n",
    "        - Unlike MAC Addresses, IP Addresses are logical in nature. This means that they are not tied to a specific device, but can be assigned as required to devices as they join a network.\n",
    "    - They are hierarchical: the structure of the address allows us to categorize them into searchable subdivisions (subnets). The overall network is divided into logical sub-networks and numbers are allocated according to this hierarchy.\n",
    "        - A range of IP addresses is defined by network hierarchy, and each subnetwork is assigned a given range of addresses.\n",
    "        - The network address is assigned to the first address in the range and the broadcast address is assigned to be the last address in that range.\n",
    "- MAC addresses, due to their nature (physical (*not logical*), flat (*not hierarchical*), are not scalable. IP addresses fill this gap. Because they are logical and hierarchical, they work well in large distributed systems.\n",
    "- The IP address only gets us in communication with the intended device. It does not allow us to isolate any particular application or process running on that device. For that we need the Port numbers provided by the Transport Layer protocol."
   ]
  },
  {
   "cell_type": "markdown",
   "id": "19265726-05db-4bed-b83a-996f518e3664",
   "metadata": {},
   "source": [
    "## Why are there two versions of IP?"
   ]
  },
  {
   "cell_type": "markdown",
   "id": "2ff2c9dd-cca2-42cc-827e-67363b5be27c",
   "metadata": {},
   "source": [
    "- There are two types of IP addresses in two different versions of IP:\n",
    "    - IPv4 = 32-bit addresses provides 4.3 billion possible addresses, which is not enough for all the devices on the network\n",
    "    - IPv6 = 128-bit addresses provide 340 undecillion addresses, hopefully will be enough for a long time to come<br><br>"
   ]
  },
  {
   "cell_type": "markdown",
   "id": "1e6235a5-34af-4339-9feb-2aca039c0dd8",
   "metadata": {},
   "source": [
    "## What gaps in MAC addressing does IP addressing fill?"
   ]
  },
  {
   "cell_type": "markdown",
   "id": "ecac362f-158f-4f7b-a875-39de7ac4702d",
   "metadata": {},
   "source": [
    "- MAC addresses, due to their nature (physical (not logical), flat (not hierarchical), are not scalable. IP addresses fill this gap. Because they are logical and hierarchical, they work well in large distributed systems."
   ]
  },
  {
   "cell_type": "markdown",
   "id": "69b5ede1-29d2-4633-97a1-4e7c487c0ed0",
   "metadata": {},
   "source": [
    "## What does IP addressing allow us to do, and what does it not allow us to do?"
   ]
  },
  {
   "cell_type": "markdown",
   "id": "1ff2ebc4-ef83-4f07-8132-cfddb3441226",
   "metadata": {},
   "source": [
    "- The IP address only gets us in communication with the intended device. It does not allow us to isolate any particular application or process running on that device. For that we need the Port numbers provided by the Transport Layer protocol."
   ]
  },
  {
   "cell_type": "markdown",
   "id": "9a83640d-1872-4b71-b48b-f00bc753cf09",
   "metadata": {},
   "source": [
    "# <mark>TCP and UDP</mark>"
   ]
  },
  {
   "cell_type": "markdown",
   "id": "70230365-5fa6-4797-acb1-02e595cba9dc",
   "metadata": {},
   "source": [
    "## What is The Transport Layer and what is it concerned with?"
   ]
  },
  {
   "cell_type": "markdown",
   "id": "bdd10d60-94e3-42f7-8186-de34c58dc7b7",
   "metadata": {},
   "source": [
    "- TCP (Transmission Control Protocol) ensures reliable data transfer between applications on top of the unreliable channel of the lower-level protocols.\n",
    "- Enables end-to-end communication between a specific process running on two different devices\n",
    "- TCP provides multiplexing services.  This means it enables the transmission of multiple signals (data inputs) over a single channel, such as a single device communicating with the browser, the e-mail client, and streaming Spotify all through the same Network connection.\n",
    "- This is important because often there are multiple applications running on a single device, and yet IP addresses only provide a ***single channel***."
   ]
  },
  {
   "cell_type": "markdown",
   "id": "37055139-dcf4-4430-a7ac-2a7029e5a968",
   "metadata": {},
   "source": [
    "## How is multiplexing enabled?"
   ]
  },
  {
   "cell_type": "markdown",
   "id": "c1b15ad0-d799-4fdb-b3bf-6d64c84622e1",
   "metadata": {},
   "source": [
    "- In the context of a communication network, multiplexing is the idea of transmitting multiple signals over a single channel, such as a single device communicating with the browser, the e-mail client, and streaming Spotify all through the same Network connection.\n",
    "- Multiplexing is enabled through the use of network ports (port numbers) alongside IP addresses\n",
    "- Each specific process is assigned a single port, which can be used to identify that same process running on a different device.\n",
    "- An IP address and port number combined define a communication end-point known as a **network socket**.<br><br>\n",
    "- Essentially, the source and destination IP addresses in the packet header are used to create a single communication channel between hosts, while the source and destination port numbers (present in both TCP Segments and UDP Datagrams) are used to transmit multiple data inputs across that single channel, and to separate them out on the other side. This is the core of multiplexing and demultiplexing.\n",
    "- The difference in how this is executed between connectionless and connection-oriented protocols comes down to how the host machine handles the PDU that it receives. On a connectionless system, the host will have a single socket object \"listening\" for messages sent to that specific destination IP address / destination port number pair. It doesn't care where the messages come from or the order they're in -- it simply receives the messages as they arrive and sends responses as appropriate.\n",
    "- On a connection-oriented system, the host machine also has a socket object \"listening\" for messages sent to that specific IP address/ port pair. However, when it receives a message, it looks at the source IP address and source port number, and creates a new socket dedicated to listening to messages containing that specific \"four-tuple\" of information (source and destination IP address and port number). Further messages with a matching four-tuple are sent to and handled by that socket object.\n",
    "- So, while both protocols provide multiplexing and demultiplexing by including source and destination port numbers in their PDUs, **the difference between them comes down to how that information is utilized by the host machine** -- particularly with regards to the creation of new socket objects."
   ]
  },
  {
   "cell_type": "markdown",
   "id": "c012c0bd-f988-46c2-b043-ef52d473bcf6",
   "metadata": {},
   "source": [
    "## What is a socket? What is its purpose in the context of network communication?"
   ]
  },
  {
   "cell_type": "markdown",
   "id": "be495849-26a5-4ec1-81cf-4a4c12fb4b06",
   "metadata": {},
   "source": [
    "- A socket refers to the communication end-point that consists of the port number and IP address together.\n",
    "- The IP address gets us the correct device on the network, and the port number gets us to the correct application on that device.\n",
    "- Sockets facilitate multiplexing.<br><br>\n",
    "- Other things to consider:\n",
    "    - The ability to programmatically instantiate socket objects specifically defined to listen for particular communications (i.e. for a certain application from a certain host) allows for us to implement both connection oriented and connectionless communication systems.\n",
    "    - Conceptually, a socket facilitates multiplexing. On a practicl level, instantiation of a socket object in code can implement a TCP or UDP connection specifically."
   ]
  },
  {
   "cell_type": "markdown",
   "id": "49b3053b-8ece-4948-bc68-3ad9835cd6de",
   "metadata": {},
   "source": [
    "## What is the difference between a connectionless system and a connection-oriented system?"
   ]
  },
  {
   "cell_type": "markdown",
   "id": "39c126d0-7b24-4bb5-b65c-bf78b44a30fe",
   "metadata": {},
   "source": [
    "- A **connectionless system** relies on a single socket for all communication, does not establish dedicated communication channels, and responds to all communication individually as they arrive.\n",
    "    - There is one socket object defined by the IP address of the host machine and the port assigned to a particular process running on that machine.\n",
    "    - That object could call a `listen()` method which would allow it to wait for incoming messages directed to that particular IP/port pair.\n",
    "    - It would simply process any incoming messages as they arrived and send any responses as necessary.\n",
    "    - It does not matter from what process transmissions come, a single socket listens to all messages regardless and responds to each as it arrives.\n",
    "    - This is useful because it is \n",
    "        - a) a simpler and more flexible process than a connection-oriented system and \n",
    "        - b) it reduces latency overhead because a connection does not have to be established.<br><br>\n",
    "- A **connection-oriented system** instantiates new socket object to establish a dedicated virtual connection channel between two processes running on separate devices.\n",
    "    - It doesn't start sending application data until a connection has been established between application processes\n",
    "    - This is done by having a socket object defined by the host IP and process port use a `listen()` method to wait for incoming messages.\n",
    "    - When new communication comes into the first listening socket, a new socket is created.  This new socket object is defined by both the local IP and port number and the IP and port of the host/process which sent the message.\n",
    "    - This new socket listens specifically for messages that match its four-tuple, i.e. the IP and port of sender along with the IP and port of the receiver.\n",
    "    - Implementing communication in this way effectively creates a dedicated virtual connection for communication between a specific process running on one host and a specific process running on another host. \n",
    "    - The advantage of having a dedicated connection like this is that it more easily allows you to put in place rules for managing the communication such as the order of messages, acknowledgements that messages had been received, retransmission of messages that weren't received, and so on."
   ]
  },
  {
   "cell_type": "markdown",
   "id": "f3785218-1394-4fed-a85f-2eb437c4a1e9",
   "metadata": {},
   "source": [
    "## How are connections in a connection-oriented system recognized?"
   ]
  },
  {
   "cell_type": "markdown",
   "id": "5a3126d7-c522-40e2-82d2-197156756f45",
   "metadata": {},
   "source": [
    "- Via a four-tuple:\n",
    "    - IP and port of sender\n",
    "    - IP and port of receiver"
   ]
  },
  {
   "cell_type": "markdown",
   "id": "1539115d-9289-4c0a-8707-0bdaeeaf8ebe",
   "metadata": {},
   "source": [
    "## What is the TCP protocol? What services does it provide?"
   ]
  },
  {
   "cell_type": "markdown",
   "id": "80f25c4c-cd3a-451b-a18c-ce5d8db1388c",
   "metadata": {},
   "source": [
    "- TCP (Transmission Control Protocol) ensures reliable data transfer between applications on top of the unreliable channel of the lower-level protocols.\n",
    "- Enables end-to-end communication between a specific process running on two different devices \n",
    "- TCP provides reliability through message acknowledgement and retransmission, and in-order delivery.\n",
    "- The reliability of TCP comes from the TCP three-way handshake process, which has four main features:\n",
    "    - data integrity\n",
    "    - de-duplication\n",
    "    - in-order delivery\n",
    "    - retransmission of lost data.\n",
    "- **Segments** are the Protocol Data Unit (PDU) of TCP. Like the PDUs of protocols we've looked at for other network layers, it uses a combination of headers and payload to provide encapsulation of data from the layer above.\n",
    "    - Data from the application layer is encapsulated as the data payload in this PDU, and the source and destination port numbers within the PDU can be used to direct that data to specific processes on a host. \n",
    "    - The Source and Destination port numbers are fields in the segment header, while data such as an HTTP request is part of the payload.\n",
    "    - It provides five main services:\n",
    "        - **Multiplexing** through source and destination port numbers\n",
    "        - **Error detection** corrupt data is identified using a checksum\n",
    "        - **In-order deliver, handling data loss, and handling data duplication (data reliability)** through sequence and acknowledgment numbers\n",
    "            - **In-order delivery**: data is received in the order that it was sent\n",
    "            - **Handling data loss**: missing data is retransmitted based on acknowledgements and timeouts\n",
    "            - **Handling duplication**: duplicate data is eliminated through the use of sequence numbers\n",
    "        - **Flow control** through window size data\n",
    "        - **Congestion avoidance** through dynamic adjustment of flow according to data loss"
   ]
  },
  {
   "cell_type": "markdown",
   "id": "ac1172ce-13ea-4ff7-80eb-b9b5262af507",
   "metadata": {},
   "source": [
    "## What are the steps for the three-way handshake? What is its purpose?"
   ]
  },
  {
   "cell_type": "markdown",
   "id": "044cc84f-81fa-42fc-acbe-a28d8ec477e6",
   "metadata": {},
   "source": [
    "- The three-way handshake is what TCP uses to establish a dedicated and reliable connections between processes over the network.\n",
    "- First the sender sends a SYN segment, which ostensibly asks if the receiver is ready to receive.\n",
    "- Upon receipt of the SYN segment, the receiver sends back a SYN ACK segment, indicating that it received the previous message and ensuring its messages are also being received.\n",
    "- Finally, upon receiving the SYN ACK, the original sender sends an ACK segment, indicating it is also receiving messages from the receiver, and the connection can be (and subsequently is) established.\n",
    "- This not only ensures a reliable connection between both devices, but synchronizes sequence numbers that will be used during the connection.\n",
    "- It is this aspect of TCP that enables network reliability, that is, handling data loss through message acknowledgement, and ensuring in order delivery and de-duplication via the synchronized segment numbers.\n",
    "- A key characteristic of the process is that the sender cannot send any application data until after it has sent the ACK Segment.\n",
    "- What this means in practical terms, is that there is an entire round-trip of latency before any application data can be exchanged. Since this hand-shake process occurs every time a TCP connection is made, this clearly has an impact on any application which uses TCP at the transport layer.\n",
    "- This can contribute to the overall latency of the trip, due to its complexity."
   ]
  },
  {
   "cell_type": "markdown",
   "id": "5b6472fb-3154-47a5-b8d4-171b580abd33",
   "metadata": {},
   "source": [
    "## What are the disadvantages of TCP?"
   ]
  },
  {
   "cell_type": "markdown",
   "id": "9326b8f6-e656-45c5-9d00-ea1045eb80fc",
   "metadata": {},
   "source": [
    "- The **main downsides of TCP** are the latency overhead of establishing a connection, and the potential Head-of-line blocking as a result of in-order delivery.\n",
    "    - TCP provides reliability at the cost of speed (that is, its reliability functions can contribute greatly to latency)\n",
    "    -  The added overhead due to the need of establishing a connection with the three-way handshake, which can add up to two round trip times of latency.\n",
    "    - **Head-of-Line (HOL) blocking** relates to how issues in delivering or processing one message in a sequence of messages can delay or 'block' the delivery or processing of the subsequent messages in the sequence.\n",
    "        - HOL blocking can occur as a result of the fact that TCP provides for in-order delivery of segments. If one of the segments goes missing and needs to be retransmitted, the segments that come after it in the sequence can't be processed, and need to be buffered until the retransmission has occurred.\n",
    "        - This can lead to increased queuing delay which is one of the elements of latency.\n",
    "- It's not as flexible as protocols like UDP"
   ]
  },
  {
   "cell_type": "markdown",
   "id": "dc2673f9-f721-42d4-98b5-8d9bc9f7106f",
   "metadata": {},
   "source": [
    "## What is flow control?"
   ]
  },
  {
   "cell_type": "markdown",
   "id": "4221680f-6078-4c3f-bd08-03d8c2277fda",
   "metadata": {},
   "source": [
    "- Flow congestion is a mechanism to prevent the sender from overwhelming the receiver with too much data at once (i.e. without the receipt of acknowledgements from the receiver).\n",
    "- Provided by TCP, flow control helps to ensure that data is transmitted as efficiently as possible.\n",
    "- This, in turn, helps to mitigate the increased latency inherent in TCP connections.\n",
    "- It is implemented via the window field of the TCP segment header.\n",
    "    - Each side of a connection can let the other side know the amount of data that it is willing to accept\n",
    "    - The window header field contains data sent by the receiver letting the sender know the maximum amount of data it can accept at any given time.  \n",
    "    - This number is dynamically generated, and therefore the receiver can lower the amount if the buffer is getting full, and the sender will respond accordingly.\n",
    "    - Data awaiting processing is stored in a **'buffer'**. The buffer size will depend on the amount of memory allocated according to the configuration of the OS and the physical resources available."
   ]
  },
  {
   "cell_type": "markdown",
   "id": "a8d7b3a0-6599-461f-98b4-73716e282338",
   "metadata": {},
   "source": [
    "## What is congestion avoidance?"
   ]
  },
  {
   "cell_type": "markdown",
   "id": "03f7eea8-b940-488d-8e82-455007f7515b",
   "metadata": {},
   "source": [
    "- Congestion avoidance is a service provided by TCP that attempts to prevent network congestion, a situation in which more data is being transmitted than there is capacity.\n",
    "- To implement this, TCP uses data loss as a feedback mechanism to determine how \"congested\" the network is, by tracking how many retransmissions are required.\n",
    "- A lot of data loss, or a lot of retransmissions, indicates there is more data on the network than there is capacity to process that data.\n",
    "- TCP will take this as a sign to reduce the size of the transmission window, that is, it will send less data along the given channel.\n",
    "- This is done to make data transmission as efficient as possible to mitigate the latency overhead inherent in TCP connections."
   ]
  },
  {
   "cell_type": "markdown",
   "id": "26ffbcb2-bcd6-4d51-8c61-785c2f69b29c",
   "metadata": {},
   "source": [
    "## What is UDP? What services does it provide?"
   ]
  },
  {
   "cell_type": "markdown",
   "id": "305b554e-2bfa-4062-8c11-ed04fcf608ad",
   "metadata": {},
   "source": [
    "- User Datagram Protocol (UDP) is a very simple protocol compared to TCP. It provides multiplexing (through source and destination port numbers) and ***optional*** error detection (through checksum), but no reliability, no in-order delivery, and no congestion or flow control.\n",
    "- It establishes end-to-end connections between processes in the Transport Layer.\n",
    "- Unlike TCP, it doesn't provide very many reliability features (other than checksum), which it makes up for with its speed and flexibility\n",
    "- UDP is connectionless and so doesn't need to establish a connection before it starts sending data\n",
    "- Specifically, UDP provides speed because it doesn't take the time to establish a dedicated connection, its lack of in-order delivery means no latency due to Head-of-Line blocking, and the one way data flow (there are no acknowledgments) of a connectionless system cuts down on latency due to extra round trips, and since it is a connectionless protocol, it provides no connection state tracking.\n",
    "- UDP is a base that programmers can build upon. They can add features as desired at the Application layer.\n",
    "- Specifics of what type of reliability functions to include are left up to the developer to implement at the Application level."
   ]
  },
  {
   "cell_type": "markdown",
   "id": "b313a57b-c109-4e45-bc88-255dd05d7ff0",
   "metadata": {},
   "source": [
    "## What is the PDU for UDP and how is it structured?"
   ]
  },
  {
   "cell_type": "code",
   "execution_count": null,
   "id": "007c107b-b4b1-476c-8677-b127f0c81564",
   "metadata": {},
   "outputs": [],
   "source": [
    "datagram\n",
    "headers:\n",
    "source port and destination port which provides for multiplexing and socket routing\n",
    "length\n",
    "checksum\n",
    "data payload:\n",
    "encapsulated HTTP request/response\n"
   ]
  }
 ],
 "metadata": {
  "kernelspec": {
   "display_name": "Ruby 2.7.5",
   "language": "ruby",
   "name": "ruby"
  },
  "language_info": {
   "file_extension": ".rb",
   "mimetype": "application/x-ruby",
   "name": "ruby",
   "version": "2.7.5"
  }
 },
 "nbformat": 4,
 "nbformat_minor": 5
}
