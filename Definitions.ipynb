{
 "cells": [
  {
   "cell_type": "markdown",
   "id": "e90cec69-f4eb-4a3b-b075-4466d1ad0b22",
   "metadata": {
    "toc-hr-collapsed": true
   },
   "source": [
    "<h1> <mark>Internet</mark></h1>"
   ]
  },
  {
   "cell_type": "markdown",
   "id": "b4fa09f5-a22c-43ae-a985-20e08bb90241",
   "metadata": {},
   "source": [
    "## What is the Internet?"
   ]
  },
  {
   "cell_type": "markdown",
   "id": "51783769-d732-45d5-b96f-29f6f7456a8e",
   "metadata": {},
   "source": [
    "- **Internet**: a vast network of networks. It is comprised of both the network infrastructure itself (devices, routers, switches, cables, etc) and the protocols that enable that infrastructure to function.\n",
    "- **Network**: two devices connected in such a way that they can communicate or exchange data. \n",
    "- **Local Area Network**: multiple computers and other devices connected via a network bridging device such as a hub or, more likely, a switch.  The computers are all connected to this device via network cables, and this forms the network.\n",
    "- **Inter-network Communication**: communication between networks\n",
    "- **Routers**: network devices that can route network traffic to other networks. Within a Local Area Network, they effectively act as gateways into and out of the network.\n",
    "- **A Network of Networks**: we can imagine the internet as a vast number of these networks connected together. In between all of the sub-networks are systems of routers that direct the network traffic."
   ]
  },
  {
   "cell_type": "markdown",
   "id": "9ee7b2d8-6ab4-4a48-b025-1083b04c7bdc",
   "metadata": {},
   "source": [
    "## Protocols"
   ]
  },
  {
   "cell_type": "markdown",
   "id": "c3dd110a-8d3f-4c6c-8620-1e92fe1044de",
   "metadata": {},
   "source": [
    "- **Protocols**: a system of rules that govern the exchange or transmission of data.  Network protocols are systems of rules governing the exchange or transmission of data over a network.\n",
    "- **TCP and UDP**: examples of two protocols that address the same fundamental aspect of communication, the transfer of messages between applications, but do so differently.\n",
    "- **TCP and HTTP**: examples of two protocols that address different aspects of communication; TCP provides for the transfer of messages between applications, while HTTP defines the structure of those messages."
   ]
  },
  {
   "cell_type": "markdown",
   "id": "a983c036-2ffd-409b-a9f5-6be9a4b2b89f",
   "metadata": {},
   "source": [
    "## A Layered System"
   ]
  },
  {
   "cell_type": "markdown",
   "id": "c88b9ebc-2396-4a54-8730-1b7399f406c3",
   "metadata": {},
   "source": [
    "- **The Internet Protocol Suite (TCP/IP model or DoD model)**: model for computer network communication that divides the layers in terms of the scope of communications within each layer (within a local network, between networks, etc).\n",
    "- **The OSI model**:  model for computer network communication that divides the layers in terms of the functions that each layer provides (physical addressing, logical addressing and routing, encryption, compression, etc).\n",
    "- **Data Encapsulation**: a means by which protocols at different network layers can work together.\n",
    "    - hiding data from one layer by encapsulating it within a data unit of the layer below.\n",
    "    - The entire PDU from a protocol at one layer is set as the data payload for a protocol at the layer below.\n",
    "    - Implemented through the use of Protocol Data Units (PDUs)\n",
    "- **Protocol Data Unit (PDU)**: is an amount or block of data transferred over a network.  The PDU consists of a header, a data payload, and in some cases a trailer or footer\n",
    "    - **frame**: a PDU at the Link/ Data Link layer\n",
    "    - **Packet**: a PDU at the Internet/ Network layer\n",
    "    - **segment or datagram**: a PDU at the Transport layer\n",
    "- **Header**: to provide protocol-specific metadata about the PDU.\n",
    "- **Data payload**: portion of a PDU which is the data that we want to transport over the network using a specific protocol at a particular network layer.  The key to the way encapsulation is implemented."
   ]
  },
  {
   "cell_type": "markdown",
   "id": "b4092029-8ce7-4998-9729-e36a53a1a3c2",
   "metadata": {},
   "source": [
    "## The Physical Network"
   ]
  },
  {
   "cell_type": "markdown",
   "id": "db7c016d-620d-4c16-9a96-9df465ba5e03",
   "metadata": {},
   "source": [
    "- **Physical Layer**: The physical network is the tangible infrastructure that transmits the electrical signals, light, and radio waves which carry network communications.\n",
    "    - The functionality at this level is essentially concerned with the transfer of bits (binary data)\n",
    "- **Latency**: a measure of the time it takes for some data to get from one point in a network to another point in a network.\n",
    "    - a measure of delay.  The difference between the start and end point is the delay.\n",
    "    - The total latency between two points, such as a client and a server, is the sum of all the delays below. This value is usually given in milliseconds (ms).<br><br>\n",
    "    - **Propagation delay**: this is the amount of time it takes for a message to travel from the sender to the receiver, and can be calculated as the ratio between distance and speed. \n",
    "    - **Transmission delay**: the amount of time it takes to push the data onto the link\n",
    "    - **Processing delay**: Data travelling across the physical network doesn't directly cross from one link to another, but is processed in various ways.\n",
    "    - **Queuing delay**: The amount of time the data is waiting in the queue to be processed is the queuing delay.<br><br>\n",
    "- **Network Hops**: the journey of a piece of data on the network isn't direct from the start point to the end point but will consist of several 'hops', or journeys, between nodes on the network.<br><br>\n",
    "- **Bandwidth** - is the amount of data that can be sent in a particular unit of time (typically, a second).\n",
    "    -  a measure of capacity.\n",
    "- **Bandwidth bottleneck**: a point at which bandwidth changes from relatively high to relatively low."
   ]
  },
  {
   "cell_type": "markdown",
   "id": "0b6ca376-fc3a-4300-baab-cb794a055739",
   "metadata": {},
   "source": [
    "## The Link/ Data Link Layer"
   ]
  },
  {
   "cell_type": "markdown",
   "id": "1f5b273c-f030-4ec9-9906-ce59adb3fb41",
   "metadata": {},
   "source": [
    "- **The link / data link layer**: the protocols operating at this layer are primarily concerned with the identification of devices on the physical network and moving data over the physical network between the devices that comprise it, such as hosts (e.g. computers), switches, and routers.\n",
    "    - an interface between the workings of the physical network and the more logical layers above.\n",
    "- **Ethernet Protocol**: a set of standards and protocols that enables communication between devices on a local network.\n",
    "    - Ethernet cables are network cables used to connect devices on the network such as computers, switches, and routers.  The technical specification of these cables is governed by the same IEEE standards that include the Ethernet communication protocols \n",
    "- **Ethernet Frames**: a Protocol Data Unit that encapsulates data from the Internet/ Network layer above.\n",
    "    - adds logical structure to this binary data.\n",
    "    - The data in the frame is still in the form of bits, but the structure defines which bits are actually the data payload, and which are metadata to be used in the process of transporting the frame.\n",
    "    - The \"fields\" of a frame:\n",
    "        - **Source and Destination MAC address**: The source address is the address of the device which created the frame.  The destination MAC address is the address of the device for which the data is ultimately intended.\n",
    "        - **Data Payload**: Contains the data for the entire Protocol Data Unit (PDU) from the layer above, an IP Packet for example.\n",
    "- **Interframe Gap**: a brief pause between the transmission of each frame, which permits the receiver to prepare to receive the next frame.\n",
    "- **Hub**: a basic piece of network hardware that replicates a message and forwards it to all of the devices on the network.\n",
    "- **Switch**: a piece of hardware to which you connect devices to create a network.\n",
    "    - a switch uses the destination address in order to direct a frame only to the device for which it is intended.\n",
    "- **MAC addressing**: Ethernet uses MAC addressing to identify devices connected to the local network.\n",
    "    - since this address is linked to the specific physical device, and (usually) doesn't change, it is sometimes referred to as the physical address or burned-in address."
   ]
  },
  {
   "cell_type": "markdown",
   "id": "8b903d75-1378-4670-83ab-3d9536846e74",
   "metadata": {},
   "source": [
    "## The Internet/ Network Layer"
   ]
  },
  {
   "cell_type": "markdown",
   "id": "f9f772c4-663c-4ce5-83a0-8e70abe87263",
   "metadata": {},
   "source": [
    "- **The Internet/ Network Layer**: the primary function of protocols at this layer is to facilitate communication between hosts (e.g. computers) on different networks.\n",
    "- **Internet Protocol (IP)**: the predominant protocol used at this layer for inter-network communication.\n",
    "- **IP Address**: a unique address that we can use to identify a device or host on the internet.\n",
    "- **Subnetting**: The splitting of a network into parts.\n",
    "    - It is the hierarchical structure of IP Addresses that allows networks to be logically split into subnets.\n",
    "    - There are two versions of IP currently in use: IPv4 and IPv6.\n",
    "- **Packet**: The Protocol Data Unit (PDU) within the IP Protocol\n",
    "    - Just as with Ethernet Frames, the Data Payload of an IP Packet is the PDU from the layer above (the Transport layer).\n",
    "    - It will generally be a TCP segment or a UDP datagram.\n",
    "- **IP addressing**: the Internet Protocol uses a system of addressing (IP Addressing) to direct data between one device and another across networks.\n",
    "- **IP Addresses (IPv4)**: Unlike MAC Addresses, IP Addresses are logical in nature. This means that they are not tied to a specific device, but can be assigned as required to devices as they join a network.\n",
    "    - IP addresses are represented by 4 sets of numbers, each containing 8 bits of information. The first two sets of numbers usually references the network and sub-network, respectively. The third is the host, and the fourth part references a machine connected to that host. This choice represents the most widely used type of IP address used at the moment, IPv4.\n",
    "- **IP Addresses (IPv6)**: Since IPv6 uses 128-bit addresses (eight 16-bit blocks), this increases the theoretical number of possible addresses to approximately 340 undecillion\n",
    "    - There is also a new standard for IP addresses which is in the process of being adopted, IPv6. This representation of an IP address is broken into 8 sets of hexadecimal characters, each containing 16 bits of information. The first 4 sets are used to locate a specific network on the internet. The last 4 sets are typically used to identify a particular interface or device within that network."
   ]
  },
  {
   "cell_type": "markdown",
   "id": "5346c4c4-f6d6-44ef-8f0e-9bfae82272c8",
   "metadata": {},
   "source": [
    "<h1> <mark>The Transport Layer</mark></h1>"
   ]
  },
  {
   "cell_type": "markdown",
   "id": "675ed86a-4a18-411d-8963-1a3ddc88a6bf",
   "metadata": {},
   "source": [
    "## Communication Between Processes\n",
    "\n",
    "- **Internet Protocol (IP)**: IP and its system of addressing is intended to provide communication between hosts, or devices, but not any more than that.\n",
    "    - In IP packets, the source and destination IP addresses are contained in the packet header and can be used to identify the host machines. This effectively creates a communication channel between hosts.\n",
    "- **Multiplexing**: In the context of a communication network, this is the idea of transmitting multiple signals over a single channel\n",
    "    - Multiplexing is enabled through the use of network ports\n",
    "- **Demultiplex**: the reverse process; a process reconverting a signal containing multiple analog or digital signal streams back into the original separate and unrelated signals.\n",
    "- **Port**: an identifier for a specific process running on a host.\n",
    "    - The source and destination port numbers are included in the Protocol Data Units (PDU) for the transport layer.\n",
    "    - Data from the application layer is encapsulated as the data payload in this PDU, and the source and destination port numbers within the PDU can be used to direct that data to specific processes on a host.\n",
    "    - The entire PDU is then encapsulated as the data payload in an IP packet.\n",
    "    - The IP address and the port number together are what enables end-to-end communication between specific applications on different machines.\n",
    "- **Nestsat**: The netstat utility should return a list of active network connections\n",
    "    - The important thing to notice here is that the Local Address and Foreign Address are combinations of IP address and port number.\n",
    "- **Socket**: an abstraction for an endpoint used for inter-process communication; a communication end-point defined by an address-port pair.\n",
    "    - The combination of IP address and port number information can be thought of as defining a communication end-point.\n",
    "    - This communication end-point is generally referred to as a socket.\n",
    "    - One important thing to be clear on though is that there is a distinction between the concept of a network socket and its implementation in code.\n",
    "    - At the implementation level, network sockets can also be socket objects\n",
    "- **Connectionless system**: \n",
    "    - one socket object defined by the IP address of the host machine and the port assigned to a particular process running on that machine.\n",
    "    - That object could call a `listen()` method which would allow it to wait for incoming messages directed to that particular IP/port pair.\n",
    "    - It would simply process any incoming messages as they arrived and send any responses as necessary.\n",
    "- **Connection-oriented system**: doesn't start sending application data until a connection has been established between application processes\n",
    "    - You could have a socket object defined by the host IP and process port, just as in the connectionless system, also using a listen() method to wait for incoming messages\n",
    "    - The difference in implementation would be in what happens when a message arrives.\n",
    "    - At this point we could instantiate a new socket object; this new socket object wouldn't just be defined by the local IP and port number, but also by the IP and port of the process/host which sent the message.\n",
    "    - This new socket object would then listen specifically for messages where all four pieces of information matched (source port, source IP, destination port, destination IP). The combination of these four pieces of information is commonly referred to as a **four-tuple**.\n",
    "    - The purpose of these types of additional communication rules is to add more **reliability to the communication**.\n",
    "    \n",
    "## Transmission Control Protocol (TCP)\n",
    "\n",
    "- **Unreliable communication channel**: The underlying network is inherently unreliable. If we want reliable data transport we need to implement a system of rules to enable it.\n",
    "- **Transmission Control Protocol (TCP)**: a connection-oriented protocol. It establishes a connection using the Three-way-handshake\n",
    "    - It doesn't start sending application data until a connection has been established between application processes.\n",
    "    - TCP provides reliability through data integrity,, message acknowledgement and retransmission, and in-order delivery.\n",
    "    - The main downsides of TCP are the latency overhead of establishing a connection, and the potential Head-of-line blocking as a result of in-order delivery.\n",
    "- **Segments**: the Protocol Data Unit (PDU) of TCP.\n",
    "    - it uses a combination of headers and payload to provide encapsulation of data from the layer above.\n",
    "- **Three-way Handshake**: What TCP uses to establish a connection\n",
    "    - The sender sends a SYN message (a TCP Segment with the SYN flag set to 1)\n",
    "    - Upon receiving this SYN message, the receiver sends back a SYN ACK message (a TCP Segment with the SYN and ACK flags set to 1)\n",
    "    - Upon receiving the SYN ACK, the sender then sends an ACK (a TCP Segment with the ACK flag set to 1)\n",
    "    - Upon sending the ACK, the sender can immediately start sending application data.\n",
    "    - The receiver must wait until it has received the ACK before it can send any data back to the sender.\n",
    "    - A key characteristic of the process is that the sender cannot send any application data until after it has sent the ACK Segment.\n",
    "- **Flow control** is a mechanism to prevent the sender from overwhelming the receiver with too much data at once.\n",
    "    - Data awaiting processing is stored in a **'buffer'**. The buffer size will depend on the amount of memory allocated according to the configuration of the OS and the physical resources available.\n",
    "- **Network Congestion** is a situation that occurs when there is more data being transmitted on the network than there is network capacity to process and transmit the data.\n",
    "    - TCP actually uses data loss as a feedback mechanism to detect, and avoid, network congestion; if lots of retransmissions are occurring, TCP takes this as a sign that the network is congested and reduces the size of the transmission window.\n",
    "- **Head-of-Line (HOL) blocking**: relates to how issues in delivering or processing one message in a sequence of messages can delay or 'block' the delivery or processing of the subsequent messages in the sequence.\n",
    "    - HOL blocking can occur as a result of the fact that TCP provides for in-order delivery of segments. If one of the segments goes missing and needs to be retransmitted, the segments that come after it in the sequence can't be processed, and need to be buffered until the retransmission has occurred.\n",
    "    - This can lead to increased queuing delay which is one of the elements of latency.\n",
    "\n",
    "### User Datagram Protocol (UDP)\n",
    "\n",
    "- **Datagram**: the Protocol Data Unit (PDU) of UDP.\n",
    "- **User Datagram Protocol (UDP)**: a very simple protocol compared to TCP. It provides multiplexing, but no reliability, no in-order delivery, and no congestion or flow control.\n",
    "    - UDP is connectionless, and so doesn't need to establish a connection before it starts sending data\n",
    "    - Although it is unreliable, the advantage of UDP is speed and flexibility."
   ]
  },
  {
   "cell_type": "markdown",
   "id": "5e9cb404-0877-400f-becd-097fd0562008",
   "metadata": {},
   "source": [
    "<h1> <mark>Intro to HTTP</mark></h1>"
   ]
  },
  {
   "cell_type": "markdown",
   "id": "113f8d92-7140-4a85-90e1-2254b7948836",
   "metadata": {},
   "source": [
    "## The Application Layer\n",
    "\n",
    "- **Application Layer**: Both the TCP/IP model and the OSI model define an Application layer as the topmost layer in their respective layered systems.\n",
    "    - Something to be clear about here is that the application layer is not the application itself, but rather a set of protocols which provide communication services to applications.\n",
    "    - Application layer protocols rely on the protocols at the layers below them to ensure that a message gets to where it is supposed to, and focus instead on the **structure of that message and the data that it should contain**.\n",
    "- **Application Layer Protocols**: The rules for how applications talk to each other at a syntactical level.\n",
    "    - HTTP is the primary protocol used for communication on the Web.\n",
    "\n",
    "## HTTP and the Web\n",
    "\n",
    "- **World Wide Web**: or web for short, is a service that can be accessed via the internet.\n",
    "    - It is a vast information system comprised of resources which are navigable by means of a URL (Uniform Resource Locator)\n",
    "    - HTTP is the primary means by which applications interact with the resources which make up the web.\n",
    "- **Hypertext Markup Language (HTML)**: was the means by which the resources in this system should be uniformly structured.\n",
    "- **Uniform Resource Identifier (URI)**: a string of characters which identifies a particular resource. It is part of a system by which resources should be uniformly addressed on the Web.\n",
    "- **Hypertext Transfer Protocol (HTTP)**: is the set of rules which provide uniformity to the way resources on the web are transferred between applications.\n",
    "\n",
    "## Introduction to HTTP\n",
    "\n",
    "### Background\n",
    "\n",
    "- **HTTP**: or Hypertext Transfer Protocol, is a system of rules, a protocol, that serve as a link between applications and the transfer of hypertext documents.\n",
    "    - Under your browser's hood lies a collection of files -- CSS, HTML, Javascript, videos, images, etc. -- that makes displaying the page possible.\n",
    "    - All these files were sent from a server to your browser, the client, by an application protocol called HTTP.\n",
    "    - HTTP operates at the application layer and is concerned with structuring the messages that are exchanged between applications.\n",
    "    - It is TCP/IP that's doing all the heavy lifting and ensuring that the request/response cycle gets completed between your browser and the server.\n",
    "- **Request response protocol**: HTTP follows a simple model where a client makes a request to a server and waits for a response.\n",
    "- **IP Address (Internet Protocol Address)**: All devices that participate in a network are provided unique labels. \n",
    "    - **Port** numbers add more detail about how to communicate\n",
    "    - An IP Address acts as the identifier for a device or server, which can contain hundreds or thousands of ports, each used for a different communication purpose to that device or server.\n",
    "    - Effective communication begins when each device has a public IP address provided by an Internet Service Provider.\n",
    "- **DNS**: or Domain Name System is a distributed database which translates/maps domain names like `www.google.com` to an IP address, so that the IP address can then be used to make a request to the server.\n",
    "    - DNS databases are stored on computers called **DNS servers**.\n",
    "    - [Typical Interaction with Internet](https://launchschool.com/books/http/read/background#howtheinternetworks)\n",
    "- **Client**: The most common client is an application you interact with on a daily basis called a Web Browser.\n",
    "     - Web browsers are responsible for issuing HTTP requests and processing the HTTP response in a user-friendly manner onto your screen.\n",
    "- **Server**: The content you're requesting is located on a remote computer called a server.\n",
    "    - Servers are nothing more than machines or devices capable of handling inbound requests, and their job is to issue a response back.\n",
    "    - Often, the response they send back contains relevant data as specified in the request.\n",
    "- **Resources**: a generic term for things you interact with on the Internet via a URL.\n",
    "    - This includes images, videos, web pages and other files.\n",
    "    - Resources can also be in the form of software that lets you trade stock or play a video game.\n",
    "- **Stateless**: A protocol is said to be stateless when it's designed in such a way that each request/response pair is completely independent of the previous one.\n",
    "    - HTTP is a stateless protocol, which means that the server does not need to hang on to information, or state, between requests.\n",
    "\n",
    "### What is a URL?\n",
    "\n",
    "- **URL**: A URL is a subset of URI, but the two terms are often used interchangeably.\n",
    "    - A URL is like that address or phone number you need in order to visit or communicate with your friend.\n",
    "    - A URL is the most frequently used part of the general concept of a **Uniform Resource Identifier** or **URI**, which specifies how resources are located.\n",
    "    - A URL is a subset of URI that includes the network location of the resource.\n",
    "    - URL components include the:\n",
    "        - **scheme**: tells the web client how/which protocol to use to access the resource.\n",
    "        - **host (or hostname)**: It tells the client where the resource is hosted or located.\n",
    "        - **port**: It is only required if you want to use a port other than the default.\n",
    "        - **path**: It shows what local resource is being requested. This part of the URL is optional.\n",
    "        - **query string/parameters**: made up of query parameters. It is used to send data to the server. This part of the URL is also optional.\n",
    "            - Query strings are used to pass additional data to the server during an HTTP Request. They take the form of **name/value pairs** separated by an`=` sign. Multiple name/value pairs are separated by an `&` sign. The start of the query string is indicated by a `?`.\n",
    "            - Because query strings are passed in through the URL, they are only used in HTTP GET requests.\n",
    "- **URI**: A URI is an identifier for a particular resource within an information space.\n",
    "- **URL Encoding**: a technique whereby certain characters in a URL are replaced with an ASCII code.\n",
    "    - URL encoding is used if a character has no corresponding character in the ASCII set, is unsafe because it is used for encoding other characters, or is reserved for special use within the url.\n",
    "    - Only alphanumeric and special characters `$-_.+!'()\"`, and reserved characters when used for their reserved purposes can be used unencoded within a URL.\n",
    "\n",
    "### Making HTTP Requests\n",
    "\n",
    "- **A single HTTP message exchange**: consists of a Request and a Response. \n",
    "    - The exchange generally takes place between a Client and a Server. The client sends a Request to the server and the server sends back a Response.\n",
    "- **HTTP Request**: consists of a request line, headers, and an optional body.\n",
    "- **GET requests**: Used to retrieve a resource\n",
    "    - initiated by clicking a link or via the address bar of a browser.\n",
    "- **POST request**: Used when you want to initiate some action on the server, or send data to a server.\n",
    "    - Typically from within a browser, you use POST when submitting a form.\n",
    "    - Using a POST request in a form fixes the  problem of exposing credentials in the URL query string\n",
    "    - sPOST requests also help sidestep the query string size limitation that you have with GET requests. With POST requests, we can send significantly larger forms of information to the server.\n",
    "- **HTTP body** - the body contains the data that is being transmitted in an HTTP message and is optional. \n",
    "    - In other words, an HTTP message can be sent with an empty body. When used, the body can contain HTML, images, audio and so on.\n",
    "- **HTTP Response**: consists of a status line, optional headers, and an optional body.\n",
    "    - Raw data returned by the server is called a response.\n",
    "- **HTTP Headers**: allow the client and the server to send additional information during the HTTP request/response cycle.\n",
    "    - Headers are colon-separated name-value pairs that are sent in plain text.\n",
    "- **Status Codes**: part of the status line in a Response. They indicate the status of the request. There are various categories of status code.\n",
    "    - **302 Found**: When your browser sees a response status code of 302, it knows that the resource has been moved, and will automatically follow the new re-routed URL in the Location response header.\n",
    "    - **404 Not Found**: The server returns this status code when the requested resource cannot be found.\n",
    "    - **500 Internal Server Error**: A 500 status code says \"there's something wrong on the server side\".\n",
    "\n",
    "### Stateful Web Applications\n",
    "\n",
    "- **Stateless**: HTTP is a stateless protocol. This means that each Request/ Response cycle is independent of Request and Responses that came before or those that come after.\n",
    "    - This statelessness is what makes HTTP and the internet so distributed and difficult to control, but it's also the same ephemeral attribute that makes it difficult for web developers to build stateful web applications.\n",
    "- **Statefulness**: can be simulated through techniques which use session IDs, cookies, and AJAX.\n",
    "- **Sessions**: One way to maintain a sense of statefulness is to have the server send some form of a unique token to the client.  Whenever a client makes a request to that server, the client appends this token as part of the request, allowing the server to identify clients.\n",
    "    - we call this unique token that gets passed back and forth the **session identifier**.\n",
    "    - This mechanism of passing a session id back and forth between the client and server creates a sense of persistent connection between requests.\n",
    "- **Cookie**: a piece of data that's sent from the server and stored in the client during a request/response cycle.\n",
    "    - Small files stored in the browser and contain the session information.\n",
    "    - Session data is generated and stored on the server-side and the session id is sent to the client in the form of a cookie.\n",
    "    - The client side cookie is compared with the server-side session data on each request to identify the current session.\n",
    "- **AJAX**: Its main feature is that it allows browsers to issue requests and process responses without a full page refresh.\n",
    "    - AJAX is short for Asynchronous JavaScript and XML.\n",
    "    - When AJAX is used, all requests sent from the client are performed asynchronously, which just means that the page doesn't refresh.\n",
    "- **Sending stateful data as query parameters when making a request**: This approach used to be nearly universal, but is mostly gone from all modern web sites.\n",
    "\n",
    "### Security\n",
    "- HTTP is inherently insecure. Security can be increased by using HTTPS, enforcing Same-origin policy, and using techniques to prevent Session Hijacking and Cross-site Scripting.\n",
    "- **Secure HTTP, or HTTPS**: With HTTPS every request/response is encrypted before being transported on the network.\n",
    "    - This means if a malicious hacker sniffed out the HTTP traffic, the information would be encrypted and useless.\n",
    "    - HTTPS sends messages through a cryptographic protocol called TLS for encryption.\n",
    "    - A resource that's accessed by HTTPS will start with `https://` instead of `http://`, and usually be displayed with a lock icon in most browsers.\n",
    "- **Same-origin policy**: permits unrestricted interaction between resources originating from the same origin, but restricts certain interactions between resources originating from different origins.\n",
    "    - By **origin**, we mean the combination of the **scheme**, **host**, and **port**.\n",
    "- **Cross-origin resource sharing, or CORS**: CORS is a mechanism that allows interactions that would normally be restricted cross-origin to take place.\n",
    "- **Session Hijacking**: when an attacker gets a hold of the session id, both the attacker and the user now share the same session and both can access the web application.\n",
    "    - Countermeasures for Session Hijacking include:\n",
    "        - Resetting sessions. With authentication systems, this means a successful login must render an old session id invalid and create a new one.\n",
    "        - Setting an expiration time on sessions\n",
    "        - Use HTTPS across the entire app to minimize the chance that an attacker can get to the session id\n",
    "- **Cross-Site Scripting (XSS)**: This type of attack happens when you allow users to input HTML or JavaScript that ends up being displayed by the site directly.\n",
    "    - Because it's just a normal HTML `<textarea>`, users are free to input anything into the form. This means users can add raw HTML and JavaScript into the text area and submit it to the server as well\n",
    "    - If the server side code doesn't do any sanitization of input, the user input will be injected into the page contents, and the browser will interpret the HTML and JavaScript and execute it.\n",
    "    - Potential solutions for cross-site scripting include:\n",
    "        - making sure to always sanitize user input. This is done by eliminating problematic input, such as `<script>` tags, or by disallowing HTML and JavaScript input altogether.\n",
    "        - Escape all user input data when displaying it so that the browser does not interpret it as code.  (To escape a character means to replace an HTML character with a combination of ASCII characters, which tells the client to display that character as is, and to not process it)\n",
    "        \n",
    "## Some Background and Diagrams\n",
    "\n",
    "- **HTTP**: the canonical definition is a stateless protocol for how clients communicate with servers.\n",
    "    - A client that issues an HTTP request to the server. The server then processes the request, and sends a response back to the client.\n",
    "    - The 3 primary server-side infrastructure pieces include:\n",
    "        - A **web server**: typically a server that responds to requests for static assets: files, images, css, javascript, etc.\n",
    "        - An **application server**: typically where application or business logic resides, and is where more complicated requests are handled. This is where your server-side code lives when deployed.\n",
    "        - **Data store**: The application server will often consult a persistent **data store**, like a relational database, to retrieve or create data.\n",
    "            -  It can be used to persist our data between stateless request/response cycles. That is, the data doesn't go away after each cycle, but persists inside the data store."
   ]
  },
  {
   "cell_type": "code",
   "execution_count": null,
   "id": "f066871b-ce4a-4775-b2c7-8d694117caac",
   "metadata": {},
   "outputs": [],
   "source": []
  }
 ],
 "metadata": {
  "kernelspec": {
   "display_name": "Ruby 2.7.5",
   "language": "ruby",
   "name": "ruby"
  },
  "language_info": {
   "file_extension": ".rb",
   "mimetype": "application/x-ruby",
   "name": "ruby",
   "version": "2.7.5"
  }
 },
 "nbformat": 4,
 "nbformat_minor": 5
}
