{
 "cells": [
  {
   "cell_type": "markdown",
   "id": "45dccb13-c495-4559-9ae8-1d4c9a542fa5",
   "metadata": {},
   "source": [
    "**Groups of protocols work in a layered system. Protocols at one layer provide services to the layer above.**\n",
    "\n",
    "- The PDU from one layer is encapsulated in the data payload from the layer **BELOW**.\n",
    "- How do protocols at one layer provide services for the layer **ABOVE**?"
   ]
  },
  {
   "cell_type": "markdown",
   "id": "0a5867f7-608f-449d-8da3-37ee509d7ed6",
   "metadata": {},
   "source": [
    "**Connectionless v. connection oriented system**\n",
    "- How do they work?"
   ]
  },
  {
   "cell_type": "markdown",
   "id": "8de8a62b-590e-44c4-85b7-56dad08aa10a",
   "metadata": {},
   "source": [
    "**Does an HTTP response contain a response or status line?**"
   ]
  },
  {
   "cell_type": "markdown",
   "id": "f38b186a-98da-4812-9712-415f7a16a2f6",
   "metadata": {},
   "source": [
    "<b>\n",
    "    \n",
    "- The ability to programmatically instantiate socket objects specifically defined to listen for particular communications (i.e. for a certain application from a certain host) allows for us to implement both connection oriented and connectionless communication systems.\n",
    "    \n",
    "- Conceptually, a socket facilitates multiplexing. On a practical level, instantiation of a socket object in code can implement a TCP or UDP connection specifically\n",
    "</b>"
   ]
  },
  {
   "cell_type": "markdown",
   "id": "27c44bde-e070-49fc-b0b0-33f3d7162d88",
   "metadata": {},
   "source": [
    "- Need clarification"
   ]
  }
 ],
 "metadata": {
  "kernelspec": {
   "display_name": "Ruby 2.7.5",
   "language": "ruby",
   "name": "ruby"
  },
  "language_info": {
   "file_extension": ".rb",
   "mimetype": "application/x-ruby",
   "name": "ruby",
   "version": "2.7.5"
  }
 },
 "nbformat": 4,
 "nbformat_minor": 5
}
