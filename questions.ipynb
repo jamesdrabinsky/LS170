{
 "cells": [
  {
   "cell_type": "markdown",
   "id": "45dccb13-c495-4559-9ae8-1d4c9a542fa5",
   "metadata": {},
   "source": [
    "**Groups of protocols work in a layered system. Protocols at one layer provide services to the layer above.**\n",
    "\n",
    "- The PDU from one layer is encapsulated in the data payload from the layer **BELOW**.\n",
    "- How do protocols at one layer provide services for the layer **ABOVE**?"
   ]
  },
  {
   "cell_type": "markdown",
   "id": "0a5867f7-608f-449d-8da3-37ee509d7ed6",
   "metadata": {},
   "source": [
    "**Connectionless v. connection oriented system**\n",
    "- How do they work?"
   ]
  },
  {
   "cell_type": "markdown",
   "id": "8de8a62b-590e-44c4-85b7-56dad08aa10a",
   "metadata": {},
   "source": [
    "**Does an HTTP response contain a response or status line?**"
   ]
  },
  {
   "cell_type": "code",
   "execution_count": null,
   "id": "d12940c7-7a47-412a-bcd4-55466675ce21",
   "metadata": {},
   "outputs": [],
   "source": []
  }
 ],
 "metadata": {
  "kernelspec": {
   "display_name": "Ruby 2.7.5",
   "language": "ruby",
   "name": "ruby"
  },
  "language_info": {
   "file_extension": ".rb",
   "mimetype": "application/x-ruby",
   "name": "ruby",
   "version": "2.7.5"
  }
 },
 "nbformat": 4,
 "nbformat_minor": 5
}
