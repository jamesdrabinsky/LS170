{
 "cells": [
  {
   "cell_type": "markdown",
   "id": "d2c9c6ef-82bc-42af-bf67-c1cfdacafc64",
   "metadata": {},
   "source": [
    "**1.**"
   ]
  },
  {
   "cell_type": "code",
   "execution_count": null,
   "id": "d54760c6-a72a-4f00-9e9e-c0696d849df5",
   "metadata": {},
   "outputs": [],
   "source": []
  },
  {
   "cell_type": "markdown",
   "id": "1d88fa9c-856e-40c9-931a-e5fdcead1a91",
   "metadata": {},
   "source": [
    "**2.**"
   ]
  },
  {
   "cell_type": "code",
   "execution_count": null,
   "id": "702b9747-276e-42e6-aefb-16cc93d413cc",
   "metadata": {},
   "outputs": [],
   "source": []
  },
  {
   "cell_type": "markdown",
   "id": "e1058f2c-7518-4a9d-bf87-956fbb8c6f52",
   "metadata": {},
   "source": [
    "**3.**"
   ]
  },
  {
   "cell_type": "code",
   "execution_count": null,
   "id": "66232210-e105-4955-b4ce-2c0f0db56ffd",
   "metadata": {},
   "outputs": [],
   "source": []
  },
  {
   "cell_type": "markdown",
   "id": "377c50af-aa23-48a7-84c4-b859e530a7c4",
   "metadata": {},
   "source": [
    "**4.**"
   ]
  },
  {
   "cell_type": "code",
   "execution_count": null,
   "id": "16af967e-46df-4792-9785-114f80c7b9fc",
   "metadata": {},
   "outputs": [],
   "source": []
  },
  {
   "cell_type": "markdown",
   "id": "eb4df319-7c83-44c1-b11b-914066ec7ceb",
   "metadata": {},
   "source": [
    "**5.**"
   ]
  },
  {
   "cell_type": "code",
   "execution_count": null,
   "id": "7e0a2681-a5c3-4fc3-abc6-1b946d832849",
   "metadata": {},
   "outputs": [],
   "source": []
  },
  {
   "cell_type": "markdown",
   "id": "7d778636-3d02-4145-bb26-26d41dc75737",
   "metadata": {},
   "source": [
    "**6.**"
   ]
  },
  {
   "cell_type": "code",
   "execution_count": null,
   "id": "c54c432b-2949-423b-9f73-89b490954fd3",
   "metadata": {},
   "outputs": [],
   "source": []
  },
  {
   "cell_type": "markdown",
   "id": "1963b719-6d61-4d26-b199-2c7ddcdd513f",
   "metadata": {},
   "source": [
    "**7.**"
   ]
  },
  {
   "cell_type": "code",
   "execution_count": null,
   "id": "b9aa2cc1-519d-4ad5-be78-fa15748bb98b",
   "metadata": {},
   "outputs": [],
   "source": []
  },
  {
   "cell_type": "markdown",
   "id": "1d81260d-913f-4d60-a8ec-3291d6752b49",
   "metadata": {},
   "source": [
    "**8.**"
   ]
  },
  {
   "cell_type": "markdown",
   "id": "da9b29b7-5d2b-42c5-a27a-d3ebde1f869b",
   "metadata": {},
   "source": []
  },
  {
   "cell_type": "markdown",
   "id": "366fdf65-2179-4927-9325-d5c1123bfabd",
   "metadata": {},
   "source": [
    "**9.**"
   ]
  },
  {
   "cell_type": "code",
   "execution_count": null,
   "id": "85a4e4a8-a54d-42ea-867f-1f17c0af4516",
   "metadata": {},
   "outputs": [],
   "source": []
  },
  {
   "cell_type": "markdown",
   "id": "0494e14f-189a-4687-be2f-bcdc73edee2c",
   "metadata": {},
   "source": [
    "**10.**"
   ]
  },
  {
   "cell_type": "code",
   "execution_count": null,
   "id": "028262d5-9768-4d80-930e-3838a3a50aa0",
   "metadata": {},
   "outputs": [],
   "source": []
  },
  {
   "cell_type": "markdown",
   "id": "027da165-8cd0-41fd-8be5-510e14d2ffba",
   "metadata": {},
   "source": [
    "**11.**"
   ]
  },
  {
   "cell_type": "markdown",
   "id": "31c0a42a-fe17-4e7f-8413-f5ad1de76f82",
   "metadata": {},
   "source": []
  },
  {
   "cell_type": "markdown",
   "id": "79742f72-362a-44ed-aaec-26128233bb33",
   "metadata": {},
   "source": [
    "**12.**"
   ]
  },
  {
   "cell_type": "code",
   "execution_count": null,
   "id": "b3528b8b-a8a3-4a51-9ba1-87d1460bf1b8",
   "metadata": {},
   "outputs": [],
   "source": []
  },
  {
   "cell_type": "markdown",
   "id": "c08d1af3-d293-4cbf-a6c1-6691e5a14002",
   "metadata": {},
   "source": [
    "**13.**"
   ]
  },
  {
   "cell_type": "code",
   "execution_count": null,
   "id": "46cb9c64-b4ea-44de-bca5-7421d51871d6",
   "metadata": {},
   "outputs": [],
   "source": []
  },
  {
   "cell_type": "markdown",
   "id": "3500b2b1-32d4-4d64-95b3-50282052cb1f",
   "metadata": {},
   "source": [
    "**14.**"
   ]
  },
  {
   "cell_type": "code",
   "execution_count": null,
   "id": "04b54e18-d907-4251-be7a-0979da48f408",
   "metadata": {},
   "outputs": [],
   "source": []
  },
  {
   "cell_type": "markdown",
   "id": "70e02bf2-e5b1-4249-bb26-86b013953479",
   "metadata": {},
   "source": [
    "**15.**"
   ]
  },
  {
   "cell_type": "code",
   "execution_count": null,
   "id": "741bea09-8944-4c6f-a7cd-d4de9646cc75",
   "metadata": {},
   "outputs": [],
   "source": []
  },
  {
   "cell_type": "markdown",
   "id": "27d77868-c0d7-4ebc-aa86-42d5ecc0315e",
   "metadata": {},
   "source": [
    "**16.**"
   ]
  },
  {
   "cell_type": "code",
   "execution_count": null,
   "id": "ec0328ae-acdc-4188-8e34-222508c26b2f",
   "metadata": {},
   "outputs": [],
   "source": []
  },
  {
   "cell_type": "markdown",
   "id": "a365f9a3-f5b7-4486-bfc1-4e0a43230fb9",
   "metadata": {},
   "source": [
    "**17.**"
   ]
  },
  {
   "cell_type": "code",
   "execution_count": null,
   "id": "a59348ce-84fa-4cb8-b2a0-576db8ab01bf",
   "metadata": {},
   "outputs": [],
   "source": []
  },
  {
   "cell_type": "markdown",
   "id": "f4751cb4-c2b2-4eae-a987-023d8963e2c2",
   "metadata": {},
   "source": [
    "**18.**"
   ]
  },
  {
   "cell_type": "code",
   "execution_count": null,
   "id": "bfe2f2c7-2227-4b9e-b006-e293f8d0b2ec",
   "metadata": {},
   "outputs": [],
   "source": []
  },
  {
   "cell_type": "markdown",
   "id": "f767b177-7d85-49ee-8f81-44cffb385f70",
   "metadata": {},
   "source": [
    "**19.**"
   ]
  },
  {
   "cell_type": "code",
   "execution_count": null,
   "id": "1582620f-8b2e-4709-96ce-7529aa7343eb",
   "metadata": {},
   "outputs": [],
   "source": []
  },
  {
   "cell_type": "markdown",
   "id": "a0267474-e95b-4d9e-bb34-9bd00e6e1982",
   "metadata": {},
   "source": [
    "**20.**"
   ]
  },
  {
   "cell_type": "code",
   "execution_count": null,
   "id": "7a6bb9de-52bb-48e6-80cf-a36bcde018a0",
   "metadata": {},
   "outputs": [],
   "source": []
  },
  {
   "cell_type": "markdown",
   "id": "2289d418-604e-4852-bece-f56e9c0d8711",
   "metadata": {},
   "source": [
    "**21.**"
   ]
  },
  {
   "cell_type": "code",
   "execution_count": null,
   "id": "e8024f82-1d3c-4589-bc62-042657c13e8c",
   "metadata": {},
   "outputs": [],
   "source": []
  },
  {
   "cell_type": "markdown",
   "id": "79a2a493-c46a-4153-83c9-bd38b04defee",
   "metadata": {},
   "source": [
    "**22.**"
   ]
  },
  {
   "cell_type": "code",
   "execution_count": null,
   "id": "c225c951-5376-454f-916b-4cea2d8762dd",
   "metadata": {},
   "outputs": [],
   "source": []
  }
 ],
 "metadata": {
  "kernelspec": {
   "display_name": "",
   "name": ""
  },
  "language_info": {
   "name": ""
  }
 },
 "nbformat": 4,
 "nbformat_minor": 5
}
